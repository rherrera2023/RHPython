{
 "cells": [
  {
   "cell_type": "markdown",
   "id": "86d1d012",
   "metadata": {},
   "source": [
    "# Merging your Instacart Data"
   ]
  },
  {
   "cell_type": "markdown",
   "id": "7c567992",
   "metadata": {},
   "source": [
    "# 1. If you haven’t merged your prepared Instacart orders data with the new orders_products_prior dataframe per the instructions in this Exercise, do so now."
   ]
  },
  {
   "cell_type": "markdown",
   "id": "1d409e3c",
   "metadata": {},
   "source": [
    "df_ords and df_prods dataframes don’t contain a common column. How, then, are you supposed to combine them? \n",
    "\n",
    "To solve this problem, you’ll combine your df_ords dataframe with a new dataframe called orders_products_prior."
   ]
  },
  {
   "cell_type": "code",
   "execution_count": 1,
   "id": "240cea7f",
   "metadata": {},
   "outputs": [],
   "source": [
    "# Importing libraries\n",
    "import pandas as pd\n",
    "import numpy as np\n",
    "import os"
   ]
  },
  {
   "cell_type": "markdown",
   "id": "9d4e7815",
   "metadata": {},
   "source": [
    "# Import the data set as a new dataframe"
   ]
  },
  {
   "cell_type": "code",
   "execution_count": 2,
   "id": "2a7221b1",
   "metadata": {},
   "outputs": [],
   "source": [
    "# Define path to the dfs\n",
    "path = r'/Users/renataherrera/Documents/CF RH 2023-2024/CF DATA IMMERSION/CF RH A4 PYTHON/RH_PYTHON_Instacart Basket Analysis'"
   ]
  },
  {
   "cell_type": "code",
   "execution_count": 3,
   "id": "a2b11de6",
   "metadata": {},
   "outputs": [],
   "source": [
    "# Importing prepared data orders_checked.csv df\n",
    "df_ords = pd.read_csv(os.path.join(path, '02 Data', 'Prepared Data', 'orders_checked.csv'), index_col = False)"
   ]
  },
  {
   "cell_type": "code",
   "execution_count": 4,
   "id": "3dce4b93",
   "metadata": {},
   "outputs": [],
   "source": [
    "# Importing new original data orders_products_prior.csv df\n",
    "df_ords_prior = pd.read_csv(os.path.join(path, '02 Data', 'Original Data', 'orders_products_prior.csv'), index_col = False)"
   ]
  },
  {
   "cell_type": "code",
   "execution_count": 5,
   "id": "a46c6301",
   "metadata": {},
   "outputs": [
    {
     "data": {
      "text/html": [
       "<div>\n",
       "<style scoped>\n",
       "    .dataframe tbody tr th:only-of-type {\n",
       "        vertical-align: middle;\n",
       "    }\n",
       "\n",
       "    .dataframe tbody tr th {\n",
       "        vertical-align: top;\n",
       "    }\n",
       "\n",
       "    .dataframe thead th {\n",
       "        text-align: right;\n",
       "    }\n",
       "</style>\n",
       "<table border=\"1\" class=\"dataframe\">\n",
       "  <thead>\n",
       "    <tr style=\"text-align: right;\">\n",
       "      <th></th>\n",
       "      <th>order_id</th>\n",
       "      <th>product_id</th>\n",
       "      <th>add_to_cart_order</th>\n",
       "      <th>reordered</th>\n",
       "    </tr>\n",
       "  </thead>\n",
       "  <tbody>\n",
       "    <tr>\n",
       "      <th>0</th>\n",
       "      <td>2</td>\n",
       "      <td>33120</td>\n",
       "      <td>1</td>\n",
       "      <td>1</td>\n",
       "    </tr>\n",
       "    <tr>\n",
       "      <th>1</th>\n",
       "      <td>2</td>\n",
       "      <td>28985</td>\n",
       "      <td>2</td>\n",
       "      <td>1</td>\n",
       "    </tr>\n",
       "    <tr>\n",
       "      <th>2</th>\n",
       "      <td>2</td>\n",
       "      <td>9327</td>\n",
       "      <td>3</td>\n",
       "      <td>0</td>\n",
       "    </tr>\n",
       "    <tr>\n",
       "      <th>3</th>\n",
       "      <td>2</td>\n",
       "      <td>45918</td>\n",
       "      <td>4</td>\n",
       "      <td>1</td>\n",
       "    </tr>\n",
       "    <tr>\n",
       "      <th>4</th>\n",
       "      <td>2</td>\n",
       "      <td>30035</td>\n",
       "      <td>5</td>\n",
       "      <td>0</td>\n",
       "    </tr>\n",
       "  </tbody>\n",
       "</table>\n",
       "</div>"
      ],
      "text/plain": [
       "   order_id  product_id  add_to_cart_order  reordered\n",
       "0         2       33120                  1          1\n",
       "1         2       28985                  2          1\n",
       "2         2        9327                  3          0\n",
       "3         2       45918                  4          1\n",
       "4         2       30035                  5          0"
      ]
     },
     "execution_count": 5,
     "metadata": {},
     "output_type": "execute_result"
    }
   ],
   "source": [
    "# Check the output\n",
    "df_ords_prior.head()"
   ]
  },
  {
   "cell_type": "markdown",
   "id": "e0922185",
   "metadata": {},
   "source": [
    "Get into the habit of using the head() function to ensure nothing looks off about your imported dataframes."
   ]
  },
  {
   "cell_type": "markdown",
   "id": "b5f7ac6d",
   "metadata": {},
   "source": [
    "You’ll also want to run some shape checks on both dataframes using the shape function. This is a great way to confirm the total size of your imported dataframes:"
   ]
  },
  {
   "cell_type": "code",
   "execution_count": 6,
   "id": "f66c4c36",
   "metadata": {},
   "outputs": [
    {
     "data": {
      "text/plain": [
       "(32434489, 4)"
      ]
     },
     "execution_count": 6,
     "metadata": {},
     "output_type": "execute_result"
    }
   ],
   "source": [
    "df_ords_prior.shape"
   ]
  },
  {
   "cell_type": "code",
   "execution_count": 7,
   "id": "4fee0992",
   "metadata": {},
   "outputs": [
    {
     "data": {
      "text/plain": [
       "(3421083, 9)"
      ]
     },
     "execution_count": 7,
     "metadata": {},
     "output_type": "execute_result"
    }
   ],
   "source": [
    "#  Confirm the total size of your imported dataframes\n",
    "df_ords.shape"
   ]
  },
  {
   "cell_type": "markdown",
   "id": "12df8b5e",
   "metadata": {},
   "source": [
    "your new dataframe is quite large. This is because it contains each and every order of each and every user—as well as what exactly they ordered"
   ]
  },
  {
   "cell_type": "code",
   "execution_count": 8,
   "id": "b05b3af7",
   "metadata": {},
   "outputs": [
    {
     "data": {
      "text/html": [
       "<div>\n",
       "<style scoped>\n",
       "    .dataframe tbody tr th:only-of-type {\n",
       "        vertical-align: middle;\n",
       "    }\n",
       "\n",
       "    .dataframe tbody tr th {\n",
       "        vertical-align: top;\n",
       "    }\n",
       "\n",
       "    .dataframe thead th {\n",
       "        text-align: right;\n",
       "    }\n",
       "</style>\n",
       "<table border=\"1\" class=\"dataframe\">\n",
       "  <thead>\n",
       "    <tr style=\"text-align: right;\">\n",
       "      <th></th>\n",
       "      <th>Unnamed: 0.1</th>\n",
       "      <th>Unnamed: 0</th>\n",
       "      <th>order_id</th>\n",
       "      <th>user_id</th>\n",
       "      <th>eval_set</th>\n",
       "      <th>order_number</th>\n",
       "      <th>orders_day_of_week</th>\n",
       "      <th>order_hour_of_day</th>\n",
       "      <th>days_since_previous_order</th>\n",
       "    </tr>\n",
       "  </thead>\n",
       "  <tbody>\n",
       "    <tr>\n",
       "      <th>0</th>\n",
       "      <td>0</td>\n",
       "      <td>0</td>\n",
       "      <td>2539329</td>\n",
       "      <td>1</td>\n",
       "      <td>prior</td>\n",
       "      <td>1</td>\n",
       "      <td>2</td>\n",
       "      <td>8</td>\n",
       "      <td>NaN</td>\n",
       "    </tr>\n",
       "    <tr>\n",
       "      <th>1</th>\n",
       "      <td>1</td>\n",
       "      <td>1</td>\n",
       "      <td>2398795</td>\n",
       "      <td>1</td>\n",
       "      <td>prior</td>\n",
       "      <td>2</td>\n",
       "      <td>3</td>\n",
       "      <td>7</td>\n",
       "      <td>15.0</td>\n",
       "    </tr>\n",
       "    <tr>\n",
       "      <th>2</th>\n",
       "      <td>2</td>\n",
       "      <td>2</td>\n",
       "      <td>473747</td>\n",
       "      <td>1</td>\n",
       "      <td>prior</td>\n",
       "      <td>3</td>\n",
       "      <td>3</td>\n",
       "      <td>12</td>\n",
       "      <td>21.0</td>\n",
       "    </tr>\n",
       "    <tr>\n",
       "      <th>3</th>\n",
       "      <td>3</td>\n",
       "      <td>3</td>\n",
       "      <td>2254736</td>\n",
       "      <td>1</td>\n",
       "      <td>prior</td>\n",
       "      <td>4</td>\n",
       "      <td>4</td>\n",
       "      <td>7</td>\n",
       "      <td>29.0</td>\n",
       "    </tr>\n",
       "    <tr>\n",
       "      <th>4</th>\n",
       "      <td>4</td>\n",
       "      <td>4</td>\n",
       "      <td>431534</td>\n",
       "      <td>1</td>\n",
       "      <td>prior</td>\n",
       "      <td>5</td>\n",
       "      <td>4</td>\n",
       "      <td>15</td>\n",
       "      <td>28.0</td>\n",
       "    </tr>\n",
       "  </tbody>\n",
       "</table>\n",
       "</div>"
      ],
      "text/plain": [
       "   Unnamed: 0.1  Unnamed: 0  order_id  user_id eval_set  order_number  \\\n",
       "0             0           0   2539329        1    prior             1   \n",
       "1             1           1   2398795        1    prior             2   \n",
       "2             2           2    473747        1    prior             3   \n",
       "3             3           3   2254736        1    prior             4   \n",
       "4             4           4    431534        1    prior             5   \n",
       "\n",
       "   orders_day_of_week  order_hour_of_day  days_since_previous_order  \n",
       "0                   2                  8                        NaN  \n",
       "1                   3                  7                       15.0  \n",
       "2                   3                 12                       21.0  \n",
       "3                   4                  7                       29.0  \n",
       "4                   4                 15                       28.0  "
      ]
     },
     "execution_count": 8,
     "metadata": {},
     "output_type": "execute_result"
    }
   ],
   "source": [
    "# Check the output\n",
    "df_ords.head()"
   ]
  },
  {
   "cell_type": "code",
   "execution_count": 9,
   "id": "e32185e1",
   "metadata": {},
   "outputs": [],
   "source": [
    "# Importing prepared data orders_checked.csv df\n",
    "df_prods = pd.read_csv(os.path.join(path, '02 Data', 'Prepared Data', 'products_checked.csv'), index_col = False)"
   ]
  },
  {
   "cell_type": "code",
   "execution_count": 10,
   "id": "822e2d36",
   "metadata": {},
   "outputs": [
    {
     "data": {
      "text/html": [
       "<div>\n",
       "<style scoped>\n",
       "    .dataframe tbody tr th:only-of-type {\n",
       "        vertical-align: middle;\n",
       "    }\n",
       "\n",
       "    .dataframe tbody tr th {\n",
       "        vertical-align: top;\n",
       "    }\n",
       "\n",
       "    .dataframe thead th {\n",
       "        text-align: right;\n",
       "    }\n",
       "</style>\n",
       "<table border=\"1\" class=\"dataframe\">\n",
       "  <thead>\n",
       "    <tr style=\"text-align: right;\">\n",
       "      <th></th>\n",
       "      <th>Unnamed: 0</th>\n",
       "      <th>product_id</th>\n",
       "      <th>product_name</th>\n",
       "      <th>aisle_id</th>\n",
       "      <th>department_id</th>\n",
       "      <th>prices</th>\n",
       "    </tr>\n",
       "  </thead>\n",
       "  <tbody>\n",
       "    <tr>\n",
       "      <th>0</th>\n",
       "      <td>0</td>\n",
       "      <td>1</td>\n",
       "      <td>Chocolate Sandwich Cookies</td>\n",
       "      <td>61</td>\n",
       "      <td>19</td>\n",
       "      <td>5.8</td>\n",
       "    </tr>\n",
       "    <tr>\n",
       "      <th>1</th>\n",
       "      <td>1</td>\n",
       "      <td>2</td>\n",
       "      <td>All-Seasons Salt</td>\n",
       "      <td>104</td>\n",
       "      <td>13</td>\n",
       "      <td>9.3</td>\n",
       "    </tr>\n",
       "    <tr>\n",
       "      <th>2</th>\n",
       "      <td>2</td>\n",
       "      <td>3</td>\n",
       "      <td>Robust Golden Unsweetened Oolong Tea</td>\n",
       "      <td>94</td>\n",
       "      <td>7</td>\n",
       "      <td>4.5</td>\n",
       "    </tr>\n",
       "    <tr>\n",
       "      <th>3</th>\n",
       "      <td>3</td>\n",
       "      <td>4</td>\n",
       "      <td>Smart Ones Classic Favorites Mini Rigatoni Wit...</td>\n",
       "      <td>38</td>\n",
       "      <td>1</td>\n",
       "      <td>10.5</td>\n",
       "    </tr>\n",
       "    <tr>\n",
       "      <th>4</th>\n",
       "      <td>4</td>\n",
       "      <td>5</td>\n",
       "      <td>Green Chile Anytime Sauce</td>\n",
       "      <td>5</td>\n",
       "      <td>13</td>\n",
       "      <td>4.3</td>\n",
       "    </tr>\n",
       "  </tbody>\n",
       "</table>\n",
       "</div>"
      ],
      "text/plain": [
       "   Unnamed: 0  product_id                                       product_name  \\\n",
       "0           0           1                         Chocolate Sandwich Cookies   \n",
       "1           1           2                                   All-Seasons Salt   \n",
       "2           2           3               Robust Golden Unsweetened Oolong Tea   \n",
       "3           3           4  Smart Ones Classic Favorites Mini Rigatoni Wit...   \n",
       "4           4           5                          Green Chile Anytime Sauce   \n",
       "\n",
       "   aisle_id  department_id  prices  \n",
       "0        61             19     5.8  \n",
       "1       104             13     9.3  \n",
       "2        94              7     4.5  \n",
       "3        38              1    10.5  \n",
       "4         5             13     4.3  "
      ]
     },
     "execution_count": 10,
     "metadata": {},
     "output_type": "execute_result"
    }
   ],
   "source": [
    "# Check the output\n",
    "df_prods.head()"
   ]
  },
  {
   "cell_type": "markdown",
   "id": "921f3f3d",
   "metadata": {},
   "source": [
    "You’ll also want to run some shape checks on both dataframes using the shape function. This is a great way to confirm the total size of your imported dataframes"
   ]
  },
  {
   "cell_type": "code",
   "execution_count": 11,
   "id": "80200e24",
   "metadata": {},
   "outputs": [
    {
     "data": {
      "text/plain": [
       "(49693, 6)"
      ]
     },
     "execution_count": 11,
     "metadata": {},
     "output_type": "execute_result"
    }
   ],
   "source": [
    "df_prods.shape"
   ]
  },
  {
   "cell_type": "markdown",
   "id": "657c82ee",
   "metadata": {},
   "source": [
    "You want to merge this new dataframe with your df_ords dataframe, something you should be able to do easily despite their different shape, thanks to their shared column: “order_id.” In theory, you should have a fully matching “order_id” column, so you shouldn’t need to specify a type of join. \n",
    "\n",
    "As a reminder, the default type for a join is “inner,” which means the resulting data set will only contain observations included in both input data sets. Go ahead and execute the following code:"
   ]
  },
  {
   "cell_type": "code",
   "execution_count": 12,
   "id": "a78a9ab4",
   "metadata": {},
   "outputs": [],
   "source": [
    "# Creating a new df, df_merged_large,that contains the combined df_ords and df_ords_prior df's\n",
    "# uses the \"order_id\" column as its key\n",
    "# also includes the indicato r= True argument to check for a full match\n",
    "df_merged_large = df_ords.merge(df_ords_prior, on = 'order_id', indicator = True)"
   ]
  },
  {
   "cell_type": "code",
   "execution_count": 13,
   "id": "09243227",
   "metadata": {},
   "outputs": [
    {
     "data": {
      "text/html": [
       "<div>\n",
       "<style scoped>\n",
       "    .dataframe tbody tr th:only-of-type {\n",
       "        vertical-align: middle;\n",
       "    }\n",
       "\n",
       "    .dataframe tbody tr th {\n",
       "        vertical-align: top;\n",
       "    }\n",
       "\n",
       "    .dataframe thead th {\n",
       "        text-align: right;\n",
       "    }\n",
       "</style>\n",
       "<table border=\"1\" class=\"dataframe\">\n",
       "  <thead>\n",
       "    <tr style=\"text-align: right;\">\n",
       "      <th></th>\n",
       "      <th>Unnamed: 0.1</th>\n",
       "      <th>Unnamed: 0</th>\n",
       "      <th>order_id</th>\n",
       "      <th>user_id</th>\n",
       "      <th>eval_set</th>\n",
       "      <th>order_number</th>\n",
       "      <th>orders_day_of_week</th>\n",
       "      <th>order_hour_of_day</th>\n",
       "      <th>days_since_previous_order</th>\n",
       "      <th>product_id</th>\n",
       "      <th>add_to_cart_order</th>\n",
       "      <th>reordered</th>\n",
       "      <th>_merge</th>\n",
       "    </tr>\n",
       "  </thead>\n",
       "  <tbody>\n",
       "    <tr>\n",
       "      <th>0</th>\n",
       "      <td>0</td>\n",
       "      <td>0</td>\n",
       "      <td>2539329</td>\n",
       "      <td>1</td>\n",
       "      <td>prior</td>\n",
       "      <td>1</td>\n",
       "      <td>2</td>\n",
       "      <td>8</td>\n",
       "      <td>NaN</td>\n",
       "      <td>196</td>\n",
       "      <td>1</td>\n",
       "      <td>0</td>\n",
       "      <td>both</td>\n",
       "    </tr>\n",
       "    <tr>\n",
       "      <th>1</th>\n",
       "      <td>0</td>\n",
       "      <td>0</td>\n",
       "      <td>2539329</td>\n",
       "      <td>1</td>\n",
       "      <td>prior</td>\n",
       "      <td>1</td>\n",
       "      <td>2</td>\n",
       "      <td>8</td>\n",
       "      <td>NaN</td>\n",
       "      <td>14084</td>\n",
       "      <td>2</td>\n",
       "      <td>0</td>\n",
       "      <td>both</td>\n",
       "    </tr>\n",
       "    <tr>\n",
       "      <th>2</th>\n",
       "      <td>0</td>\n",
       "      <td>0</td>\n",
       "      <td>2539329</td>\n",
       "      <td>1</td>\n",
       "      <td>prior</td>\n",
       "      <td>1</td>\n",
       "      <td>2</td>\n",
       "      <td>8</td>\n",
       "      <td>NaN</td>\n",
       "      <td>12427</td>\n",
       "      <td>3</td>\n",
       "      <td>0</td>\n",
       "      <td>both</td>\n",
       "    </tr>\n",
       "    <tr>\n",
       "      <th>3</th>\n",
       "      <td>0</td>\n",
       "      <td>0</td>\n",
       "      <td>2539329</td>\n",
       "      <td>1</td>\n",
       "      <td>prior</td>\n",
       "      <td>1</td>\n",
       "      <td>2</td>\n",
       "      <td>8</td>\n",
       "      <td>NaN</td>\n",
       "      <td>26088</td>\n",
       "      <td>4</td>\n",
       "      <td>0</td>\n",
       "      <td>both</td>\n",
       "    </tr>\n",
       "    <tr>\n",
       "      <th>4</th>\n",
       "      <td>0</td>\n",
       "      <td>0</td>\n",
       "      <td>2539329</td>\n",
       "      <td>1</td>\n",
       "      <td>prior</td>\n",
       "      <td>1</td>\n",
       "      <td>2</td>\n",
       "      <td>8</td>\n",
       "      <td>NaN</td>\n",
       "      <td>26405</td>\n",
       "      <td>5</td>\n",
       "      <td>0</td>\n",
       "      <td>both</td>\n",
       "    </tr>\n",
       "  </tbody>\n",
       "</table>\n",
       "</div>"
      ],
      "text/plain": [
       "   Unnamed: 0.1  Unnamed: 0  order_id  user_id eval_set  order_number  \\\n",
       "0             0           0   2539329        1    prior             1   \n",
       "1             0           0   2539329        1    prior             1   \n",
       "2             0           0   2539329        1    prior             1   \n",
       "3             0           0   2539329        1    prior             1   \n",
       "4             0           0   2539329        1    prior             1   \n",
       "\n",
       "   orders_day_of_week  order_hour_of_day  days_since_previous_order  \\\n",
       "0                   2                  8                        NaN   \n",
       "1                   2                  8                        NaN   \n",
       "2                   2                  8                        NaN   \n",
       "3                   2                  8                        NaN   \n",
       "4                   2                  8                        NaN   \n",
       "\n",
       "   product_id  add_to_cart_order  reordered _merge  \n",
       "0         196                  1          0   both  \n",
       "1       14084                  2          0   both  \n",
       "2       12427                  3          0   both  \n",
       "3       26088                  4          0   both  \n",
       "4       26405                  5          0   both  "
      ]
     },
     "execution_count": 13,
     "metadata": {},
     "output_type": "execute_result"
    }
   ],
   "source": [
    "# Checking the output of columns\n",
    "df_merged_large.head()"
   ]
  },
  {
   "cell_type": "code",
   "execution_count": 14,
   "id": "fd46e3d9",
   "metadata": {},
   "outputs": [
    {
     "data": {
      "text/plain": [
       "_merge\n",
       "both          32434489\n",
       "left_only            0\n",
       "right_only           0\n",
       "Name: count, dtype: int64"
      ]
     },
     "execution_count": 14,
     "metadata": {},
     "output_type": "execute_result"
    }
   ],
   "source": [
    "#Sum up all the values in the \"_merge\" column\n",
    "df_merged_large['_merge'].value_counts()"
   ]
  },
  {
   "cell_type": "markdown",
   "id": "bc57c008",
   "metadata": {},
   "source": [
    "Let’s see what the merge flag frequency shows you here. In the “_merge” column, you can see that there are only entries that have a value of “both,” leading you to think that your key column, “order_id,” exists completely in both dataframes. However, this conclusion is wrong"
   ]
  },
  {
   "cell_type": "markdown",
   "id": "6c327704",
   "metadata": {},
   "source": [
    "But does this mean that you have a full match? The answer is no. "
   ]
  },
  {
   "cell_type": "markdown",
   "id": "af7c7a88",
   "metadata": {},
   "source": [
    "To recap, the resulting dataframe (after the merge) has 32,434,489 rows, and each of those rows have information found in both input data sets. Keep track of this number! It can help you keep your dataframes straight when working with numerous dataframes. \n",
    "\n",
    "Also, running checks in your notebooks before and after performing significant procedures will allow you to track the way the shape of your data is changing. This is most important after importing or just before exporting data.\n",
    "\n"
   ]
  },
  {
   "cell_type": "markdown",
   "id": "a7645e24",
   "metadata": {},
   "source": [
    "# 2. Export the merged file in pickle format as “orders_products_combined.pkl”."
   ]
  },
  {
   "cell_type": "markdown",
   "id": "b3c9b591",
   "metadata": {},
   "source": [
    "A pickle, or “.pkl,” is a pandas format used to store data on your computer. While it’s similar to “.csv” files, pickles can only be opened using Python. Importing a pickle into your Jupyter notebook follows the same procedure as importing a “.csv” file and produces the same dataframe."
   ]
  },
  {
   "cell_type": "markdown",
   "id": "fed701ce",
   "metadata": {},
   "source": [
    "As you can see, the biggest difference when it comes to importing and exporting “.csv” files and “.pkl” files is efficiency. Your df_merged_large dataframe, for instance, would likely take around two minutes to export as a pickle, while it could take upwards of ten minutes to export as a “.csv” file."
   ]
  },
  {
   "cell_type": "markdown",
   "id": "3fb6fc12",
   "metadata": {},
   "source": [
    "Importing pickle files also follows a similar syntax to its “.csv” counterpart: the only difference comes in the function (read_pickle()) and the lack of an index_col, since pickle-format files include this information already."
   ]
  },
  {
   "cell_type": "code",
   "execution_count": 15,
   "id": "d2f735bd",
   "metadata": {},
   "outputs": [],
   "source": [
    "# Exporting the merged file in pickle format\n",
    "df_merged_large.to_pickle(os.path.join(path, '02 Data','Prepared Data', 'orders_products_combined.pkl'))"
   ]
  },
  {
   "cell_type": "markdown",
   "id": "2bc1c693",
   "metadata": {},
   "source": [
    "# to_pickle() is used. Pay attention to the file extension and ensure it matches the function you use!\n"
   ]
  }
 ],
 "metadata": {
  "kernelspec": {
   "display_name": "Python 3 (ipykernel)",
   "language": "python",
   "name": "python3"
  },
  "language_info": {
   "codemirror_mode": {
    "name": "ipython",
    "version": 3
   },
   "file_extension": ".py",
   "mimetype": "text/x-python",
   "name": "python",
   "nbconvert_exporter": "python",
   "pygments_lexer": "ipython3",
   "version": "3.11.4"
  }
 },
 "nbformat": 4,
 "nbformat_minor": 5
}
