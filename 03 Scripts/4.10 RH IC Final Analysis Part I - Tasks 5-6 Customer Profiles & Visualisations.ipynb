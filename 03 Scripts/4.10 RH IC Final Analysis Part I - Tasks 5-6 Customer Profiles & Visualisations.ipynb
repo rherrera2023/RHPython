{
 "cells": [
  {
   "cell_type": "markdown",
   "id": "8ad31395",
   "metadata": {},
   "source": [
    "# RH IC Final Analysis Part II Qs 5 & 6"
   ]
  },
  {
   "cell_type": "markdown",
   "id": "1298dcec",
   "metadata": {},
   "source": [
    "# Table of Contents\n",
    "This notebook is in reference to: The marketing and business strategy units at Instacart want to create more-relevant marketing strategies for different products and are, thus, curious about customer profiling in their database. "
   ]
  },
  {
   "cell_type": "markdown",
   "id": "70be83cf",
   "metadata": {},
   "source": [
    "Import libraries and data set\n",
    "\n",
    "Merging dataframes\n",
    "\n",
    "Creating age groups\n",
    "\n",
    "Creating family or single with or without dependents groups\n",
    "\n",
    "Creating income categories\n",
    "\n",
    "Combining family status characteristics to customer profile\n",
    "\n",
    "Combining income categories to customer profile\n",
    "\n",
    "Taking a look at impact of day of week and hour of day IC customer profile purchases\n",
    "\n",
    "Creating visualizations to show the distribution of profiles.\n",
    "\n",
    "Exporting customer profiling variables"
   ]
  },
  {
   "cell_type": "markdown",
   "id": "d1b7b65c",
   "metadata": {},
   "source": [
    "#  Importing libraries and data set"
   ]
  },
  {
   "cell_type": "code",
   "execution_count": 3,
   "id": "d1284bc9",
   "metadata": {},
   "outputs": [],
   "source": [
    "# Importing libraries\n",
    "import pandas as pd\n",
    "import numpy as np\n",
    "import os\n",
    "import matplotlib.pyplot as plt\n",
    "import seaborn as sns\n",
    "import scipy"
   ]
  },
  {
   "cell_type": "markdown",
   "id": "caff2a1b",
   "metadata": {},
   "source": [
    "Defining and creating a path, importing and then double checking imported merged project data set"
   ]
  },
  {
   "cell_type": "code",
   "execution_count": 4,
   "id": "39957700",
   "metadata": {},
   "outputs": [],
   "source": [
    "#Establishing a path to import the project data set\n",
    "path = r'/Users/renataherrera/Documents/CF RH 2023-2024/CF DATA IMMERSION/CF RH A4 PYTHON/RH_PYTHON_Instacart Basket Analysis'"
   ]
  },
  {
   "cell_type": "code",
   "execution_count": 5,
   "id": "195f7a5b",
   "metadata": {},
   "outputs": [
    {
     "data": {
      "text/plain": [
       "'/Users/renataherrera/Documents/CF RH 2023-2024/CF DATA IMMERSION/CF RH A4 PYTHON/RH_PYTHON_Instacart Basket Analysis'"
      ]
     },
     "execution_count": 5,
     "metadata": {},
     "output_type": "execute_result"
    }
   ],
   "source": [
    "#Checking path\n",
    "path"
   ]
  },
  {
   "cell_type": "code",
   "execution_count": 6,
   "id": "83e6c8fc",
   "metadata": {},
   "outputs": [],
   "source": [
    "#Importing final_orders_products_active.pkl data set as a df\n",
    "df_final= pd.read_pickle(os.path.join(path, '02 Data', 'Prepared Data', 'final_orders_products_active.pkl'))"
   ]
  },
  {
   "cell_type": "code",
   "execution_count": 7,
   "id": "c2f2335f",
   "metadata": {},
   "outputs": [
    {
     "data": {
      "text/html": [
       "<div>\n",
       "<style scoped>\n",
       "    .dataframe tbody tr th:only-of-type {\n",
       "        vertical-align: middle;\n",
       "    }\n",
       "\n",
       "    .dataframe tbody tr th {\n",
       "        vertical-align: top;\n",
       "    }\n",
       "\n",
       "    .dataframe thead th {\n",
       "        text-align: right;\n",
       "    }\n",
       "</style>\n",
       "<table border=\"1\" class=\"dataframe\">\n",
       "  <thead>\n",
       "    <tr style=\"text-align: right;\">\n",
       "      <th></th>\n",
       "      <th>order_id</th>\n",
       "      <th>user_id</th>\n",
       "      <th>eval_set</th>\n",
       "      <th>order_number</th>\n",
       "      <th>orders_day_of_week</th>\n",
       "      <th>order_hour_of_day</th>\n",
       "      <th>days_since_previous_order</th>\n",
       "      <th>product_id</th>\n",
       "      <th>add_to_cart_order</th>\n",
       "      <th>reordered</th>\n",
       "      <th>...</th>\n",
       "      <th>gender</th>\n",
       "      <th>state</th>\n",
       "      <th>age</th>\n",
       "      <th>date_joined</th>\n",
       "      <th>n_dependants</th>\n",
       "      <th>fam_status</th>\n",
       "      <th>income</th>\n",
       "      <th>region</th>\n",
       "      <th>Customer_Activity</th>\n",
       "      <th>exclusion_flag</th>\n",
       "    </tr>\n",
       "  </thead>\n",
       "  <tbody>\n",
       "    <tr>\n",
       "      <th>0</th>\n",
       "      <td>2539329</td>\n",
       "      <td>1</td>\n",
       "      <td>prior</td>\n",
       "      <td>1</td>\n",
       "      <td>2</td>\n",
       "      <td>8</td>\n",
       "      <td>NaN</td>\n",
       "      <td>196</td>\n",
       "      <td>1</td>\n",
       "      <td>0</td>\n",
       "      <td>...</td>\n",
       "      <td>Female</td>\n",
       "      <td>Alabama</td>\n",
       "      <td>31</td>\n",
       "      <td>2/17/2019</td>\n",
       "      <td>3</td>\n",
       "      <td>married</td>\n",
       "      <td>40423</td>\n",
       "      <td>South</td>\n",
       "      <td>Active</td>\n",
       "      <td>active customer</td>\n",
       "    </tr>\n",
       "    <tr>\n",
       "      <th>1</th>\n",
       "      <td>2398795</td>\n",
       "      <td>1</td>\n",
       "      <td>prior</td>\n",
       "      <td>2</td>\n",
       "      <td>3</td>\n",
       "      <td>7</td>\n",
       "      <td>15.0</td>\n",
       "      <td>196</td>\n",
       "      <td>1</td>\n",
       "      <td>1</td>\n",
       "      <td>...</td>\n",
       "      <td>Female</td>\n",
       "      <td>Alabama</td>\n",
       "      <td>31</td>\n",
       "      <td>2/17/2019</td>\n",
       "      <td>3</td>\n",
       "      <td>married</td>\n",
       "      <td>40423</td>\n",
       "      <td>South</td>\n",
       "      <td>Active</td>\n",
       "      <td>active customer</td>\n",
       "    </tr>\n",
       "    <tr>\n",
       "      <th>2</th>\n",
       "      <td>473747</td>\n",
       "      <td>1</td>\n",
       "      <td>prior</td>\n",
       "      <td>3</td>\n",
       "      <td>3</td>\n",
       "      <td>12</td>\n",
       "      <td>21.0</td>\n",
       "      <td>196</td>\n",
       "      <td>1</td>\n",
       "      <td>1</td>\n",
       "      <td>...</td>\n",
       "      <td>Female</td>\n",
       "      <td>Alabama</td>\n",
       "      <td>31</td>\n",
       "      <td>2/17/2019</td>\n",
       "      <td>3</td>\n",
       "      <td>married</td>\n",
       "      <td>40423</td>\n",
       "      <td>South</td>\n",
       "      <td>Active</td>\n",
       "      <td>active customer</td>\n",
       "    </tr>\n",
       "    <tr>\n",
       "      <th>3</th>\n",
       "      <td>2254736</td>\n",
       "      <td>1</td>\n",
       "      <td>prior</td>\n",
       "      <td>4</td>\n",
       "      <td>4</td>\n",
       "      <td>7</td>\n",
       "      <td>29.0</td>\n",
       "      <td>196</td>\n",
       "      <td>1</td>\n",
       "      <td>1</td>\n",
       "      <td>...</td>\n",
       "      <td>Female</td>\n",
       "      <td>Alabama</td>\n",
       "      <td>31</td>\n",
       "      <td>2/17/2019</td>\n",
       "      <td>3</td>\n",
       "      <td>married</td>\n",
       "      <td>40423</td>\n",
       "      <td>South</td>\n",
       "      <td>Active</td>\n",
       "      <td>active customer</td>\n",
       "    </tr>\n",
       "    <tr>\n",
       "      <th>4</th>\n",
       "      <td>431534</td>\n",
       "      <td>1</td>\n",
       "      <td>prior</td>\n",
       "      <td>5</td>\n",
       "      <td>4</td>\n",
       "      <td>15</td>\n",
       "      <td>28.0</td>\n",
       "      <td>196</td>\n",
       "      <td>1</td>\n",
       "      <td>1</td>\n",
       "      <td>...</td>\n",
       "      <td>Female</td>\n",
       "      <td>Alabama</td>\n",
       "      <td>31</td>\n",
       "      <td>2/17/2019</td>\n",
       "      <td>3</td>\n",
       "      <td>married</td>\n",
       "      <td>40423</td>\n",
       "      <td>South</td>\n",
       "      <td>Active</td>\n",
       "      <td>active customer</td>\n",
       "    </tr>\n",
       "  </tbody>\n",
       "</table>\n",
       "<p>5 rows × 35 columns</p>\n",
       "</div>"
      ],
      "text/plain": [
       "   order_id  user_id eval_set  order_number  orders_day_of_week  \\\n",
       "0   2539329        1    prior             1                   2   \n",
       "1   2398795        1    prior             2                   3   \n",
       "2    473747        1    prior             3                   3   \n",
       "3   2254736        1    prior             4                   4   \n",
       "4    431534        1    prior             5                   4   \n",
       "\n",
       "   order_hour_of_day  days_since_previous_order  product_id  \\\n",
       "0                  8                        NaN         196   \n",
       "1                  7                       15.0         196   \n",
       "2                 12                       21.0         196   \n",
       "3                  7                       29.0         196   \n",
       "4                 15                       28.0         196   \n",
       "\n",
       "   add_to_cart_order  reordered  ...  gender    state  age  date_joined  \\\n",
       "0                  1          0  ...  Female  Alabama   31    2/17/2019   \n",
       "1                  1          1  ...  Female  Alabama   31    2/17/2019   \n",
       "2                  1          1  ...  Female  Alabama   31    2/17/2019   \n",
       "3                  1          1  ...  Female  Alabama   31    2/17/2019   \n",
       "4                  1          1  ...  Female  Alabama   31    2/17/2019   \n",
       "\n",
       "  n_dependants fam_status income region Customer_Activity   exclusion_flag  \n",
       "0            3    married  40423  South            Active  active customer  \n",
       "1            3    married  40423  South            Active  active customer  \n",
       "2            3    married  40423  South            Active  active customer  \n",
       "3            3    married  40423  South            Active  active customer  \n",
       "4            3    married  40423  South            Active  active customer  \n",
       "\n",
       "[5 rows x 35 columns]"
      ]
     },
     "execution_count": 7,
     "metadata": {},
     "output_type": "execute_result"
    }
   ],
   "source": [
    "#double checking the imported df\n",
    "df_final.head()"
   ]
  },
  {
   "cell_type": "code",
   "execution_count": 8,
   "id": "005aef3d",
   "metadata": {},
   "outputs": [
    {
     "data": {
      "text/plain": [
       "(30992664, 35)"
      ]
     },
     "execution_count": 8,
     "metadata": {},
     "output_type": "execute_result"
    }
   ],
   "source": [
    "# checking shape and dimensions (columns and rows) of import\n",
    "df_final.shape"
   ]
  },
  {
   "cell_type": "code",
   "execution_count": 9,
   "id": "462918ce",
   "metadata": {},
   "outputs": [
    {
     "data": {
      "text/plain": [
       "0           7\n",
       "1           7\n",
       "2           7\n",
       "3           7\n",
       "4           7\n",
       "           ..\n",
       "32434203    7\n",
       "32434204    7\n",
       "32434205    7\n",
       "32434206    7\n",
       "32434207    7\n",
       "Name: department_id, Length: 30992664, dtype: int64"
      ]
     },
     "execution_count": 9,
     "metadata": {},
     "output_type": "execute_result"
    }
   ],
   "source": [
    "#checking the department_id\n",
    "df_final['department_id']"
   ]
  },
  {
   "cell_type": "code",
   "execution_count": 10,
   "id": "e4e9d72b",
   "metadata": {},
   "outputs": [],
   "source": [
    "#Importing departments_wrangled df\n",
    "df_deptsw = pd.read_csv(os.path.join(path,'02 Data','Prepared Data','departments_wrangled.csv'))"
   ]
  },
  {
   "cell_type": "code",
   "execution_count": 11,
   "id": "b4781759",
   "metadata": {},
   "outputs": [
    {
     "data": {
      "text/html": [
       "<div>\n",
       "<style scoped>\n",
       "    .dataframe tbody tr th:only-of-type {\n",
       "        vertical-align: middle;\n",
       "    }\n",
       "\n",
       "    .dataframe tbody tr th {\n",
       "        vertical-align: top;\n",
       "    }\n",
       "\n",
       "    .dataframe thead th {\n",
       "        text-align: right;\n",
       "    }\n",
       "</style>\n",
       "<table border=\"1\" class=\"dataframe\">\n",
       "  <thead>\n",
       "    <tr style=\"text-align: right;\">\n",
       "      <th></th>\n",
       "      <th>Unnamed: 0</th>\n",
       "      <th>department</th>\n",
       "    </tr>\n",
       "  </thead>\n",
       "  <tbody>\n",
       "    <tr>\n",
       "      <th>0</th>\n",
       "      <td>1</td>\n",
       "      <td>frozen</td>\n",
       "    </tr>\n",
       "    <tr>\n",
       "      <th>1</th>\n",
       "      <td>2</td>\n",
       "      <td>other</td>\n",
       "    </tr>\n",
       "    <tr>\n",
       "      <th>2</th>\n",
       "      <td>3</td>\n",
       "      <td>bakery</td>\n",
       "    </tr>\n",
       "    <tr>\n",
       "      <th>3</th>\n",
       "      <td>4</td>\n",
       "      <td>produce</td>\n",
       "    </tr>\n",
       "    <tr>\n",
       "      <th>4</th>\n",
       "      <td>5</td>\n",
       "      <td>alcohol</td>\n",
       "    </tr>\n",
       "    <tr>\n",
       "      <th>5</th>\n",
       "      <td>6</td>\n",
       "      <td>international</td>\n",
       "    </tr>\n",
       "    <tr>\n",
       "      <th>6</th>\n",
       "      <td>7</td>\n",
       "      <td>beverages</td>\n",
       "    </tr>\n",
       "    <tr>\n",
       "      <th>7</th>\n",
       "      <td>8</td>\n",
       "      <td>pets</td>\n",
       "    </tr>\n",
       "    <tr>\n",
       "      <th>8</th>\n",
       "      <td>9</td>\n",
       "      <td>dry goods pasta</td>\n",
       "    </tr>\n",
       "    <tr>\n",
       "      <th>9</th>\n",
       "      <td>10</td>\n",
       "      <td>bulk</td>\n",
       "    </tr>\n",
       "    <tr>\n",
       "      <th>10</th>\n",
       "      <td>11</td>\n",
       "      <td>personal care</td>\n",
       "    </tr>\n",
       "    <tr>\n",
       "      <th>11</th>\n",
       "      <td>12</td>\n",
       "      <td>meat seafood</td>\n",
       "    </tr>\n",
       "    <tr>\n",
       "      <th>12</th>\n",
       "      <td>13</td>\n",
       "      <td>pantry</td>\n",
       "    </tr>\n",
       "    <tr>\n",
       "      <th>13</th>\n",
       "      <td>14</td>\n",
       "      <td>breakfast</td>\n",
       "    </tr>\n",
       "    <tr>\n",
       "      <th>14</th>\n",
       "      <td>15</td>\n",
       "      <td>canned goods</td>\n",
       "    </tr>\n",
       "    <tr>\n",
       "      <th>15</th>\n",
       "      <td>16</td>\n",
       "      <td>dairy eggs</td>\n",
       "    </tr>\n",
       "    <tr>\n",
       "      <th>16</th>\n",
       "      <td>17</td>\n",
       "      <td>household</td>\n",
       "    </tr>\n",
       "    <tr>\n",
       "      <th>17</th>\n",
       "      <td>18</td>\n",
       "      <td>babies</td>\n",
       "    </tr>\n",
       "    <tr>\n",
       "      <th>18</th>\n",
       "      <td>19</td>\n",
       "      <td>snacks</td>\n",
       "    </tr>\n",
       "    <tr>\n",
       "      <th>19</th>\n",
       "      <td>20</td>\n",
       "      <td>deli</td>\n",
       "    </tr>\n",
       "    <tr>\n",
       "      <th>20</th>\n",
       "      <td>21</td>\n",
       "      <td>missing</td>\n",
       "    </tr>\n",
       "  </tbody>\n",
       "</table>\n",
       "</div>"
      ],
      "text/plain": [
       "    Unnamed: 0       department\n",
       "0            1           frozen\n",
       "1            2            other\n",
       "2            3           bakery\n",
       "3            4          produce\n",
       "4            5          alcohol\n",
       "5            6    international\n",
       "6            7        beverages\n",
       "7            8             pets\n",
       "8            9  dry goods pasta\n",
       "9           10             bulk\n",
       "10          11    personal care\n",
       "11          12     meat seafood\n",
       "12          13           pantry\n",
       "13          14        breakfast\n",
       "14          15     canned goods\n",
       "15          16       dairy eggs\n",
       "16          17        household\n",
       "17          18           babies\n",
       "18          19           snacks\n",
       "19          20             deli\n",
       "20          21          missing"
      ]
     },
     "execution_count": 11,
     "metadata": {},
     "output_type": "execute_result"
    }
   ],
   "source": [
    "#Checking the import\n",
    "df_deptsw"
   ]
  },
  {
   "cell_type": "code",
   "execution_count": 12,
   "id": "c0dab771",
   "metadata": {},
   "outputs": [],
   "source": [
    "#Renaming Unnamed:0 to department_id\n",
    "df_deptsw.rename(columns = {'Unnamed: 0' : 'department_id'}, inplace = True)"
   ]
  },
  {
   "cell_type": "code",
   "execution_count": 13,
   "id": "f3062b24",
   "metadata": {},
   "outputs": [
    {
     "data": {
      "text/html": [
       "<div>\n",
       "<style scoped>\n",
       "    .dataframe tbody tr th:only-of-type {\n",
       "        vertical-align: middle;\n",
       "    }\n",
       "\n",
       "    .dataframe tbody tr th {\n",
       "        vertical-align: top;\n",
       "    }\n",
       "\n",
       "    .dataframe thead th {\n",
       "        text-align: right;\n",
       "    }\n",
       "</style>\n",
       "<table border=\"1\" class=\"dataframe\">\n",
       "  <thead>\n",
       "    <tr style=\"text-align: right;\">\n",
       "      <th></th>\n",
       "      <th>department_id</th>\n",
       "      <th>department</th>\n",
       "    </tr>\n",
       "  </thead>\n",
       "  <tbody>\n",
       "    <tr>\n",
       "      <th>0</th>\n",
       "      <td>1</td>\n",
       "      <td>frozen</td>\n",
       "    </tr>\n",
       "    <tr>\n",
       "      <th>1</th>\n",
       "      <td>2</td>\n",
       "      <td>other</td>\n",
       "    </tr>\n",
       "    <tr>\n",
       "      <th>2</th>\n",
       "      <td>3</td>\n",
       "      <td>bakery</td>\n",
       "    </tr>\n",
       "    <tr>\n",
       "      <th>3</th>\n",
       "      <td>4</td>\n",
       "      <td>produce</td>\n",
       "    </tr>\n",
       "    <tr>\n",
       "      <th>4</th>\n",
       "      <td>5</td>\n",
       "      <td>alcohol</td>\n",
       "    </tr>\n",
       "    <tr>\n",
       "      <th>5</th>\n",
       "      <td>6</td>\n",
       "      <td>international</td>\n",
       "    </tr>\n",
       "    <tr>\n",
       "      <th>6</th>\n",
       "      <td>7</td>\n",
       "      <td>beverages</td>\n",
       "    </tr>\n",
       "    <tr>\n",
       "      <th>7</th>\n",
       "      <td>8</td>\n",
       "      <td>pets</td>\n",
       "    </tr>\n",
       "    <tr>\n",
       "      <th>8</th>\n",
       "      <td>9</td>\n",
       "      <td>dry goods pasta</td>\n",
       "    </tr>\n",
       "    <tr>\n",
       "      <th>9</th>\n",
       "      <td>10</td>\n",
       "      <td>bulk</td>\n",
       "    </tr>\n",
       "    <tr>\n",
       "      <th>10</th>\n",
       "      <td>11</td>\n",
       "      <td>personal care</td>\n",
       "    </tr>\n",
       "    <tr>\n",
       "      <th>11</th>\n",
       "      <td>12</td>\n",
       "      <td>meat seafood</td>\n",
       "    </tr>\n",
       "    <tr>\n",
       "      <th>12</th>\n",
       "      <td>13</td>\n",
       "      <td>pantry</td>\n",
       "    </tr>\n",
       "    <tr>\n",
       "      <th>13</th>\n",
       "      <td>14</td>\n",
       "      <td>breakfast</td>\n",
       "    </tr>\n",
       "    <tr>\n",
       "      <th>14</th>\n",
       "      <td>15</td>\n",
       "      <td>canned goods</td>\n",
       "    </tr>\n",
       "    <tr>\n",
       "      <th>15</th>\n",
       "      <td>16</td>\n",
       "      <td>dairy eggs</td>\n",
       "    </tr>\n",
       "    <tr>\n",
       "      <th>16</th>\n",
       "      <td>17</td>\n",
       "      <td>household</td>\n",
       "    </tr>\n",
       "    <tr>\n",
       "      <th>17</th>\n",
       "      <td>18</td>\n",
       "      <td>babies</td>\n",
       "    </tr>\n",
       "    <tr>\n",
       "      <th>18</th>\n",
       "      <td>19</td>\n",
       "      <td>snacks</td>\n",
       "    </tr>\n",
       "    <tr>\n",
       "      <th>19</th>\n",
       "      <td>20</td>\n",
       "      <td>deli</td>\n",
       "    </tr>\n",
       "    <tr>\n",
       "      <th>20</th>\n",
       "      <td>21</td>\n",
       "      <td>missing</td>\n",
       "    </tr>\n",
       "  </tbody>\n",
       "</table>\n",
       "</div>"
      ],
      "text/plain": [
       "    department_id       department\n",
       "0               1           frozen\n",
       "1               2            other\n",
       "2               3           bakery\n",
       "3               4          produce\n",
       "4               5          alcohol\n",
       "5               6    international\n",
       "6               7        beverages\n",
       "7               8             pets\n",
       "8               9  dry goods pasta\n",
       "9              10             bulk\n",
       "10             11    personal care\n",
       "11             12     meat seafood\n",
       "12             13           pantry\n",
       "13             14        breakfast\n",
       "14             15     canned goods\n",
       "15             16       dairy eggs\n",
       "16             17        household\n",
       "17             18           babies\n",
       "18             19           snacks\n",
       "19             20             deli\n",
       "20             21          missing"
      ]
     },
     "execution_count": 13,
     "metadata": {},
     "output_type": "execute_result"
    }
   ],
   "source": [
    "#Checking rename\n",
    "df_deptsw"
   ]
  },
  {
   "cell_type": "code",
   "execution_count": 14,
   "id": "6298bb4d",
   "metadata": {},
   "outputs": [],
   "source": [
    "#Merging departments and orders products dfs\n",
    "df_deptsw_merge = df_final.merge(df_deptsw, on = 'department_id')"
   ]
  },
  {
   "cell_type": "code",
   "execution_count": 15,
   "id": "65002066",
   "metadata": {},
   "outputs": [
    {
     "data": {
      "text/html": [
       "<div>\n",
       "<style scoped>\n",
       "    .dataframe tbody tr th:only-of-type {\n",
       "        vertical-align: middle;\n",
       "    }\n",
       "\n",
       "    .dataframe tbody tr th {\n",
       "        vertical-align: top;\n",
       "    }\n",
       "\n",
       "    .dataframe thead th {\n",
       "        text-align: right;\n",
       "    }\n",
       "</style>\n",
       "<table border=\"1\" class=\"dataframe\">\n",
       "  <thead>\n",
       "    <tr style=\"text-align: right;\">\n",
       "      <th></th>\n",
       "      <th>order_id</th>\n",
       "      <th>user_id</th>\n",
       "      <th>eval_set</th>\n",
       "      <th>order_number</th>\n",
       "      <th>orders_day_of_week</th>\n",
       "      <th>order_hour_of_day</th>\n",
       "      <th>days_since_previous_order</th>\n",
       "      <th>product_id</th>\n",
       "      <th>add_to_cart_order</th>\n",
       "      <th>reordered</th>\n",
       "      <th>...</th>\n",
       "      <th>state</th>\n",
       "      <th>age</th>\n",
       "      <th>date_joined</th>\n",
       "      <th>n_dependants</th>\n",
       "      <th>fam_status</th>\n",
       "      <th>income</th>\n",
       "      <th>region</th>\n",
       "      <th>Customer_Activity</th>\n",
       "      <th>exclusion_flag</th>\n",
       "      <th>department</th>\n",
       "    </tr>\n",
       "  </thead>\n",
       "  <tbody>\n",
       "    <tr>\n",
       "      <th>0</th>\n",
       "      <td>2539329</td>\n",
       "      <td>1</td>\n",
       "      <td>prior</td>\n",
       "      <td>1</td>\n",
       "      <td>2</td>\n",
       "      <td>8</td>\n",
       "      <td>NaN</td>\n",
       "      <td>196</td>\n",
       "      <td>1</td>\n",
       "      <td>0</td>\n",
       "      <td>...</td>\n",
       "      <td>Alabama</td>\n",
       "      <td>31</td>\n",
       "      <td>2/17/2019</td>\n",
       "      <td>3</td>\n",
       "      <td>married</td>\n",
       "      <td>40423</td>\n",
       "      <td>South</td>\n",
       "      <td>Active</td>\n",
       "      <td>active customer</td>\n",
       "      <td>beverages</td>\n",
       "    </tr>\n",
       "    <tr>\n",
       "      <th>1</th>\n",
       "      <td>2398795</td>\n",
       "      <td>1</td>\n",
       "      <td>prior</td>\n",
       "      <td>2</td>\n",
       "      <td>3</td>\n",
       "      <td>7</td>\n",
       "      <td>15.0</td>\n",
       "      <td>196</td>\n",
       "      <td>1</td>\n",
       "      <td>1</td>\n",
       "      <td>...</td>\n",
       "      <td>Alabama</td>\n",
       "      <td>31</td>\n",
       "      <td>2/17/2019</td>\n",
       "      <td>3</td>\n",
       "      <td>married</td>\n",
       "      <td>40423</td>\n",
       "      <td>South</td>\n",
       "      <td>Active</td>\n",
       "      <td>active customer</td>\n",
       "      <td>beverages</td>\n",
       "    </tr>\n",
       "    <tr>\n",
       "      <th>2</th>\n",
       "      <td>473747</td>\n",
       "      <td>1</td>\n",
       "      <td>prior</td>\n",
       "      <td>3</td>\n",
       "      <td>3</td>\n",
       "      <td>12</td>\n",
       "      <td>21.0</td>\n",
       "      <td>196</td>\n",
       "      <td>1</td>\n",
       "      <td>1</td>\n",
       "      <td>...</td>\n",
       "      <td>Alabama</td>\n",
       "      <td>31</td>\n",
       "      <td>2/17/2019</td>\n",
       "      <td>3</td>\n",
       "      <td>married</td>\n",
       "      <td>40423</td>\n",
       "      <td>South</td>\n",
       "      <td>Active</td>\n",
       "      <td>active customer</td>\n",
       "      <td>beverages</td>\n",
       "    </tr>\n",
       "    <tr>\n",
       "      <th>3</th>\n",
       "      <td>2254736</td>\n",
       "      <td>1</td>\n",
       "      <td>prior</td>\n",
       "      <td>4</td>\n",
       "      <td>4</td>\n",
       "      <td>7</td>\n",
       "      <td>29.0</td>\n",
       "      <td>196</td>\n",
       "      <td>1</td>\n",
       "      <td>1</td>\n",
       "      <td>...</td>\n",
       "      <td>Alabama</td>\n",
       "      <td>31</td>\n",
       "      <td>2/17/2019</td>\n",
       "      <td>3</td>\n",
       "      <td>married</td>\n",
       "      <td>40423</td>\n",
       "      <td>South</td>\n",
       "      <td>Active</td>\n",
       "      <td>active customer</td>\n",
       "      <td>beverages</td>\n",
       "    </tr>\n",
       "    <tr>\n",
       "      <th>4</th>\n",
       "      <td>431534</td>\n",
       "      <td>1</td>\n",
       "      <td>prior</td>\n",
       "      <td>5</td>\n",
       "      <td>4</td>\n",
       "      <td>15</td>\n",
       "      <td>28.0</td>\n",
       "      <td>196</td>\n",
       "      <td>1</td>\n",
       "      <td>1</td>\n",
       "      <td>...</td>\n",
       "      <td>Alabama</td>\n",
       "      <td>31</td>\n",
       "      <td>2/17/2019</td>\n",
       "      <td>3</td>\n",
       "      <td>married</td>\n",
       "      <td>40423</td>\n",
       "      <td>South</td>\n",
       "      <td>Active</td>\n",
       "      <td>active customer</td>\n",
       "      <td>beverages</td>\n",
       "    </tr>\n",
       "    <tr>\n",
       "      <th>...</th>\n",
       "      <td>...</td>\n",
       "      <td>...</td>\n",
       "      <td>...</td>\n",
       "      <td>...</td>\n",
       "      <td>...</td>\n",
       "      <td>...</td>\n",
       "      <td>...</td>\n",
       "      <td>...</td>\n",
       "      <td>...</td>\n",
       "      <td>...</td>\n",
       "      <td>...</td>\n",
       "      <td>...</td>\n",
       "      <td>...</td>\n",
       "      <td>...</td>\n",
       "      <td>...</td>\n",
       "      <td>...</td>\n",
       "      <td>...</td>\n",
       "      <td>...</td>\n",
       "      <td>...</td>\n",
       "      <td>...</td>\n",
       "      <td>...</td>\n",
       "    </tr>\n",
       "    <tr>\n",
       "      <th>30992659</th>\n",
       "      <td>525976</td>\n",
       "      <td>58201</td>\n",
       "      <td>prior</td>\n",
       "      <td>24</td>\n",
       "      <td>6</td>\n",
       "      <td>16</td>\n",
       "      <td>3.0</td>\n",
       "      <td>5161</td>\n",
       "      <td>1</td>\n",
       "      <td>1</td>\n",
       "      <td>...</td>\n",
       "      <td>Florida</td>\n",
       "      <td>75</td>\n",
       "      <td>2/8/2019</td>\n",
       "      <td>2</td>\n",
       "      <td>married</td>\n",
       "      <td>138066</td>\n",
       "      <td>South</td>\n",
       "      <td>Active</td>\n",
       "      <td>active customer</td>\n",
       "      <td>bulk</td>\n",
       "    </tr>\n",
       "    <tr>\n",
       "      <th>30992660</th>\n",
       "      <td>758290</td>\n",
       "      <td>58201</td>\n",
       "      <td>prior</td>\n",
       "      <td>26</td>\n",
       "      <td>0</td>\n",
       "      <td>12</td>\n",
       "      <td>9.0</td>\n",
       "      <td>5161</td>\n",
       "      <td>1</td>\n",
       "      <td>1</td>\n",
       "      <td>...</td>\n",
       "      <td>Florida</td>\n",
       "      <td>75</td>\n",
       "      <td>2/8/2019</td>\n",
       "      <td>2</td>\n",
       "      <td>married</td>\n",
       "      <td>138066</td>\n",
       "      <td>South</td>\n",
       "      <td>Active</td>\n",
       "      <td>active customer</td>\n",
       "      <td>bulk</td>\n",
       "    </tr>\n",
       "    <tr>\n",
       "      <th>30992661</th>\n",
       "      <td>460711</td>\n",
       "      <td>58201</td>\n",
       "      <td>prior</td>\n",
       "      <td>27</td>\n",
       "      <td>6</td>\n",
       "      <td>9</td>\n",
       "      <td>13.0</td>\n",
       "      <td>5161</td>\n",
       "      <td>1</td>\n",
       "      <td>1</td>\n",
       "      <td>...</td>\n",
       "      <td>Florida</td>\n",
       "      <td>75</td>\n",
       "      <td>2/8/2019</td>\n",
       "      <td>2</td>\n",
       "      <td>married</td>\n",
       "      <td>138066</td>\n",
       "      <td>South</td>\n",
       "      <td>Active</td>\n",
       "      <td>active customer</td>\n",
       "      <td>bulk</td>\n",
       "    </tr>\n",
       "    <tr>\n",
       "      <th>30992662</th>\n",
       "      <td>1605789</td>\n",
       "      <td>58201</td>\n",
       "      <td>prior</td>\n",
       "      <td>28</td>\n",
       "      <td>5</td>\n",
       "      <td>7</td>\n",
       "      <td>27.0</td>\n",
       "      <td>5161</td>\n",
       "      <td>1</td>\n",
       "      <td>1</td>\n",
       "      <td>...</td>\n",
       "      <td>Florida</td>\n",
       "      <td>75</td>\n",
       "      <td>2/8/2019</td>\n",
       "      <td>2</td>\n",
       "      <td>married</td>\n",
       "      <td>138066</td>\n",
       "      <td>South</td>\n",
       "      <td>Active</td>\n",
       "      <td>active customer</td>\n",
       "      <td>bulk</td>\n",
       "    </tr>\n",
       "    <tr>\n",
       "      <th>30992663</th>\n",
       "      <td>1565024</td>\n",
       "      <td>152886</td>\n",
       "      <td>prior</td>\n",
       "      <td>2</td>\n",
       "      <td>1</td>\n",
       "      <td>9</td>\n",
       "      <td>30.0</td>\n",
       "      <td>1000</td>\n",
       "      <td>3</td>\n",
       "      <td>0</td>\n",
       "      <td>...</td>\n",
       "      <td>Pennsylvania</td>\n",
       "      <td>45</td>\n",
       "      <td>7/9/2017</td>\n",
       "      <td>1</td>\n",
       "      <td>married</td>\n",
       "      <td>41662</td>\n",
       "      <td>Northeast</td>\n",
       "      <td>Active</td>\n",
       "      <td>active customer</td>\n",
       "      <td>bulk</td>\n",
       "    </tr>\n",
       "  </tbody>\n",
       "</table>\n",
       "<p>30992664 rows × 36 columns</p>\n",
       "</div>"
      ],
      "text/plain": [
       "          order_id  user_id eval_set  order_number  orders_day_of_week  \\\n",
       "0          2539329        1    prior             1                   2   \n",
       "1          2398795        1    prior             2                   3   \n",
       "2           473747        1    prior             3                   3   \n",
       "3          2254736        1    prior             4                   4   \n",
       "4           431534        1    prior             5                   4   \n",
       "...            ...      ...      ...           ...                 ...   \n",
       "30992659    525976    58201    prior            24                   6   \n",
       "30992660    758290    58201    prior            26                   0   \n",
       "30992661    460711    58201    prior            27                   6   \n",
       "30992662   1605789    58201    prior            28                   5   \n",
       "30992663   1565024   152886    prior             2                   1   \n",
       "\n",
       "          order_hour_of_day  days_since_previous_order  product_id  \\\n",
       "0                         8                        NaN         196   \n",
       "1                         7                       15.0         196   \n",
       "2                        12                       21.0         196   \n",
       "3                         7                       29.0         196   \n",
       "4                        15                       28.0         196   \n",
       "...                     ...                        ...         ...   \n",
       "30992659                 16                        3.0        5161   \n",
       "30992660                 12                        9.0        5161   \n",
       "30992661                  9                       13.0        5161   \n",
       "30992662                  7                       27.0        5161   \n",
       "30992663                  9                       30.0        1000   \n",
       "\n",
       "          add_to_cart_order  reordered  ...         state  age  date_joined  \\\n",
       "0                         1          0  ...       Alabama   31    2/17/2019   \n",
       "1                         1          1  ...       Alabama   31    2/17/2019   \n",
       "2                         1          1  ...       Alabama   31    2/17/2019   \n",
       "3                         1          1  ...       Alabama   31    2/17/2019   \n",
       "4                         1          1  ...       Alabama   31    2/17/2019   \n",
       "...                     ...        ...  ...           ...  ...          ...   \n",
       "30992659                  1          1  ...       Florida   75     2/8/2019   \n",
       "30992660                  1          1  ...       Florida   75     2/8/2019   \n",
       "30992661                  1          1  ...       Florida   75     2/8/2019   \n",
       "30992662                  1          1  ...       Florida   75     2/8/2019   \n",
       "30992663                  3          0  ...  Pennsylvania   45     7/9/2017   \n",
       "\n",
       "          n_dependants fam_status  income     region Customer_Activity  \\\n",
       "0                    3    married   40423      South            Active   \n",
       "1                    3    married   40423      South            Active   \n",
       "2                    3    married   40423      South            Active   \n",
       "3                    3    married   40423      South            Active   \n",
       "4                    3    married   40423      South            Active   \n",
       "...                ...        ...     ...        ...               ...   \n",
       "30992659             2    married  138066      South            Active   \n",
       "30992660             2    married  138066      South            Active   \n",
       "30992661             2    married  138066      South            Active   \n",
       "30992662             2    married  138066      South            Active   \n",
       "30992663             1    married   41662  Northeast            Active   \n",
       "\n",
       "           exclusion_flag  department  \n",
       "0         active customer   beverages  \n",
       "1         active customer   beverages  \n",
       "2         active customer   beverages  \n",
       "3         active customer   beverages  \n",
       "4         active customer   beverages  \n",
       "...                   ...         ...  \n",
       "30992659  active customer        bulk  \n",
       "30992660  active customer        bulk  \n",
       "30992661  active customer        bulk  \n",
       "30992662  active customer        bulk  \n",
       "30992663  active customer        bulk  \n",
       "\n",
       "[30992664 rows x 36 columns]"
      ]
     },
     "execution_count": 15,
     "metadata": {},
     "output_type": "execute_result"
    }
   ],
   "source": [
    "#Checking the merge\n",
    "df_deptsw_merge"
   ]
  },
  {
   "cell_type": "code",
   "execution_count": 16,
   "id": "acff5e57",
   "metadata": {},
   "outputs": [
    {
     "data": {
      "text/plain": [
       "(30992664, 36)"
      ]
     },
     "execution_count": 16,
     "metadata": {},
     "output_type": "execute_result"
    }
   ],
   "source": [
    "# checking merge dimensions, rows counts\n",
    "df_deptsw_merge.shape"
   ]
  },
  {
   "cell_type": "code",
   "execution_count": 17,
   "id": "532893c7",
   "metadata": {},
   "outputs": [],
   "source": [
    "# Exporting merge as pkl \n",
    "df_deptsw_merge.to_pickle(os.path.join(path, '02 Data/Prepared Data/final_merge_deptsw_active.pkl'))"
   ]
  },
  {
   "cell_type": "markdown",
   "id": "971ee954",
   "metadata": {},
   "source": [
    "# 5. Customer profiling"
   ]
  },
  {
   "cell_type": "markdown",
   "id": "326a521f",
   "metadata": {},
   "source": [
    "Create a profiling variable based on age, income, certain goods in the “department_id” column, and number of dependents. You might also use the “orders_day_of_week” and “order_hour_of_day” columns if you can think of a way they would impact customer profiles. (Hint: As an example, try thinking of what characteristics would lead you to the profile “Single adult” or “Young parent.”)"
   ]
  },
  {
   "cell_type": "markdown",
   "id": "9c2dc668",
   "metadata": {},
   "source": [
    "# 6. Create an appropriate visualization to show the distribution of profiles."
   ]
  },
  {
   "cell_type": "markdown",
   "id": "f0b238d8",
   "metadata": {},
   "source": [
    "Customer profiles based on age groups"
   ]
  },
  {
   "cell_type": "code",
   "execution_count": 18,
   "id": "c555f888",
   "metadata": {},
   "outputs": [
    {
     "data": {
      "text/plain": [
       "18"
      ]
     },
     "execution_count": 18,
     "metadata": {},
     "output_type": "execute_result"
    }
   ],
   "source": [
    "#Checking the minimum age\n",
    "df_deptsw_merge['age'].min()"
   ]
  },
  {
   "cell_type": "code",
   "execution_count": 19,
   "id": "a78f6c03",
   "metadata": {},
   "outputs": [
    {
     "data": {
      "text/plain": [
       "49.467933411597016"
      ]
     },
     "execution_count": 19,
     "metadata": {},
     "output_type": "execute_result"
    }
   ],
   "source": [
    "#Checking the average age\n",
    "df_deptsw_merge['age'].mean()"
   ]
  },
  {
   "cell_type": "code",
   "execution_count": 20,
   "id": "9b0d509e",
   "metadata": {},
   "outputs": [
    {
     "data": {
      "text/plain": [
       "81"
      ]
     },
     "execution_count": 20,
     "metadata": {},
     "output_type": "execute_result"
    }
   ],
   "source": [
    "#Checking the max age\n",
    "df_deptsw_merge['age'].max()"
   ]
  },
  {
   "cell_type": "markdown",
   "id": "d69f7aee",
   "metadata": {},
   "source": [
    "# Creating three age groups; 18-39, 40-59 and 60-81 and min, mean and max values"
   ]
  },
  {
   "cell_type": "code",
   "execution_count": 21,
   "id": "dfc228f3",
   "metadata": {},
   "outputs": [],
   "source": [
    "#age group 18-39\n",
    "df_deptsw_merge.loc[(df_deptsw_merge['age']>=18) & (df_deptsw_merge['age'] <=39), 'age_group'] = '18-39 years of age'"
   ]
  },
  {
   "cell_type": "code",
   "execution_count": 22,
   "id": "d37aa824",
   "metadata": {},
   "outputs": [],
   "source": [
    "#age group 40-59\n",
    "df_deptsw_merge.loc[(df_deptsw_merge['age']>=40) & (df_deptsw_merge['age']<=59), 'age_group'] = '40-59 years of age'"
   ]
  },
  {
   "cell_type": "code",
   "execution_count": 23,
   "id": "e06ef9a7",
   "metadata": {},
   "outputs": [],
   "source": [
    "#age group 60-81\n",
    "df_deptsw_merge.loc[(df_deptsw_merge['age']>=60) & (df_deptsw_merge['age'] <=81), 'age_group'] = '60-81 years of age'"
   ]
  },
  {
   "cell_type": "markdown",
   "id": "1b646532",
   "metadata": {},
   "source": [
    "#Checking three new groups\n",
    "df_deptsw_merge['age_group'].value_counts(dropna = False)"
   ]
  },
  {
   "cell_type": "code",
   "execution_count": 24,
   "id": "8f2aa724",
   "metadata": {},
   "outputs": [
    {
     "data": {
      "image/png": "[encoded data removed]",
      "text/plain": [
       "<Figure size 640x480 with 1 Axes>"
      ]
     },
     "metadata": {},
     "output_type": "display_data"
    }
   ],
   "source": [
    "#Creating a bar chart of IC customers age groups\n",
    "barage = df_deptsw_merge['age_group'].value_counts().plot.barh(color = ['blue', 'cyan', 'orange'], title = 'Age Groups Profile')"
   ]
  },
  {
   "cell_type": "code",
   "execution_count": 25,
   "id": "5cc3fc6b",
   "metadata": {},
   "outputs": [],
   "source": [
    "#Exporting and saving it to IC folder\n",
    "barage.figure.savefig(os.path.join(path,'04 Analysis', 'Visualizations', 'final_age_profile.png'))"
   ]
  },
  {
   "cell_type": "code",
   "execution_count": 26,
   "id": "bbcac063",
   "metadata": {},
   "outputs": [
    {
     "data": {
      "text/html": [
       "<div>\n",
       "<style scoped>\n",
       "    .dataframe tbody tr th:only-of-type {\n",
       "        vertical-align: middle;\n",
       "    }\n",
       "\n",
       "    .dataframe tbody tr th {\n",
       "        vertical-align: top;\n",
       "    }\n",
       "\n",
       "    .dataframe thead th {\n",
       "        text-align: right;\n",
       "    }\n",
       "</style>\n",
       "<table border=\"1\" class=\"dataframe\">\n",
       "  <thead>\n",
       "    <tr style=\"text-align: right;\">\n",
       "      <th></th>\n",
       "      <th>order_id</th>\n",
       "      <th>user_id</th>\n",
       "      <th>eval_set</th>\n",
       "      <th>order_number</th>\n",
       "      <th>orders_day_of_week</th>\n",
       "      <th>order_hour_of_day</th>\n",
       "      <th>days_since_previous_order</th>\n",
       "      <th>product_id</th>\n",
       "      <th>add_to_cart_order</th>\n",
       "      <th>reordered</th>\n",
       "      <th>...</th>\n",
       "      <th>age</th>\n",
       "      <th>date_joined</th>\n",
       "      <th>n_dependants</th>\n",
       "      <th>fam_status</th>\n",
       "      <th>income</th>\n",
       "      <th>region</th>\n",
       "      <th>Customer_Activity</th>\n",
       "      <th>exclusion_flag</th>\n",
       "      <th>department</th>\n",
       "      <th>age_group</th>\n",
       "    </tr>\n",
       "  </thead>\n",
       "  <tbody>\n",
       "    <tr>\n",
       "      <th>0</th>\n",
       "      <td>2539329</td>\n",
       "      <td>1</td>\n",
       "      <td>prior</td>\n",
       "      <td>1</td>\n",
       "      <td>2</td>\n",
       "      <td>8</td>\n",
       "      <td>NaN</td>\n",
       "      <td>196</td>\n",
       "      <td>1</td>\n",
       "      <td>0</td>\n",
       "      <td>...</td>\n",
       "      <td>31</td>\n",
       "      <td>2/17/2019</td>\n",
       "      <td>3</td>\n",
       "      <td>married</td>\n",
       "      <td>40423</td>\n",
       "      <td>South</td>\n",
       "      <td>Active</td>\n",
       "      <td>active customer</td>\n",
       "      <td>beverages</td>\n",
       "      <td>18-39 years of age</td>\n",
       "    </tr>\n",
       "    <tr>\n",
       "      <th>1</th>\n",
       "      <td>2398795</td>\n",
       "      <td>1</td>\n",
       "      <td>prior</td>\n",
       "      <td>2</td>\n",
       "      <td>3</td>\n",
       "      <td>7</td>\n",
       "      <td>15.0</td>\n",
       "      <td>196</td>\n",
       "      <td>1</td>\n",
       "      <td>1</td>\n",
       "      <td>...</td>\n",
       "      <td>31</td>\n",
       "      <td>2/17/2019</td>\n",
       "      <td>3</td>\n",
       "      <td>married</td>\n",
       "      <td>40423</td>\n",
       "      <td>South</td>\n",
       "      <td>Active</td>\n",
       "      <td>active customer</td>\n",
       "      <td>beverages</td>\n",
       "      <td>18-39 years of age</td>\n",
       "    </tr>\n",
       "    <tr>\n",
       "      <th>2</th>\n",
       "      <td>473747</td>\n",
       "      <td>1</td>\n",
       "      <td>prior</td>\n",
       "      <td>3</td>\n",
       "      <td>3</td>\n",
       "      <td>12</td>\n",
       "      <td>21.0</td>\n",
       "      <td>196</td>\n",
       "      <td>1</td>\n",
       "      <td>1</td>\n",
       "      <td>...</td>\n",
       "      <td>31</td>\n",
       "      <td>2/17/2019</td>\n",
       "      <td>3</td>\n",
       "      <td>married</td>\n",
       "      <td>40423</td>\n",
       "      <td>South</td>\n",
       "      <td>Active</td>\n",
       "      <td>active customer</td>\n",
       "      <td>beverages</td>\n",
       "      <td>18-39 years of age</td>\n",
       "    </tr>\n",
       "    <tr>\n",
       "      <th>3</th>\n",
       "      <td>2254736</td>\n",
       "      <td>1</td>\n",
       "      <td>prior</td>\n",
       "      <td>4</td>\n",
       "      <td>4</td>\n",
       "      <td>7</td>\n",
       "      <td>29.0</td>\n",
       "      <td>196</td>\n",
       "      <td>1</td>\n",
       "      <td>1</td>\n",
       "      <td>...</td>\n",
       "      <td>31</td>\n",
       "      <td>2/17/2019</td>\n",
       "      <td>3</td>\n",
       "      <td>married</td>\n",
       "      <td>40423</td>\n",
       "      <td>South</td>\n",
       "      <td>Active</td>\n",
       "      <td>active customer</td>\n",
       "      <td>beverages</td>\n",
       "      <td>18-39 years of age</td>\n",
       "    </tr>\n",
       "    <tr>\n",
       "      <th>4</th>\n",
       "      <td>431534</td>\n",
       "      <td>1</td>\n",
       "      <td>prior</td>\n",
       "      <td>5</td>\n",
       "      <td>4</td>\n",
       "      <td>15</td>\n",
       "      <td>28.0</td>\n",
       "      <td>196</td>\n",
       "      <td>1</td>\n",
       "      <td>1</td>\n",
       "      <td>...</td>\n",
       "      <td>31</td>\n",
       "      <td>2/17/2019</td>\n",
       "      <td>3</td>\n",
       "      <td>married</td>\n",
       "      <td>40423</td>\n",
       "      <td>South</td>\n",
       "      <td>Active</td>\n",
       "      <td>active customer</td>\n",
       "      <td>beverages</td>\n",
       "      <td>18-39 years of age</td>\n",
       "    </tr>\n",
       "  </tbody>\n",
       "</table>\n",
       "<p>5 rows × 37 columns</p>\n",
       "</div>"
      ],
      "text/plain": [
       "   order_id  user_id eval_set  order_number  orders_day_of_week  \\\n",
       "0   2539329        1    prior             1                   2   \n",
       "1   2398795        1    prior             2                   3   \n",
       "2    473747        1    prior             3                   3   \n",
       "3   2254736        1    prior             4                   4   \n",
       "4    431534        1    prior             5                   4   \n",
       "\n",
       "   order_hour_of_day  days_since_previous_order  product_id  \\\n",
       "0                  8                        NaN         196   \n",
       "1                  7                       15.0         196   \n",
       "2                 12                       21.0         196   \n",
       "3                  7                       29.0         196   \n",
       "4                 15                       28.0         196   \n",
       "\n",
       "   add_to_cart_order  reordered  ... age  date_joined  n_dependants  \\\n",
       "0                  1          0  ...  31    2/17/2019             3   \n",
       "1                  1          1  ...  31    2/17/2019             3   \n",
       "2                  1          1  ...  31    2/17/2019             3   \n",
       "3                  1          1  ...  31    2/17/2019             3   \n",
       "4                  1          1  ...  31    2/17/2019             3   \n",
       "\n",
       "   fam_status income region Customer_Activity   exclusion_flag department  \\\n",
       "0     married  40423  South            Active  active customer  beverages   \n",
       "1     married  40423  South            Active  active customer  beverages   \n",
       "2     married  40423  South            Active  active customer  beverages   \n",
       "3     married  40423  South            Active  active customer  beverages   \n",
       "4     married  40423  South            Active  active customer  beverages   \n",
       "\n",
       "            age_group  \n",
       "0  18-39 years of age  \n",
       "1  18-39 years of age  \n",
       "2  18-39 years of age  \n",
       "3  18-39 years of age  \n",
       "4  18-39 years of age  \n",
       "\n",
       "[5 rows x 37 columns]"
      ]
     },
     "execution_count": 26,
     "metadata": {},
     "output_type": "execute_result"
    }
   ],
   "source": [
    "#Checking age_group column\n",
    "df_deptsw_merge.head()"
   ]
  },
  {
   "cell_type": "markdown",
   "id": "28a396e8",
   "metadata": {},
   "source": [
    "There are no under age <18 years of age IC customers."
   ]
  },
  {
   "cell_type": "markdown",
   "id": "d6467f94",
   "metadata": {},
   "source": [
    "# Creating with and without dependents groups and min, mean and max values"
   ]
  },
  {
   "cell_type": "code",
   "execution_count": 27,
   "id": "bfc898cc",
   "metadata": {},
   "outputs": [
    {
     "data": {
      "text/plain": [
       "0"
      ]
     },
     "execution_count": 27,
     "metadata": {},
     "output_type": "execute_result"
    }
   ],
   "source": [
    "df_deptsw_merge['n_dependants'].min()"
   ]
  },
  {
   "cell_type": "code",
   "execution_count": 28,
   "id": "f46d34f9",
   "metadata": {},
   "outputs": [
    {
     "data": {
      "text/plain": [
       "1.5017984578544135"
      ]
     },
     "execution_count": 28,
     "metadata": {},
     "output_type": "execute_result"
    }
   ],
   "source": [
    "df_deptsw_merge['n_dependants'].mean()"
   ]
  },
  {
   "cell_type": "code",
   "execution_count": 29,
   "id": "e94d3265",
   "metadata": {},
   "outputs": [
    {
     "data": {
      "text/plain": [
       "3"
      ]
     },
     "execution_count": 29,
     "metadata": {},
     "output_type": "execute_result"
    }
   ],
   "source": [
    "df_deptsw_merge['n_dependants'].max()"
   ]
  },
  {
   "cell_type": "code",
   "execution_count": 30,
   "id": "d9ad2b9a",
   "metadata": {},
   "outputs": [],
   "source": [
    "#with dependents\n",
    "df_deptsw_merge.loc[df_deptsw_merge['n_dependants'] > 0, 'dependents_group'] = 'with dependents'"
   ]
  },
  {
   "cell_type": "code",
   "execution_count": 31,
   "id": "27bc525f",
   "metadata": {},
   "outputs": [],
   "source": [
    "#without dependents\n",
    "df_deptsw_merge.loc[df_deptsw_merge['n_dependants'] <= 0, 'dependents_group'] = 'without dependents'"
   ]
  },
  {
   "cell_type": "code",
   "execution_count": 32,
   "id": "57ac2eb6",
   "metadata": {
    "scrolled": true
   },
   "outputs": [
    {
     "data": {
      "text/plain": [
       "dependents_group\n",
       "with dependents       23245632\n",
       "without dependents     7747032\n",
       "Name: count, dtype: int64"
      ]
     },
     "execution_count": 32,
     "metadata": {},
     "output_type": "execute_result"
    }
   ],
   "source": [
    "#Checking new groups\n",
    "df_deptsw_merge['dependents_group'].value_counts(dropna = False)"
   ]
  },
  {
   "cell_type": "code",
   "execution_count": 33,
   "id": "9ae75db1",
   "metadata": {
    "scrolled": true
   },
   "outputs": [
    {
     "data": {
      "image/png": "[encoded data removed]",
      "text/plain": [
       "<Figure size 640x480 with 1 Axes>"
      ]
     },
     "metadata": {},
     "output_type": "display_data"
    }
   ],
   "source": [
    "#Creating a bar chart of IC customers with and without dependents groups\n",
    "bardependents = df_deptsw_merge['dependents_group'].value_counts().plot.barh(color = ['cyan', 'orange'], title = 'With and Without Dependents Groups Profile')"
   ]
  },
  {
   "cell_type": "code",
   "execution_count": 34,
   "id": "95230f36",
   "metadata": {},
   "outputs": [],
   "source": [
    "#Exporting and saving it to IC folder\n",
    "bardependents.figure.savefig(os.path.join(path,'04 Analysis', 'Visualizations', 'final_dependents_profile.png'))"
   ]
  },
  {
   "cell_type": "markdown",
   "id": "30f15d4d",
   "metadata": {},
   "source": [
    "Results: 75% of IC customers are with dependents. ANd therefore, 25% are without dependents."
   ]
  },
  {
   "cell_type": "code",
   "execution_count": 35,
   "id": "502521b1",
   "metadata": {},
   "outputs": [
    {
     "data": {
      "text/html": [
       "<div>\n",
       "<style scoped>\n",
       "    .dataframe tbody tr th:only-of-type {\n",
       "        vertical-align: middle;\n",
       "    }\n",
       "\n",
       "    .dataframe tbody tr th {\n",
       "        vertical-align: top;\n",
       "    }\n",
       "\n",
       "    .dataframe thead th {\n",
       "        text-align: right;\n",
       "    }\n",
       "</style>\n",
       "<table border=\"1\" class=\"dataframe\">\n",
       "  <thead>\n",
       "    <tr style=\"text-align: right;\">\n",
       "      <th></th>\n",
       "      <th>order_id</th>\n",
       "      <th>user_id</th>\n",
       "      <th>eval_set</th>\n",
       "      <th>order_number</th>\n",
       "      <th>orders_day_of_week</th>\n",
       "      <th>order_hour_of_day</th>\n",
       "      <th>days_since_previous_order</th>\n",
       "      <th>product_id</th>\n",
       "      <th>add_to_cart_order</th>\n",
       "      <th>reordered</th>\n",
       "      <th>...</th>\n",
       "      <th>date_joined</th>\n",
       "      <th>n_dependants</th>\n",
       "      <th>fam_status</th>\n",
       "      <th>income</th>\n",
       "      <th>region</th>\n",
       "      <th>Customer_Activity</th>\n",
       "      <th>exclusion_flag</th>\n",
       "      <th>department</th>\n",
       "      <th>age_group</th>\n",
       "      <th>dependents_group</th>\n",
       "    </tr>\n",
       "  </thead>\n",
       "  <tbody>\n",
       "    <tr>\n",
       "      <th>0</th>\n",
       "      <td>2539329</td>\n",
       "      <td>1</td>\n",
       "      <td>prior</td>\n",
       "      <td>1</td>\n",
       "      <td>2</td>\n",
       "      <td>8</td>\n",
       "      <td>NaN</td>\n",
       "      <td>196</td>\n",
       "      <td>1</td>\n",
       "      <td>0</td>\n",
       "      <td>...</td>\n",
       "      <td>2/17/2019</td>\n",
       "      <td>3</td>\n",
       "      <td>married</td>\n",
       "      <td>40423</td>\n",
       "      <td>South</td>\n",
       "      <td>Active</td>\n",
       "      <td>active customer</td>\n",
       "      <td>beverages</td>\n",
       "      <td>18-39 years of age</td>\n",
       "      <td>with dependents</td>\n",
       "    </tr>\n",
       "    <tr>\n",
       "      <th>1</th>\n",
       "      <td>2398795</td>\n",
       "      <td>1</td>\n",
       "      <td>prior</td>\n",
       "      <td>2</td>\n",
       "      <td>3</td>\n",
       "      <td>7</td>\n",
       "      <td>15.0</td>\n",
       "      <td>196</td>\n",
       "      <td>1</td>\n",
       "      <td>1</td>\n",
       "      <td>...</td>\n",
       "      <td>2/17/2019</td>\n",
       "      <td>3</td>\n",
       "      <td>married</td>\n",
       "      <td>40423</td>\n",
       "      <td>South</td>\n",
       "      <td>Active</td>\n",
       "      <td>active customer</td>\n",
       "      <td>beverages</td>\n",
       "      <td>18-39 years of age</td>\n",
       "      <td>with dependents</td>\n",
       "    </tr>\n",
       "    <tr>\n",
       "      <th>2</th>\n",
       "      <td>473747</td>\n",
       "      <td>1</td>\n",
       "      <td>prior</td>\n",
       "      <td>3</td>\n",
       "      <td>3</td>\n",
       "      <td>12</td>\n",
       "      <td>21.0</td>\n",
       "      <td>196</td>\n",
       "      <td>1</td>\n",
       "      <td>1</td>\n",
       "      <td>...</td>\n",
       "      <td>2/17/2019</td>\n",
       "      <td>3</td>\n",
       "      <td>married</td>\n",
       "      <td>40423</td>\n",
       "      <td>South</td>\n",
       "      <td>Active</td>\n",
       "      <td>active customer</td>\n",
       "      <td>beverages</td>\n",
       "      <td>18-39 years of age</td>\n",
       "      <td>with dependents</td>\n",
       "    </tr>\n",
       "    <tr>\n",
       "      <th>3</th>\n",
       "      <td>2254736</td>\n",
       "      <td>1</td>\n",
       "      <td>prior</td>\n",
       "      <td>4</td>\n",
       "      <td>4</td>\n",
       "      <td>7</td>\n",
       "      <td>29.0</td>\n",
       "      <td>196</td>\n",
       "      <td>1</td>\n",
       "      <td>1</td>\n",
       "      <td>...</td>\n",
       "      <td>2/17/2019</td>\n",
       "      <td>3</td>\n",
       "      <td>married</td>\n",
       "      <td>40423</td>\n",
       "      <td>South</td>\n",
       "      <td>Active</td>\n",
       "      <td>active customer</td>\n",
       "      <td>beverages</td>\n",
       "      <td>18-39 years of age</td>\n",
       "      <td>with dependents</td>\n",
       "    </tr>\n",
       "    <tr>\n",
       "      <th>4</th>\n",
       "      <td>431534</td>\n",
       "      <td>1</td>\n",
       "      <td>prior</td>\n",
       "      <td>5</td>\n",
       "      <td>4</td>\n",
       "      <td>15</td>\n",
       "      <td>28.0</td>\n",
       "      <td>196</td>\n",
       "      <td>1</td>\n",
       "      <td>1</td>\n",
       "      <td>...</td>\n",
       "      <td>2/17/2019</td>\n",
       "      <td>3</td>\n",
       "      <td>married</td>\n",
       "      <td>40423</td>\n",
       "      <td>South</td>\n",
       "      <td>Active</td>\n",
       "      <td>active customer</td>\n",
       "      <td>beverages</td>\n",
       "      <td>18-39 years of age</td>\n",
       "      <td>with dependents</td>\n",
       "    </tr>\n",
       "  </tbody>\n",
       "</table>\n",
       "<p>5 rows × 38 columns</p>\n",
       "</div>"
      ],
      "text/plain": [
       "   order_id  user_id eval_set  order_number  orders_day_of_week  \\\n",
       "0   2539329        1    prior             1                   2   \n",
       "1   2398795        1    prior             2                   3   \n",
       "2    473747        1    prior             3                   3   \n",
       "3   2254736        1    prior             4                   4   \n",
       "4    431534        1    prior             5                   4   \n",
       "\n",
       "   order_hour_of_day  days_since_previous_order  product_id  \\\n",
       "0                  8                        NaN         196   \n",
       "1                  7                       15.0         196   \n",
       "2                 12                       21.0         196   \n",
       "3                  7                       29.0         196   \n",
       "4                 15                       28.0         196   \n",
       "\n",
       "   add_to_cart_order  reordered  ... date_joined  n_dependants  fam_status  \\\n",
       "0                  1          0  ...   2/17/2019             3     married   \n",
       "1                  1          1  ...   2/17/2019             3     married   \n",
       "2                  1          1  ...   2/17/2019             3     married   \n",
       "3                  1          1  ...   2/17/2019             3     married   \n",
       "4                  1          1  ...   2/17/2019             3     married   \n",
       "\n",
       "   income region Customer_Activity   exclusion_flag department  \\\n",
       "0   40423  South            Active  active customer  beverages   \n",
       "1   40423  South            Active  active customer  beverages   \n",
       "2   40423  South            Active  active customer  beverages   \n",
       "3   40423  South            Active  active customer  beverages   \n",
       "4   40423  South            Active  active customer  beverages   \n",
       "\n",
       "            age_group  dependents_group  \n",
       "0  18-39 years of age   with dependents  \n",
       "1  18-39 years of age   with dependents  \n",
       "2  18-39 years of age   with dependents  \n",
       "3  18-39 years of age   with dependents  \n",
       "4  18-39 years of age   with dependents  \n",
       "\n",
       "[5 rows x 38 columns]"
      ]
     },
     "execution_count": 35,
     "metadata": {},
     "output_type": "execute_result"
    }
   ],
   "source": [
    "#Checking columns of new group\n",
    "df_deptsw_merge.head()"
   ]
  },
  {
   "cell_type": "markdown",
   "id": "38036e25",
   "metadata": {},
   "source": [
    "# Creating three income groups and min, mean and max values"
   ]
  },
  {
   "cell_type": "code",
   "execution_count": 36,
   "id": "164a6377",
   "metadata": {},
   "outputs": [
    {
     "data": {
      "text/plain": [
       "25903"
      ]
     },
     "execution_count": 36,
     "metadata": {},
     "output_type": "execute_result"
    }
   ],
   "source": [
    "df_deptsw_merge['income'].min()"
   ]
  },
  {
   "cell_type": "code",
   "execution_count": 37,
   "id": "8086ba83",
   "metadata": {},
   "outputs": [
    {
     "data": {
      "text/plain": [
       "99673.22000835424"
      ]
     },
     "execution_count": 37,
     "metadata": {},
     "output_type": "execute_result"
    }
   ],
   "source": [
    "df_deptsw_merge['income'].mean()"
   ]
  },
  {
   "cell_type": "code",
   "execution_count": 38,
   "id": "5c413030",
   "metadata": {},
   "outputs": [
    {
     "data": {
      "text/plain": [
       "593901"
      ]
     },
     "execution_count": 38,
     "metadata": {},
     "output_type": "execute_result"
    }
   ],
   "source": [
    "df_deptsw_merge['income'].max()"
   ]
  },
  {
   "cell_type": "code",
   "execution_count": 39,
   "id": "04802030",
   "metadata": {},
   "outputs": [],
   "source": [
    "# income below $50\n",
    "df_deptsw_merge.loc[df_deptsw_merge['income']<50000,'income_group'] ='lower income'"
   ]
  },
  {
   "cell_type": "code",
   "execution_count": 40,
   "id": "53efd9df",
   "metadata": {},
   "outputs": [],
   "source": [
    "# income  $50000 - $150000\n",
    "df_deptsw_merge.loc[(df_deptsw_merge['income']>=50000) & (df_deptsw_merge['income']<150000),'income_group'] ='middle income'"
   ]
  },
  {
   "cell_type": "code",
   "execution_count": 41,
   "id": "a0647f3d",
   "metadata": {},
   "outputs": [],
   "source": [
    "# income $150000 and above\n",
    "df_deptsw_merge.loc[df_deptsw_merge['income']>=150000,'income_group'] ='higher income'"
   ]
  },
  {
   "cell_type": "code",
   "execution_count": 42,
   "id": "7c2bb125",
   "metadata": {},
   "outputs": [
    {
     "data": {
      "text/plain": [
       "income_group\n",
       "middle income    23727864\n",
       "higher income     3898651\n",
       "lower income      3366149\n",
       "Name: count, dtype: int64"
      ]
     },
     "execution_count": 42,
     "metadata": {},
     "output_type": "execute_result"
    }
   ],
   "source": [
    "#Checking new groups\n",
    "df_deptsw_merge['income_group'].value_counts(dropna=False)"
   ]
  },
  {
   "cell_type": "code",
   "execution_count": 43,
   "id": "0744efe2",
   "metadata": {},
   "outputs": [
    {
     "data": {
      "image/png": "[encoded data removed]",
      "text/plain": [
       "<Figure size 640x480 with 1 Axes>"
      ]
     },
     "metadata": {},
     "output_type": "display_data"
    }
   ],
   "source": [
    "#Creating a bar chart of IC customers icnome groups\n",
    "barincome = df_deptsw_merge['income_group'].value_counts().plot.barh(color = ['blue', 'cyan', 'orange'], title = 'Income Groups Profile')"
   ]
  },
  {
   "cell_type": "code",
   "execution_count": 44,
   "id": "a18720c8",
   "metadata": {},
   "outputs": [],
   "source": [
    "#Exporting and saving it to IC folder\n",
    "barincome.figure.savefig(os.path.join(path,'04 Analysis', 'Visualizations', 'final_income_profile.png'))"
   ]
  },
  {
   "cell_type": "markdown",
   "id": "a97f2401",
   "metadata": {},
   "source": [
    "Lower income IC customers account for 11%, while 89% are in middle to higher income brackets. "
   ]
  },
  {
   "cell_type": "code",
   "execution_count": 45,
   "id": "7ef3696c",
   "metadata": {},
   "outputs": [
    {
     "data": {
      "text/html": [
       "<div>\n",
       "<style scoped>\n",
       "    .dataframe tbody tr th:only-of-type {\n",
       "        vertical-align: middle;\n",
       "    }\n",
       "\n",
       "    .dataframe tbody tr th {\n",
       "        vertical-align: top;\n",
       "    }\n",
       "\n",
       "    .dataframe thead th {\n",
       "        text-align: right;\n",
       "    }\n",
       "</style>\n",
       "<table border=\"1\" class=\"dataframe\">\n",
       "  <thead>\n",
       "    <tr style=\"text-align: right;\">\n",
       "      <th></th>\n",
       "      <th>order_id</th>\n",
       "      <th>user_id</th>\n",
       "      <th>eval_set</th>\n",
       "      <th>order_number</th>\n",
       "      <th>orders_day_of_week</th>\n",
       "      <th>order_hour_of_day</th>\n",
       "      <th>days_since_previous_order</th>\n",
       "      <th>product_id</th>\n",
       "      <th>add_to_cart_order</th>\n",
       "      <th>reordered</th>\n",
       "      <th>...</th>\n",
       "      <th>n_dependants</th>\n",
       "      <th>fam_status</th>\n",
       "      <th>income</th>\n",
       "      <th>region</th>\n",
       "      <th>Customer_Activity</th>\n",
       "      <th>exclusion_flag</th>\n",
       "      <th>department</th>\n",
       "      <th>age_group</th>\n",
       "      <th>dependents_group</th>\n",
       "      <th>income_group</th>\n",
       "    </tr>\n",
       "  </thead>\n",
       "  <tbody>\n",
       "    <tr>\n",
       "      <th>0</th>\n",
       "      <td>2539329</td>\n",
       "      <td>1</td>\n",
       "      <td>prior</td>\n",
       "      <td>1</td>\n",
       "      <td>2</td>\n",
       "      <td>8</td>\n",
       "      <td>NaN</td>\n",
       "      <td>196</td>\n",
       "      <td>1</td>\n",
       "      <td>0</td>\n",
       "      <td>...</td>\n",
       "      <td>3</td>\n",
       "      <td>married</td>\n",
       "      <td>40423</td>\n",
       "      <td>South</td>\n",
       "      <td>Active</td>\n",
       "      <td>active customer</td>\n",
       "      <td>beverages</td>\n",
       "      <td>18-39 years of age</td>\n",
       "      <td>with dependents</td>\n",
       "      <td>lower income</td>\n",
       "    </tr>\n",
       "    <tr>\n",
       "      <th>1</th>\n",
       "      <td>2398795</td>\n",
       "      <td>1</td>\n",
       "      <td>prior</td>\n",
       "      <td>2</td>\n",
       "      <td>3</td>\n",
       "      <td>7</td>\n",
       "      <td>15.0</td>\n",
       "      <td>196</td>\n",
       "      <td>1</td>\n",
       "      <td>1</td>\n",
       "      <td>...</td>\n",
       "      <td>3</td>\n",
       "      <td>married</td>\n",
       "      <td>40423</td>\n",
       "      <td>South</td>\n",
       "      <td>Active</td>\n",
       "      <td>active customer</td>\n",
       "      <td>beverages</td>\n",
       "      <td>18-39 years of age</td>\n",
       "      <td>with dependents</td>\n",
       "      <td>lower income</td>\n",
       "    </tr>\n",
       "    <tr>\n",
       "      <th>2</th>\n",
       "      <td>473747</td>\n",
       "      <td>1</td>\n",
       "      <td>prior</td>\n",
       "      <td>3</td>\n",
       "      <td>3</td>\n",
       "      <td>12</td>\n",
       "      <td>21.0</td>\n",
       "      <td>196</td>\n",
       "      <td>1</td>\n",
       "      <td>1</td>\n",
       "      <td>...</td>\n",
       "      <td>3</td>\n",
       "      <td>married</td>\n",
       "      <td>40423</td>\n",
       "      <td>South</td>\n",
       "      <td>Active</td>\n",
       "      <td>active customer</td>\n",
       "      <td>beverages</td>\n",
       "      <td>18-39 years of age</td>\n",
       "      <td>with dependents</td>\n",
       "      <td>lower income</td>\n",
       "    </tr>\n",
       "    <tr>\n",
       "      <th>3</th>\n",
       "      <td>2254736</td>\n",
       "      <td>1</td>\n",
       "      <td>prior</td>\n",
       "      <td>4</td>\n",
       "      <td>4</td>\n",
       "      <td>7</td>\n",
       "      <td>29.0</td>\n",
       "      <td>196</td>\n",
       "      <td>1</td>\n",
       "      <td>1</td>\n",
       "      <td>...</td>\n",
       "      <td>3</td>\n",
       "      <td>married</td>\n",
       "      <td>40423</td>\n",
       "      <td>South</td>\n",
       "      <td>Active</td>\n",
       "      <td>active customer</td>\n",
       "      <td>beverages</td>\n",
       "      <td>18-39 years of age</td>\n",
       "      <td>with dependents</td>\n",
       "      <td>lower income</td>\n",
       "    </tr>\n",
       "    <tr>\n",
       "      <th>4</th>\n",
       "      <td>431534</td>\n",
       "      <td>1</td>\n",
       "      <td>prior</td>\n",
       "      <td>5</td>\n",
       "      <td>4</td>\n",
       "      <td>15</td>\n",
       "      <td>28.0</td>\n",
       "      <td>196</td>\n",
       "      <td>1</td>\n",
       "      <td>1</td>\n",
       "      <td>...</td>\n",
       "      <td>3</td>\n",
       "      <td>married</td>\n",
       "      <td>40423</td>\n",
       "      <td>South</td>\n",
       "      <td>Active</td>\n",
       "      <td>active customer</td>\n",
       "      <td>beverages</td>\n",
       "      <td>18-39 years of age</td>\n",
       "      <td>with dependents</td>\n",
       "      <td>lower income</td>\n",
       "    </tr>\n",
       "  </tbody>\n",
       "</table>\n",
       "<p>5 rows × 39 columns</p>\n",
       "</div>"
      ],
      "text/plain": [
       "   order_id  user_id eval_set  order_number  orders_day_of_week  \\\n",
       "0   2539329        1    prior             1                   2   \n",
       "1   2398795        1    prior             2                   3   \n",
       "2    473747        1    prior             3                   3   \n",
       "3   2254736        1    prior             4                   4   \n",
       "4    431534        1    prior             5                   4   \n",
       "\n",
       "   order_hour_of_day  days_since_previous_order  product_id  \\\n",
       "0                  8                        NaN         196   \n",
       "1                  7                       15.0         196   \n",
       "2                 12                       21.0         196   \n",
       "3                  7                       29.0         196   \n",
       "4                 15                       28.0         196   \n",
       "\n",
       "   add_to_cart_order  reordered  ... n_dependants  fam_status  income  region  \\\n",
       "0                  1          0  ...            3     married   40423   South   \n",
       "1                  1          1  ...            3     married   40423   South   \n",
       "2                  1          1  ...            3     married   40423   South   \n",
       "3                  1          1  ...            3     married   40423   South   \n",
       "4                  1          1  ...            3     married   40423   South   \n",
       "\n",
       "  Customer_Activity   exclusion_flag department           age_group  \\\n",
       "0            Active  active customer  beverages  18-39 years of age   \n",
       "1            Active  active customer  beverages  18-39 years of age   \n",
       "2            Active  active customer  beverages  18-39 years of age   \n",
       "3            Active  active customer  beverages  18-39 years of age   \n",
       "4            Active  active customer  beverages  18-39 years of age   \n",
       "\n",
       "  dependents_group  income_group  \n",
       "0  with dependents  lower income  \n",
       "1  with dependents  lower income  \n",
       "2  with dependents  lower income  \n",
       "3  with dependents  lower income  \n",
       "4  with dependents  lower income  \n",
       "\n",
       "[5 rows x 39 columns]"
      ]
     },
     "execution_count": 45,
     "metadata": {},
     "output_type": "execute_result"
    }
   ],
   "source": [
    "#Checking column of new income_group\n",
    "df_deptsw_merge.head()"
   ]
  },
  {
   "cell_type": "markdown",
   "id": "d0715ef7",
   "metadata": {},
   "source": [
    "# fam_status Customer profiles - single, aged 18-39, without dependents and married ages 40-59 and/or 60-81, with dependents"
   ]
  },
  {
   "cell_type": "markdown",
   "id": "d2e70b7e",
   "metadata": {},
   "source": [
    "#Creating a profile_fam_age_deps based on fam_status, age_group and n_dependents\n",
    "\n",
    "# single & without dependents"
   ]
  },
  {
   "cell_type": "code",
   "execution_count": 46,
   "id": "65bdb4aa",
   "metadata": {},
   "outputs": [],
   "source": [
    "#18-39 years of age single young adult without deps\n",
    "df_deptsw_merge.loc[(df_deptsw_merge['age_group']== '18-39 years of age') & (df_deptsw_merge['fam_status'].isin(['single', 'divorced/widowed'])) & (df_deptsw_merge['dependents_group'] == 'without dependents'), 'profile_fam_age_deps']= 'single young aged 18-39 without dependents'"
   ]
  },
  {
   "cell_type": "code",
   "execution_count": 47,
   "id": "c0047731",
   "metadata": {},
   "outputs": [],
   "source": [
    "# 40 - 59 years of age single without deps\n",
    "df_deptsw_merge.loc[(df_deptsw_merge['age_group']== '40-59 years of age') & (df_deptsw_merge['fam_status'].isin(['single', 'divorced/widowed'])) & (df_deptsw_merge['dependents_group'] == 'without dependents'), 'profile_fam_age_deps']= 'single aged 40-59 without dependents'"
   ]
  },
  {
   "cell_type": "code",
   "execution_count": 48,
   "id": "c40d5111",
   "metadata": {},
   "outputs": [],
   "source": [
    "# 60-81 years of age single older without deps\n",
    "df_deptsw_merge.loc[(df_deptsw_merge['age_group']== '60-81 years of age') & (df_deptsw_merge['fam_status'].isin(['single', 'divorced/widowed'])) & (df_deptsw_merge['dependents_group'] == 'without dependents'), 'profile_fam_age_deps']= 'single older aged 60-81 without dependents'"
   ]
  },
  {
   "cell_type": "markdown",
   "id": "87dafcbf",
   "metadata": {},
   "source": [
    "# single & with dependents"
   ]
  },
  {
   "cell_type": "code",
   "execution_count": 49,
   "id": "fc517fa0",
   "metadata": {},
   "outputs": [],
   "source": [
    "#18-39 years of age single young adult with deps\n",
    "df_deptsw_merge.loc[(df_deptsw_merge['age_group']== '18-39 years of age') & (df_deptsw_merge['fam_status'] == 'living with parents and siblings') & (df_deptsw_merge['dependents_group'] == 'with dependents'), 'profile_fam_age_deps']= 'single young aged 18-39 with dependents'"
   ]
  },
  {
   "cell_type": "code",
   "execution_count": 50,
   "id": "ec73e436",
   "metadata": {},
   "outputs": [],
   "source": [
    "#40-59 years of age single young adult with deps\n",
    "df_deptsw_merge.loc[(df_deptsw_merge['age_group']== '40-59 years of age') & (df_deptsw_merge['fam_status'] == 'living with parents and siblings') & (df_deptsw_merge['dependents_group'] == 'with dependents'), 'profile_fam_age_deps']= 'single aged 40-59 with dependents'"
   ]
  },
  {
   "cell_type": "code",
   "execution_count": 51,
   "id": "02d1e0c9",
   "metadata": {},
   "outputs": [],
   "source": [
    "#60-81 years of age single older adult with deps\n",
    "df_deptsw_merge.loc[(df_deptsw_merge['age_group']== '60-81 years of age') & (df_deptsw_merge['fam_status'] == 'living with parents and siblings') & (df_deptsw_merge['dependents_group'] == 'with dependents'), 'profile_fam_age_deps']= 'single older aged 60-81 with dependents'"
   ]
  },
  {
   "cell_type": "markdown",
   "id": "a6ad0b3a",
   "metadata": {},
   "source": [
    "# married with dependents"
   ]
  },
  {
   "cell_type": "code",
   "execution_count": 52,
   "id": "58c9fe83",
   "metadata": {},
   "outputs": [],
   "source": [
    "#18-39 years of age married young with deps\n",
    "df_deptsw_merge.loc[(df_deptsw_merge['age_group']== '18-39 years of age') & (df_deptsw_merge['fam_status'] == 'married') & (df_deptsw_merge['dependents_group'] == 'with dependents'), 'profile_fam_age_deps']= 'married young aged 18-39 with dependents'"
   ]
  },
  {
   "cell_type": "code",
   "execution_count": 53,
   "id": "5441680b",
   "metadata": {},
   "outputs": [],
   "source": [
    "#40-59 years of married with deps\n",
    "df_deptsw_merge.loc[(df_deptsw_merge['age_group']== '40-59 years of age') & (df_deptsw_merge['fam_status'] == 'married') & (df_deptsw_merge['dependents_group'] == 'with dependents'), 'profile_fam_age_deps']= 'married aged 40-59 with dependents'"
   ]
  },
  {
   "cell_type": "code",
   "execution_count": 54,
   "id": "76f650e4",
   "metadata": {},
   "outputs": [],
   "source": [
    "#60-81 years of age married older with deps\n",
    "df_deptsw_merge.loc[(df_deptsw_merge['age_group']== '60-81 years of age') & (df_deptsw_merge['fam_status'] == 'married') & (df_deptsw_merge['dependents_group'] == 'with dependents'), 'profile_fam_age_deps']= 'married older aged 60-81 with dependents'"
   ]
  },
  {
   "cell_type": "code",
   "execution_count": 55,
   "id": "c18e9592",
   "metadata": {},
   "outputs": [
    {
     "data": {
      "text/plain": [
       "profile_fam_age_deps\n",
       "married older aged 60-81 with dependents      7936180\n",
       "married aged 40-59 with dependents            7297748\n",
       "married young aged 18-39 with dependents      6529093\n",
       "single young aged 18-39 without dependents    2662946\n",
       "single older aged 60-81 without dependents    2647761\n",
       "single aged 40-59 without dependents          2436325\n",
       "single young aged 18-39 with dependents       1482611\n",
       "Name: count, dtype: int64"
      ]
     },
     "execution_count": 55,
     "metadata": {},
     "output_type": "execute_result"
    }
   ],
   "source": [
    "# Checking new groups\n",
    "df_deptsw_merge['profile_fam_age_deps'].value_counts(dropna = False)"
   ]
  },
  {
   "cell_type": "code",
   "execution_count": 56,
   "id": "cc88dd9a",
   "metadata": {},
   "outputs": [
    {
     "data": {
      "image/png": "[encoded data removed]",
      "text/plain": [
       "<Figure size 640x480 with 1 Axes>"
      ]
     },
     "metadata": {},
     "output_type": "display_data"
    }
   ],
   "source": [
    "#Creating a bar chart of IC profile family, age & with or without dependents groups\n",
    "barfamagedeps = df_deptsw_merge['profile_fam_age_deps'].value_counts().plot.barh(color = ['blue', 'cyan', 'orange', 'darkblue', 'darkorange'], title = 'Family Status, Age and Dependents Profile')"
   ]
  },
  {
   "cell_type": "code",
   "execution_count": 57,
   "id": "29f4c946",
   "metadata": {},
   "outputs": [],
   "source": [
    "#Exporting and saving it to IC folder\n",
    "barfamagedeps.figure.savefig(os.path.join(path,'04 Analysis', 'Visualizations', 'final_fam_age_deps_profile.png'))"
   ]
  },
  {
   "cell_type": "code",
   "execution_count": 58,
   "id": "9de3865e",
   "metadata": {},
   "outputs": [
    {
     "data": {
      "text/plain": [
       "fam_status\n",
       "married                             21763021\n",
       "single                               5099271\n",
       "divorced/widowed                     2647761\n",
       "living with parents and siblings     1482611\n",
       "Name: count, dtype: int64"
      ]
     },
     "execution_count": 58,
     "metadata": {},
     "output_type": "execute_result"
    }
   ],
   "source": [
    "#Checking fam_status counts\n",
    "df_deptsw_merge['fam_status'].value_counts(dropna = False)"
   ]
  },
  {
   "cell_type": "code",
   "execution_count": 59,
   "id": "ed5d5ef4",
   "metadata": {},
   "outputs": [
    {
     "data": {
      "image/png": "[encoded data removed]",
      "text/plain": [
       "<Figure size 640x480 with 1 Axes>"
      ]
     },
     "metadata": {},
     "output_type": "display_data"
    }
   ],
   "source": [
    "#Creating a bar chart of IC customers family status groups\n",
    "barfamilystatus = df_deptsw_merge['fam_status'].value_counts().plot.barh(color = ['blue', 'cyan', 'orange', 'cornflowerblue'], title = 'Family Status Profile')"
   ]
  },
  {
   "cell_type": "code",
   "execution_count": 60,
   "id": "435d1669",
   "metadata": {},
   "outputs": [],
   "source": [
    "#Exporting and saving it to IC folder\n",
    "barfamilystatus.figure.savefig(os.path.join(path,'04 Analysis', 'Visualizations', 'final_family_status_profile.png'))"
   ]
  },
  {
   "cell_type": "code",
   "execution_count": 61,
   "id": "c6d3c5f5",
   "metadata": {},
   "outputs": [],
   "source": [
    "#Creating a crosstab for family status with or without dependents\n",
    "family_dependents_crosstab=pd.crosstab(df_deptsw_merge['dependents_group'], df_deptsw_merge['fam_status'], dropna=False)"
   ]
  },
  {
   "cell_type": "code",
   "execution_count": 62,
   "id": "7fb4ba65",
   "metadata": {},
   "outputs": [
    {
     "data": {
      "text/html": [
       "<div>\n",
       "<style scoped>\n",
       "    .dataframe tbody tr th:only-of-type {\n",
       "        vertical-align: middle;\n",
       "    }\n",
       "\n",
       "    .dataframe tbody tr th {\n",
       "        vertical-align: top;\n",
       "    }\n",
       "\n",
       "    .dataframe thead th {\n",
       "        text-align: right;\n",
       "    }\n",
       "</style>\n",
       "<table border=\"1\" class=\"dataframe\">\n",
       "  <thead>\n",
       "    <tr style=\"text-align: right;\">\n",
       "      <th>fam_status</th>\n",
       "      <th>divorced/widowed</th>\n",
       "      <th>living with parents and siblings</th>\n",
       "      <th>married</th>\n",
       "      <th>single</th>\n",
       "    </tr>\n",
       "    <tr>\n",
       "      <th>dependents_group</th>\n",
       "      <th></th>\n",
       "      <th></th>\n",
       "      <th></th>\n",
       "      <th></th>\n",
       "    </tr>\n",
       "  </thead>\n",
       "  <tbody>\n",
       "    <tr>\n",
       "      <th>with dependents</th>\n",
       "      <td>0</td>\n",
       "      <td>1482611</td>\n",
       "      <td>21763021</td>\n",
       "      <td>0</td>\n",
       "    </tr>\n",
       "    <tr>\n",
       "      <th>without dependents</th>\n",
       "      <td>2647761</td>\n",
       "      <td>0</td>\n",
       "      <td>0</td>\n",
       "      <td>5099271</td>\n",
       "    </tr>\n",
       "  </tbody>\n",
       "</table>\n",
       "</div>"
      ],
      "text/plain": [
       "fam_status          divorced/widowed  living with parents and siblings  \\\n",
       "dependents_group                                                         \n",
       "with dependents                    0                           1482611   \n",
       "without dependents           2647761                                 0   \n",
       "\n",
       "fam_status           married   single  \n",
       "dependents_group                       \n",
       "with dependents     21763021        0  \n",
       "without dependents         0  5099271  "
      ]
     },
     "execution_count": 62,
     "metadata": {},
     "output_type": "execute_result"
    }
   ],
   "source": [
    "#Checking the new crosstab\n",
    "family_dependents_crosstab"
   ]
  },
  {
   "cell_type": "markdown",
   "id": "b7f72703",
   "metadata": {},
   "source": [
    "Results: Only 25 % of IC customers are (single) adults without dependents. As a result, 75% of IC customers are families with dependents. "
   ]
  },
  {
   "cell_type": "code",
   "execution_count": 63,
   "id": "f96a4c8a",
   "metadata": {},
   "outputs": [
    {
     "data": {
      "text/plain": [
       "<bound method NDFrame.to_clipboard of fam_status          divorced/widowed  living with parents and siblings  \\\n",
       "dependents_group                                                         \n",
       "with dependents                    0                           1482611   \n",
       "without dependents           2647761                                 0   \n",
       "\n",
       "fam_status           married   single  \n",
       "dependents_group                       \n",
       "with dependents     21763021        0  \n",
       "without dependents         0  5099271  >"
      ]
     },
     "execution_count": 63,
     "metadata": {},
     "output_type": "execute_result"
    }
   ],
   "source": [
    "#Sending to clipboard for Excel\n",
    "family_dependents_crosstab.to_clipboard"
   ]
  },
  {
   "cell_type": "code",
   "execution_count": 64,
   "id": "72d610f5",
   "metadata": {},
   "outputs": [],
   "source": [
    "#Creating a crosstab to include the age_group and with or without dependents comparison\n",
    "ages_dependents_crosstab =pd.crosstab(df_deptsw_merge['age_group'], df_deptsw_merge['dependents_group'],dropna=False)"
   ]
  },
  {
   "cell_type": "code",
   "execution_count": 65,
   "id": "e7e184e9",
   "metadata": {},
   "outputs": [
    {
     "data": {
      "text/html": [
       "<div>\n",
       "<style scoped>\n",
       "    .dataframe tbody tr th:only-of-type {\n",
       "        vertical-align: middle;\n",
       "    }\n",
       "\n",
       "    .dataframe tbody tr th {\n",
       "        vertical-align: top;\n",
       "    }\n",
       "\n",
       "    .dataframe thead th {\n",
       "        text-align: right;\n",
       "    }\n",
       "</style>\n",
       "<table border=\"1\" class=\"dataframe\">\n",
       "  <thead>\n",
       "    <tr style=\"text-align: right;\">\n",
       "      <th>dependents_group</th>\n",
       "      <th>with dependents</th>\n",
       "      <th>without dependents</th>\n",
       "    </tr>\n",
       "    <tr>\n",
       "      <th>age_group</th>\n",
       "      <th></th>\n",
       "      <th></th>\n",
       "    </tr>\n",
       "  </thead>\n",
       "  <tbody>\n",
       "    <tr>\n",
       "      <th>18-39 years of age</th>\n",
       "      <td>8011704</td>\n",
       "      <td>2662946</td>\n",
       "    </tr>\n",
       "    <tr>\n",
       "      <th>40-59 years of age</th>\n",
       "      <td>7297748</td>\n",
       "      <td>2436325</td>\n",
       "    </tr>\n",
       "    <tr>\n",
       "      <th>60-81 years of age</th>\n",
       "      <td>7936180</td>\n",
       "      <td>2647761</td>\n",
       "    </tr>\n",
       "  </tbody>\n",
       "</table>\n",
       "</div>"
      ],
      "text/plain": [
       "dependents_group    with dependents  without dependents\n",
       "age_group                                              \n",
       "18-39 years of age          8011704             2662946\n",
       "40-59 years of age          7297748             2436325\n",
       "60-81 years of age          7936180             2647761"
      ]
     },
     "execution_count": 65,
     "metadata": {},
     "output_type": "execute_result"
    }
   ],
   "source": [
    "#Checking the new crosstab\n",
    "ages_dependents_crosstab"
   ]
  },
  {
   "cell_type": "code",
   "execution_count": 66,
   "id": "46576310",
   "metadata": {},
   "outputs": [],
   "source": [
    "#Sending to clipboard for Excel\n",
    "ages_dependents_crosstab.to_clipboard()"
   ]
  },
  {
   "cell_type": "code",
   "execution_count": 67,
   "id": "f1c5fdda",
   "metadata": {},
   "outputs": [
    {
     "data": {
      "text/plain": [
       "(30992664,)"
      ]
     },
     "execution_count": 67,
     "metadata": {},
     "output_type": "execute_result"
    }
   ],
   "source": [
    "#checking dimensions of fam_status total\n",
    "df_deptsw_merge['fam_status'].shape"
   ]
  },
  {
   "cell_type": "markdown",
   "id": "02f53f1c",
   "metadata": {},
   "source": [
    "Results: Further, 65% of IC customers in total are the majority and consisting of family with dependents from the two higher age groups of 40 and above; 40-59 and 60-81 years of age.\n",
    "\n",
    "Meanwhile, younger families with dependents making up the other 35%. \n",
    "\n",
    "Consequently, youngest(aged 18-39)-without dependents only account for less than 9% of IC singles customer base, while age groups 40 and above-without dependents make up 16%.\n",
    "\n",
    "Therefore, it is recommended that the IC customer experience caters to families and that it is a user-friendly one. "
   ]
  },
  {
   "cell_type": "markdown",
   "id": "4d8912a3",
   "metadata": {},
   "source": [
    "# The addition of income variable to fam_status Customer profiles:\n",
    "\n",
    "# single; ages 18-39, 40-59 and 60-81; and with or without dependents  \n",
    "\n",
    "# married; ages 18-39, 40-59 and/or 60-81; and with or without dependents"
   ]
  },
  {
   "cell_type": "markdown",
   "id": "a0f5c5d2",
   "metadata": {},
   "source": [
    "# Creating a customer profile based on income-lower, middle, higher variable to fam_status, age, and n_dependents\n"
   ]
  },
  {
   "cell_type": "markdown",
   "id": "3b7f9985",
   "metadata": {},
   "source": [
    "# Lower income single - with or without dependents"
   ]
  },
  {
   "cell_type": "code",
   "execution_count": 68,
   "id": "69721c12",
   "metadata": {},
   "outputs": [],
   "source": [
    "# lower income young single aged 18-39 without dependents\n",
    "df_deptsw_merge.loc[(df_deptsw_merge['age_group']== '18-39 years of age') & (df_deptsw_merge['fam_status'].isin(['single', 'divorced/widowed'])) & (df_deptsw_merge['income_group']=='lower income') & (df_deptsw_merge['dependents_group'] == 'without dependents'), 'profile_income']= 'lower income single young aged 18-39 without dependents'"
   ]
  },
  {
   "cell_type": "code",
   "execution_count": 69,
   "id": "98db6caa",
   "metadata": {},
   "outputs": [],
   "source": [
    "# lower income young aged 18-39 living with parents and siblings with dependents\n",
    "df_deptsw_merge.loc[(df_deptsw_merge['age_group']== '18-39 years of age') & (df_deptsw_merge['fam_status']  == 'living with parents and siblings') & (df_deptsw_merge['income_group']=='lower income') & (df_deptsw_merge['dependents_group'] == 'with dependents'), 'profile_income']= 'lower income young aged 18-39 with dependents'"
   ]
  },
  {
   "cell_type": "code",
   "execution_count": 70,
   "id": "237e3e4a",
   "metadata": {},
   "outputs": [],
   "source": [
    "# lower income single aged 40-59 without dependents\n",
    "df_deptsw_merge.loc[(df_deptsw_merge['age_group']== '40-59 years of age') & (df_deptsw_merge['fam_status'].isin(['single', 'divorced/widowed'])) & (df_deptsw_merge['income_group']=='lower income') & (df_deptsw_merge['dependents_group'] == 'without dependents'), 'profile_income']= 'lower income single aged 40-59 without dependents'"
   ]
  },
  {
   "cell_type": "code",
   "execution_count": 71,
   "id": "cb8c3139",
   "metadata": {},
   "outputs": [],
   "source": [
    "# lower income single middle aged 40-59 living with parents and siblings with dependents\n",
    "df_deptsw_merge.loc[(df_deptsw_merge['age_group']== '40-59 years of age') & (df_deptsw_merge['fam_status']  == 'living with parents and siblings') & (df_deptsw_merge['income_group']=='lower income') & (df_deptsw_merge['dependents_group'] == 'with dependents'), 'profile_income']= 'lower income aged 40-59 with dependents'"
   ]
  },
  {
   "cell_type": "code",
   "execution_count": 72,
   "id": "1dd592b2",
   "metadata": {},
   "outputs": [],
   "source": [
    "# lower income single older aged 60-81 without dependents\n",
    "df_deptsw_merge.loc[(df_deptsw_merge['age_group']== '60-81 years of age') & (df_deptsw_merge['fam_status'].isin(['single', 'divorced/widowed'])) & (df_deptsw_merge['income_group']=='lower income') & (df_deptsw_merge['dependents_group'] == 'without dependents'), 'profile_income']= 'lower income single older aged 60-81 without dependents'"
   ]
  },
  {
   "cell_type": "code",
   "execution_count": 73,
   "id": "d65061a1",
   "metadata": {},
   "outputs": [],
   "source": [
    "# lower income older aged 60-81 living with parents and siblings with dependents\n",
    "df_deptsw_merge.loc[(df_deptsw_merge['age_group']== '60-81 years of age') & (df_deptsw_merge['fam_status']  == 'living with parents and siblings') & (df_deptsw_merge['income_group']=='lower income') & (df_deptsw_merge['dependents_group'] == 'with dependents'), 'profile_income']= 'lower income older aged 60-81 with dependents'"
   ]
  },
  {
   "cell_type": "markdown",
   "id": "d14c4adf",
   "metadata": {},
   "source": [
    "# Lower income married - with dependents\n"
   ]
  },
  {
   "cell_type": "code",
   "execution_count": 74,
   "id": "a68cb1c5",
   "metadata": {},
   "outputs": [],
   "source": [
    "# lower income young aged 18-39 married with dependents\n",
    "df_deptsw_merge.loc[(df_deptsw_merge['age_group']== '18-39 years of age') & (df_deptsw_merge['fam_status']== 'married') & (df_deptsw_merge['income_group']=='lower income') & (df_deptsw_merge['dependents_group'] == 'with dependents'), 'profile_income']='lower income married young aged 18-39 with dependents'"
   ]
  },
  {
   "cell_type": "code",
   "execution_count": 75,
   "id": "63008aad",
   "metadata": {},
   "outputs": [],
   "source": [
    "# lower income aged 40-59 married with dependents\n",
    "df_deptsw_merge.loc[(df_deptsw_merge['age_group']== '40-59 years of age') & (df_deptsw_merge['fam_status']== 'married') & (df_deptsw_merge['income_group']=='lower income') & (df_deptsw_merge['dependents_group'] == 'with dependents'), 'profile_income']='lower income married aged 40-59 with dependents'"
   ]
  },
  {
   "cell_type": "code",
   "execution_count": 76,
   "id": "76e6415c",
   "metadata": {},
   "outputs": [],
   "source": [
    "# lower income older aged 60-81 married with dependents\n",
    "df_deptsw_merge.loc[(df_deptsw_merge['age_group']== '60-81 years of age') & (df_deptsw_merge['fam_status']== 'married') & (df_deptsw_merge['income_group']=='lower income') & (df_deptsw_merge['dependents_group'] == 'with dependents'), 'profile_income']='lower income married older aged 60-81 with dependents'"
   ]
  },
  {
   "cell_type": "markdown",
   "id": "12beb0f4",
   "metadata": {},
   "source": [
    "# Middle income single- with or without dependents"
   ]
  },
  {
   "cell_type": "code",
   "execution_count": 77,
   "id": "d3e78474",
   "metadata": {},
   "outputs": [],
   "source": [
    "# middle income young single aged 18-39 without dependents\n",
    "df_deptsw_merge.loc[(df_deptsw_merge['age_group']== '18-39 years of age') & (df_deptsw_merge['fam_status'].isin(['single', 'divorced/widowed'])) & (df_deptsw_merge['income_group']=='middle income') & (df_deptsw_merge['dependents_group'] == 'without dependents'), 'profile_income']= 'middle income single young aged 18-39 without dependents'"
   ]
  },
  {
   "cell_type": "code",
   "execution_count": 78,
   "id": "222b9fe6",
   "metadata": {},
   "outputs": [],
   "source": [
    "# middle income young aged 18-39 living with parents and siblings with dependents\n",
    "df_deptsw_merge.loc[(df_deptsw_merge['age_group']== '18-39 years of age') & (df_deptsw_merge['fam_status']  == 'living with parents and siblings') & (df_deptsw_merge['income_group']=='middle income') & (df_deptsw_merge['dependents_group'] == 'with dependents'), 'profile_income']= 'middle income young aged 18-39 with dependents'"
   ]
  },
  {
   "cell_type": "code",
   "execution_count": 79,
   "id": "9b76ca2c",
   "metadata": {},
   "outputs": [],
   "source": [
    "# middle income single aged 40-59 without dependents\n",
    "df_deptsw_merge.loc[(df_deptsw_merge['age_group']== '40-59 years of age') & (df_deptsw_merge['fam_status'].isin(['single', 'divorced/widowed'])) & (df_deptsw_merge['income_group']=='middle income') & (df_deptsw_merge['dependents_group'] == 'without dependents'), 'profile_income']= 'middle income single aged 40-59 without dependents'"
   ]
  },
  {
   "cell_type": "code",
   "execution_count": 80,
   "id": "f60cb5ec",
   "metadata": {},
   "outputs": [],
   "source": [
    "# middle income single aged 40-59 living with parents and siblings with dependents\n",
    "df_deptsw_merge.loc[(df_deptsw_merge['age_group']== '40-59 years of age') & (df_deptsw_merge['fam_status']  == 'living with parents and siblings') & (df_deptsw_merge['income_group']=='middle income') & (df_deptsw_merge['dependents_group'] == 'with dependents'), 'profile_income']= 'middle income aged 40-59 with dependents'"
   ]
  },
  {
   "cell_type": "code",
   "execution_count": 81,
   "id": "3e80b309",
   "metadata": {},
   "outputs": [],
   "source": [
    "# middle income single older aged 60-81 without dependents\n",
    "df_deptsw_merge.loc[(df_deptsw_merge['age_group']== '60-81 years of age') & (df_deptsw_merge['fam_status'].isin(['single', 'divorced/widowed'])) & (df_deptsw_merge['income_group']=='middle income') & (df_deptsw_merge['dependents_group'] == 'without dependents'), 'profile_income']= 'middle income single older aged 60-81 without dependents'"
   ]
  },
  {
   "cell_type": "code",
   "execution_count": 82,
   "id": "a05988e3",
   "metadata": {},
   "outputs": [],
   "source": [
    "# middle income older aged 60-81 living with parents and siblings with dependents\n",
    "df_deptsw_merge.loc[(df_deptsw_merge['age_group']== '60-81 years of age') & (df_deptsw_merge['fam_status']  == 'living with parents and siblings') & (df_deptsw_merge['income_group']=='middle income') & (df_deptsw_merge['dependents_group'] == 'with dependents'), 'profile_income']= 'middle income older aged 60-81 with dependents'"
   ]
  },
  {
   "cell_type": "markdown",
   "id": "9d1b65f6",
   "metadata": {},
   "source": [
    "# Middle income married-with dependents"
   ]
  },
  {
   "cell_type": "code",
   "execution_count": 83,
   "id": "f4c14a97",
   "metadata": {},
   "outputs": [],
   "source": [
    "# middle income young aged 18-39 married with dependents\n",
    "df_deptsw_merge.loc[(df_deptsw_merge['age_group']== '18-39 years of age') & (df_deptsw_merge['fam_status']== 'married') & (df_deptsw_merge['income_group']=='middle income') & (df_deptsw_merge['dependents_group'] == 'with dependents'), 'profile_income']='middle income married young aged 18-39 with dependents'"
   ]
  },
  {
   "cell_type": "code",
   "execution_count": 84,
   "id": "614477c5",
   "metadata": {},
   "outputs": [],
   "source": [
    "# middle income aged 40-59 married with dependents\n",
    "df_deptsw_merge.loc[(df_deptsw_merge['age_group']== '40-59 years of age') & (df_deptsw_merge['fam_status']== 'married') & (df_deptsw_merge['income_group']=='middle income') & (df_deptsw_merge['dependents_group'] == 'with dependents'), 'profile_income']='middle income married aged 40-59 with dependents'"
   ]
  },
  {
   "cell_type": "code",
   "execution_count": 85,
   "id": "e35f39f3",
   "metadata": {},
   "outputs": [],
   "source": [
    "# middle income older aged 60-81 married with dependents\n",
    "df_deptsw_merge.loc[(df_deptsw_merge['age_group']== '60-81 years of age') & (df_deptsw_merge['fam_status']== 'married') & (df_deptsw_merge['income_group']=='middle income') & (df_deptsw_merge['dependents_group'] == 'with dependents'), 'profile_income']='middle income married older aged 60-81 with dependents'"
   ]
  },
  {
   "cell_type": "markdown",
   "id": "772033f9",
   "metadata": {},
   "source": [
    "# Higher income-single with or without dependents"
   ]
  },
  {
   "cell_type": "code",
   "execution_count": 86,
   "id": "e77239f2",
   "metadata": {},
   "outputs": [],
   "source": [
    "# higher income young single aged 18-39 without dependents\n",
    "df_deptsw_merge.loc[(df_deptsw_merge['age_group']== '18-39 years of age') & (df_deptsw_merge['fam_status'].isin(['single', 'divorced/widowed'])) & (df_deptsw_merge['income_group']=='higher income') & (df_deptsw_merge['dependents_group'] == 'without dependents'), 'profile_income']= 'higher income single young aged 18-39 without dependents'"
   ]
  },
  {
   "cell_type": "code",
   "execution_count": 87,
   "id": "fc597a9a",
   "metadata": {},
   "outputs": [],
   "source": [
    "# higher income young aged 18-39 living with parents and siblings with dependents\n",
    "df_deptsw_merge.loc[(df_deptsw_merge['age_group']== '18-39 years of age') & (df_deptsw_merge['fam_status']  == 'living with parents and siblings') & (df_deptsw_merge['income_group']=='higher income') & (df_deptsw_merge['dependents_group'] == 'with dependents'), 'profile_income']= 'higher income young aged 18-39 with dependents'"
   ]
  },
  {
   "cell_type": "code",
   "execution_count": 88,
   "id": "c3161e9d",
   "metadata": {},
   "outputs": [],
   "source": [
    "# higher income single aged 40-59 without dependents\n",
    "df_deptsw_merge.loc[(df_deptsw_merge['age_group']== '40-59 years of age') & (df_deptsw_merge['fam_status'].isin(['single', 'divorced/widowed'])) & (df_deptsw_merge['income_group']=='higher income') & (df_deptsw_merge['dependents_group'] == 'without dependents'), 'profile_income']= 'higher income single aged 40-59 without dependents'"
   ]
  },
  {
   "cell_type": "code",
   "execution_count": 89,
   "id": "303a2ae3",
   "metadata": {},
   "outputs": [],
   "source": [
    "# higher income single aged 40-59 living with parents and siblings with dependents\n",
    "df_deptsw_merge.loc[(df_deptsw_merge['age_group']== '40-59 years of age') & (df_deptsw_merge['fam_status']  == 'living with parents and siblings') & (df_deptsw_merge['income_group']=='higher income') & (df_deptsw_merge['dependents_group'] == 'with dependents'), 'profile_income']= 'higher income aged 40-59 with dependents'"
   ]
  },
  {
   "cell_type": "code",
   "execution_count": 90,
   "id": "533bcc63",
   "metadata": {},
   "outputs": [],
   "source": [
    "#higher income older single aged 60-81 without dependents\n",
    "df_deptsw_merge.loc[(df_deptsw_merge['age_group']== '60-81 years of age') & (df_deptsw_merge['fam_status'].isin(['single', 'divorced/widowed'])) & (df_deptsw_merge['income_group']=='higher income') & (df_deptsw_merge['dependents_group'] == 'without dependents'), 'profile_income']= 'higher income single older aged 60-81 without dependents'"
   ]
  },
  {
   "cell_type": "code",
   "execution_count": 91,
   "id": "d390e535",
   "metadata": {},
   "outputs": [],
   "source": [
    "# higher income older aged 60-81 living with parents and siblings with dependents\n",
    "df_deptsw_merge.loc[(df_deptsw_merge['age_group']== '60-81 years of age') & (df_deptsw_merge['fam_status']  == 'living with parents and siblings') & (df_deptsw_merge['income_group']=='higher income') & (df_deptsw_merge['dependents_group'] == 'with dependents'), 'profile_income']= 'higher income older aged 60-81 with dependents'"
   ]
  },
  {
   "cell_type": "markdown",
   "id": "6ad5ca3b",
   "metadata": {},
   "source": [
    "# Higher income married-with dependents"
   ]
  },
  {
   "cell_type": "code",
   "execution_count": 92,
   "id": "b8d47677",
   "metadata": {},
   "outputs": [],
   "source": [
    "# higher income young aged 18-39 married with dependents\n",
    "df_deptsw_merge.loc[(df_deptsw_merge['age_group']== '18-39 years of age') & (df_deptsw_merge['fam_status']== 'married') & (df_deptsw_merge['income_group']=='higher income') & (df_deptsw_merge['dependents_group'] == 'with dependents'), 'profile_income']='higher income married young aged 18-39 with dependents'"
   ]
  },
  {
   "cell_type": "code",
   "execution_count": 93,
   "id": "98427546",
   "metadata": {},
   "outputs": [],
   "source": [
    "# higher income aged 40-59 married with dependents\n",
    "df_deptsw_merge.loc[(df_deptsw_merge['age_group']== '40-59 years of age') & (df_deptsw_merge['fam_status']== 'married') & (df_deptsw_merge['income_group']=='higher income') & (df_deptsw_merge['dependents_group'] == 'with dependents'), 'profile_income']='higher income married aged 40-59 with dependents'"
   ]
  },
  {
   "cell_type": "code",
   "execution_count": 94,
   "id": "a7ceedab",
   "metadata": {},
   "outputs": [],
   "source": [
    "# higher income older aged 60-81 married with dependents\n",
    "df_deptsw_merge.loc[(df_deptsw_merge['age_group']== '60-81 years of age') & (df_deptsw_merge['fam_status']== 'married') & (df_deptsw_merge['income_group']=='higher income') & (df_deptsw_merge['dependents_group'] == 'with dependents'), 'profile_income']='higher income married older aged 60-81 with dependents'"
   ]
  },
  {
   "cell_type": "code",
   "execution_count": 95,
   "id": "ffc593b8",
   "metadata": {
    "scrolled": true
   },
   "outputs": [
    {
     "data": {
      "text/plain": [
       "profile_income\n",
       "middle income married older aged 60-81 with dependents      5777469\n",
       "middle income married young aged 18-39 with dependents      5460848\n",
       "middle income married aged 40-59 with dependents            5341444\n",
       "middle income single young aged 18-39 without dependents    2212784\n",
       "middle income single older aged 60-81 without dependents    1922038\n",
       "middle income single aged 40-59 without dependents          1766466\n",
       "higher income married older aged 60-81 with dependents      1495718\n",
       "higher income married aged 40-59 with dependents            1326545\n",
       "middle income young aged 18-39 with dependents              1246815\n",
       "lower income married young aged 18-39 with dependents       1004760\n",
       "lower income married older aged 60-81 with dependents        662993\n",
       "lower income married aged 40-59 with dependents              629759\n",
       "higher income single older aged 60-81 without dependents     514799\n",
       "higher income single aged 40-59 without dependents           459503\n",
       "lower income single young aged 18-39 without dependents      426532\n",
       "lower income young aged 18-39 with dependents                220825\n",
       "lower income single older aged 60-81 without dependents      210924\n",
       "lower income single aged 40-59 without dependents            210356\n",
       "higher income married young aged 18-39 with dependents        63485\n",
       "higher income single young aged 18-39 without dependents      23630\n",
       "higher income young aged 18-39 with dependents                14971\n",
       "Name: count, dtype: int64"
      ]
     },
     "execution_count": 95,
     "metadata": {},
     "output_type": "execute_result"
    }
   ],
   "source": [
    "#Checking profile_income\n",
    "#Checking new groups\n",
    "df_deptsw_merge['profile_income'].value_counts(dropna = False)"
   ]
  },
  {
   "cell_type": "code",
   "execution_count": 96,
   "id": "1b3a0799",
   "metadata": {},
   "outputs": [
    {
     "data": {
      "image/png": "[encoded data removed]",
      "text/plain": [
       "<Figure size 640x480 with 1 Axes>"
      ]
     },
     "metadata": {},
     "output_type": "display_data"
    }
   ],
   "source": [
    "#Creating a bar chart of IC profile adding \"income\", family, age & with or without dependents groups\n",
    "barincomefamagedeps = df_deptsw_merge['profile_income'].value_counts().plot.barh(color = ['darkgreen', 'lightgreen', 'green', 'blue', 'cyan', 'cornflowerblue', 'lightblue', 'darkblue', 'darkgrey', 'lightgray', 'black', 'gray',  ], title = 'Income, Family Status, Age and Dependents Profile')"
   ]
  },
  {
   "cell_type": "code",
   "execution_count": 97,
   "id": "9b2fcc54",
   "metadata": {},
   "outputs": [],
   "source": [
    "#Exporting and saving it to IC folder\n",
    "barincomefamagedeps.figure.savefig(os.path.join(path,'04 Analysis', 'Visualizations', 'final_profile_income_fam_age_deps.png'))"
   ]
  },
  {
   "cell_type": "markdown",
   "id": "3238dfef",
   "metadata": {},
   "source": [
    "Observations: \n",
    "The customer profile that purchases the most are that of: middle income bracket earners of all ages who are married with dependents. In fact, this group alone includes 53% of IC customers. \n",
    "\n",
    "Second are middle income bracket earners of all ages who are single without dependents, making up 19 % of purchasing power. Nonetheless, this group has a difference in spending that is 34% less than the above married group. \n",
    "\n",
    "Consequently, lower income customers contribute 11% in total overall. \n",
    "\n",
    "Overall, 89% of IC customers are comprised of middle and higher income profiles.  \n"
   ]
  },
  {
   "cell_type": "code",
   "execution_count": 98,
   "id": "218ee1a5",
   "metadata": {},
   "outputs": [
    {
     "data": {
      "text/html": [
       "<div>\n",
       "<style scoped>\n",
       "    .dataframe tbody tr th:only-of-type {\n",
       "        vertical-align: middle;\n",
       "    }\n",
       "\n",
       "    .dataframe tbody tr th {\n",
       "        vertical-align: top;\n",
       "    }\n",
       "\n",
       "    .dataframe thead th {\n",
       "        text-align: right;\n",
       "    }\n",
       "</style>\n",
       "<table border=\"1\" class=\"dataframe\">\n",
       "  <thead>\n",
       "    <tr style=\"text-align: right;\">\n",
       "      <th></th>\n",
       "      <th>order_id</th>\n",
       "      <th>user_id</th>\n",
       "      <th>eval_set</th>\n",
       "      <th>order_number</th>\n",
       "      <th>orders_day_of_week</th>\n",
       "      <th>order_hour_of_day</th>\n",
       "      <th>days_since_previous_order</th>\n",
       "      <th>product_id</th>\n",
       "      <th>add_to_cart_order</th>\n",
       "      <th>reordered</th>\n",
       "      <th>...</th>\n",
       "      <th>income</th>\n",
       "      <th>region</th>\n",
       "      <th>Customer_Activity</th>\n",
       "      <th>exclusion_flag</th>\n",
       "      <th>department</th>\n",
       "      <th>age_group</th>\n",
       "      <th>dependents_group</th>\n",
       "      <th>income_group</th>\n",
       "      <th>profile_fam_age_deps</th>\n",
       "      <th>profile_income</th>\n",
       "    </tr>\n",
       "  </thead>\n",
       "  <tbody>\n",
       "    <tr>\n",
       "      <th>0</th>\n",
       "      <td>2539329</td>\n",
       "      <td>1</td>\n",
       "      <td>prior</td>\n",
       "      <td>1</td>\n",
       "      <td>2</td>\n",
       "      <td>8</td>\n",
       "      <td>NaN</td>\n",
       "      <td>196</td>\n",
       "      <td>1</td>\n",
       "      <td>0</td>\n",
       "      <td>...</td>\n",
       "      <td>40423</td>\n",
       "      <td>South</td>\n",
       "      <td>Active</td>\n",
       "      <td>active customer</td>\n",
       "      <td>beverages</td>\n",
       "      <td>18-39 years of age</td>\n",
       "      <td>with dependents</td>\n",
       "      <td>lower income</td>\n",
       "      <td>married young aged 18-39 with dependents</td>\n",
       "      <td>lower income married young aged 18-39 with dep...</td>\n",
       "    </tr>\n",
       "    <tr>\n",
       "      <th>1</th>\n",
       "      <td>2398795</td>\n",
       "      <td>1</td>\n",
       "      <td>prior</td>\n",
       "      <td>2</td>\n",
       "      <td>3</td>\n",
       "      <td>7</td>\n",
       "      <td>15.0</td>\n",
       "      <td>196</td>\n",
       "      <td>1</td>\n",
       "      <td>1</td>\n",
       "      <td>...</td>\n",
       "      <td>40423</td>\n",
       "      <td>South</td>\n",
       "      <td>Active</td>\n",
       "      <td>active customer</td>\n",
       "      <td>beverages</td>\n",
       "      <td>18-39 years of age</td>\n",
       "      <td>with dependents</td>\n",
       "      <td>lower income</td>\n",
       "      <td>married young aged 18-39 with dependents</td>\n",
       "      <td>lower income married young aged 18-39 with dep...</td>\n",
       "    </tr>\n",
       "    <tr>\n",
       "      <th>2</th>\n",
       "      <td>473747</td>\n",
       "      <td>1</td>\n",
       "      <td>prior</td>\n",
       "      <td>3</td>\n",
       "      <td>3</td>\n",
       "      <td>12</td>\n",
       "      <td>21.0</td>\n",
       "      <td>196</td>\n",
       "      <td>1</td>\n",
       "      <td>1</td>\n",
       "      <td>...</td>\n",
       "      <td>40423</td>\n",
       "      <td>South</td>\n",
       "      <td>Active</td>\n",
       "      <td>active customer</td>\n",
       "      <td>beverages</td>\n",
       "      <td>18-39 years of age</td>\n",
       "      <td>with dependents</td>\n",
       "      <td>lower income</td>\n",
       "      <td>married young aged 18-39 with dependents</td>\n",
       "      <td>lower income married young aged 18-39 with dep...</td>\n",
       "    </tr>\n",
       "    <tr>\n",
       "      <th>3</th>\n",
       "      <td>2254736</td>\n",
       "      <td>1</td>\n",
       "      <td>prior</td>\n",
       "      <td>4</td>\n",
       "      <td>4</td>\n",
       "      <td>7</td>\n",
       "      <td>29.0</td>\n",
       "      <td>196</td>\n",
       "      <td>1</td>\n",
       "      <td>1</td>\n",
       "      <td>...</td>\n",
       "      <td>40423</td>\n",
       "      <td>South</td>\n",
       "      <td>Active</td>\n",
       "      <td>active customer</td>\n",
       "      <td>beverages</td>\n",
       "      <td>18-39 years of age</td>\n",
       "      <td>with dependents</td>\n",
       "      <td>lower income</td>\n",
       "      <td>married young aged 18-39 with dependents</td>\n",
       "      <td>lower income married young aged 18-39 with dep...</td>\n",
       "    </tr>\n",
       "    <tr>\n",
       "      <th>4</th>\n",
       "      <td>431534</td>\n",
       "      <td>1</td>\n",
       "      <td>prior</td>\n",
       "      <td>5</td>\n",
       "      <td>4</td>\n",
       "      <td>15</td>\n",
       "      <td>28.0</td>\n",
       "      <td>196</td>\n",
       "      <td>1</td>\n",
       "      <td>1</td>\n",
       "      <td>...</td>\n",
       "      <td>40423</td>\n",
       "      <td>South</td>\n",
       "      <td>Active</td>\n",
       "      <td>active customer</td>\n",
       "      <td>beverages</td>\n",
       "      <td>18-39 years of age</td>\n",
       "      <td>with dependents</td>\n",
       "      <td>lower income</td>\n",
       "      <td>married young aged 18-39 with dependents</td>\n",
       "      <td>lower income married young aged 18-39 with dep...</td>\n",
       "    </tr>\n",
       "  </tbody>\n",
       "</table>\n",
       "<p>5 rows × 41 columns</p>\n",
       "</div>"
      ],
      "text/plain": [
       "   order_id  user_id eval_set  order_number  orders_day_of_week  \\\n",
       "0   2539329        1    prior             1                   2   \n",
       "1   2398795        1    prior             2                   3   \n",
       "2    473747        1    prior             3                   3   \n",
       "3   2254736        1    prior             4                   4   \n",
       "4    431534        1    prior             5                   4   \n",
       "\n",
       "   order_hour_of_day  days_since_previous_order  product_id  \\\n",
       "0                  8                        NaN         196   \n",
       "1                  7                       15.0         196   \n",
       "2                 12                       21.0         196   \n",
       "3                  7                       29.0         196   \n",
       "4                 15                       28.0         196   \n",
       "\n",
       "   add_to_cart_order  reordered  ... income  region  Customer_Activity  \\\n",
       "0                  1          0  ...  40423   South             Active   \n",
       "1                  1          1  ...  40423   South             Active   \n",
       "2                  1          1  ...  40423   South             Active   \n",
       "3                  1          1  ...  40423   South             Active   \n",
       "4                  1          1  ...  40423   South             Active   \n",
       "\n",
       "    exclusion_flag department           age_group dependents_group  \\\n",
       "0  active customer  beverages  18-39 years of age  with dependents   \n",
       "1  active customer  beverages  18-39 years of age  with dependents   \n",
       "2  active customer  beverages  18-39 years of age  with dependents   \n",
       "3  active customer  beverages  18-39 years of age  with dependents   \n",
       "4  active customer  beverages  18-39 years of age  with dependents   \n",
       "\n",
       "   income_group                      profile_fam_age_deps  \\\n",
       "0  lower income  married young aged 18-39 with dependents   \n",
       "1  lower income  married young aged 18-39 with dependents   \n",
       "2  lower income  married young aged 18-39 with dependents   \n",
       "3  lower income  married young aged 18-39 with dependents   \n",
       "4  lower income  married young aged 18-39 with dependents   \n",
       "\n",
       "                                      profile_income  \n",
       "0  lower income married young aged 18-39 with dep...  \n",
       "1  lower income married young aged 18-39 with dep...  \n",
       "2  lower income married young aged 18-39 with dep...  \n",
       "3  lower income married young aged 18-39 with dep...  \n",
       "4  lower income married young aged 18-39 with dep...  \n",
       "\n",
       "[5 rows x 41 columns]"
      ]
     },
     "execution_count": 98,
     "metadata": {},
     "output_type": "execute_result"
    }
   ],
   "source": [
    "#Checking column of new profile_income group\n",
    "df_deptsw_merge.head()"
   ]
  },
  {
   "cell_type": "code",
   "execution_count": 99,
   "id": "332646d0",
   "metadata": {},
   "outputs": [
    {
     "data": {
      "text/plain": [
       "(30992664,)"
      ]
     },
     "execution_count": 99,
     "metadata": {},
     "output_type": "execute_result"
    }
   ],
   "source": [
    "# Checking dimensions\n",
    "df_deptsw_merge['profile_income'].shape"
   ]
  },
  {
   "cell_type": "code",
   "execution_count": 100,
   "id": "2c0cfd5d",
   "metadata": {},
   "outputs": [],
   "source": [
    "#Exporting profile_income merged as pkl\n",
    "df_deptsw_merge.to_pickle(os.path.join(path, '02 Data', 'Prepared Data', 'final_income_merged.pkl'))"
   ]
  },
  {
   "cell_type": "markdown",
   "id": "f2546e43",
   "metadata": {},
   "source": [
    "# Customer profiles looking at “orders_day_of_week” and “order_hour_of_day” impact"
   ]
  },
  {
   "cell_type": "code",
   "execution_count": 101,
   "id": "7070e923",
   "metadata": {},
   "outputs": [
    {
     "data": {
      "text/plain": [
       "orders_day_of_week\n",
       "0    5913818\n",
       "1    5417038\n",
       "6    4294900\n",
       "5    4037263\n",
       "2    4028461\n",
       "3    3672927\n",
       "4    3628257\n",
       "Name: count, dtype: int64"
      ]
     },
     "execution_count": 101,
     "metadata": {},
     "output_type": "execute_result"
    }
   ],
   "source": [
    "#Checking orders dow \n",
    "df_deptsw_merge['orders_day_of_week'].value_counts(dropna=False)"
   ]
  },
  {
   "cell_type": "code",
   "execution_count": 102,
   "id": "40bcc4ea",
   "metadata": {},
   "outputs": [],
   "source": [
    "result = []\n",
    "\n",
    "for value in df_deptsw_merge[\"orders_day_of_week\"]:\n",
    "    if value == 0:\n",
    "        result.append(\"Weekend day\")\n",
    "    elif value == 1:\n",
    "        result.append(\"Weekend day\")\n",
    "    else:\n",
    "        result.append(\"Week day\")"
   ]
  },
  {
   "cell_type": "code",
   "execution_count": 103,
   "id": "97688ca8",
   "metadata": {},
   "outputs": [],
   "source": [
    "df_deptsw_merge['busiest_period_week'] = result"
   ]
  },
  {
   "cell_type": "code",
   "execution_count": 104,
   "id": "32769377",
   "metadata": {},
   "outputs": [
    {
     "data": {
      "text/plain": [
       "busiest_period_week\n",
       "Week day       19661808\n",
       "Weekend day    11330856\n",
       "Name: count, dtype: int64"
      ]
     },
     "execution_count": 104,
     "metadata": {},
     "output_type": "execute_result"
    }
   ],
   "source": [
    "df_deptsw_merge['busiest_period_week'].value_counts(dropna=False)"
   ]
  },
  {
   "cell_type": "markdown",
   "id": "01b6cae1",
   "metadata": {},
   "source": [
    "Observations: More orders on Saturday and mid-week days."
   ]
  },
  {
   "cell_type": "markdown",
   "id": "7e8194ee",
   "metadata": {},
   "source": [
    "Orders hour of day"
   ]
  },
  {
   "cell_type": "code",
   "execution_count": 105,
   "id": "7c133877",
   "metadata": {},
   "outputs": [],
   "source": [
    "df_deptsw_merge.loc[(df_deptsw_merge['order_hour_of_day'] >= 0) & (df_deptsw_merge['order_hour_of_day'] <= 6), 'busiest_period_day'] = 'Unsociable hours'"
   ]
  },
  {
   "cell_type": "code",
   "execution_count": 109,
   "id": "a49af506",
   "metadata": {},
   "outputs": [],
   "source": [
    "df_deptsw_merge.loc[(df_deptsw_merge['order_hour_of_day'] >= 7) & (df_deptsw_merge['order_hour_of_day'] <= 12), 'busiest_period_day'] = 'Morning hours'"
   ]
  },
  {
   "cell_type": "code",
   "execution_count": 110,
   "id": "3ed1cece",
   "metadata": {},
   "outputs": [],
   "source": [
    "df_deptsw_merge.loc[(df_deptsw_merge['order_hour_of_day'] >= 13) & (df_deptsw_merge['order_hour_of_day'] <= 18), 'busiest_period_day'] = 'Afternoon hours'"
   ]
  },
  {
   "cell_type": "code",
   "execution_count": 112,
   "id": "63bf1f76",
   "metadata": {},
   "outputs": [],
   "source": [
    "df_deptsw_merge.loc[(df_deptsw_merge['order_hour_of_day'] >= 19) & (df_deptsw_merge['order_hour_of_day'] <= 23), 'busiest_period_day'] = 'Evening hours'"
   ]
  },
  {
   "cell_type": "code",
   "execution_count": 113,
   "id": "7d11c8d4",
   "metadata": {},
   "outputs": [
    {
     "data": {
      "text/plain": [
       "busiest_period_day\n",
       "Afternoon hours     13602400\n",
       "Morning hours       12658379\n",
       "Evening hours        3882810\n",
       "Unsociable hours      849075\n",
       "Name: count, dtype: int64"
      ]
     },
     "execution_count": 113,
     "metadata": {},
     "output_type": "execute_result"
    }
   ],
   "source": [
    "# Checking \n",
    "df_deptsw_merge['busiest_period_day'].value_counts(dropna=False)"
   ]
  },
  {
   "cell_type": "markdown",
   "id": "3df2f719",
   "metadata": {},
   "source": [
    "Observations: Most orders-busiest happen throughout the business morning and afternoon hours, also at end of regular day hours until the evening hours of about 8:30 pm. Outside of these hours, single adults make up most of purchases during these unsociable hours. "
   ]
  },
  {
   "cell_type": "code",
   "execution_count": 114,
   "id": "4aac7926",
   "metadata": {},
   "outputs": [
    {
     "data": {
      "image/png": "[encoded data removed]",
      "text/plain": [
       "<Figure size 640x480 with 1 Axes>"
      ]
     },
     "metadata": {},
     "output_type": "display_data"
    }
   ],
   "source": [
    "#Creating a bar chart of IC customer profile orders from products in depts, \n",
    "bardowhordersproducts = df_deptsw_merge[df_deptsw_merge.loc(df_deptsw_merge['department'].value_counts().plot.bar(title = 'Orders Products from Departments')"
   ]
  },
  {
   "cell_type": "code",
   "execution_count": 115,
   "id": "d63b4256",
   "metadata": {},
   "outputs": [],
   "source": [
    "#Creating a subset customer profile - top 10 most popular products in produce\n",
    "top_popular_produce = df_deptsw_merge.loc[df_deptsw_merge['department'].isin(['produce'])]"
   ]
  },
  {
   "cell_type": "code",
   "execution_count": 116,
   "id": "bfed6c45",
   "metadata": {},
   "outputs": [
    {
     "data": {
      "text/plain": [
       "department\n",
       "produce            9079276\n",
       "dairy eggs         5191828\n",
       "snacks             2766406\n",
       "beverages          2571934\n",
       "frozen             2123342\n",
       "pantry             1782903\n",
       "bakery             1125026\n",
       "canned goods       1012074\n",
       "deli               1003834\n",
       "dry goods pasta     822136\n",
       "household           699858\n",
       "breakfast           678095\n",
       "meat seafood        674785\n",
       "personal care       424415\n",
       "babies              410392\n",
       "international       255991\n",
       "alcohol             144674\n",
       "pets                 93065\n",
       "missing              64768\n",
       "other                34411\n",
       "bulk                 33451\n",
       "Name: count, dtype: int64"
      ]
     },
     "execution_count": 116,
     "metadata": {},
     "output_type": "execute_result"
    }
   ],
   "source": [
    "# Checking \n",
    "df_deptsw_merge['department'].value_counts(dropna=False)"
   ]
  },
  {
   "cell_type": "code",
   "execution_count": 118,
   "id": "c3407d4e",
   "metadata": {},
   "outputs": [
    {
     "data": {
      "image/png": "[encoded data removed]",
      "text/plain": [
       "<Figure size 640x480 with 1 Axes>"
      ]
     },
     "metadata": {},
     "output_type": "display_data"
    }
   ],
   "source": [
    "#Creating the bar chart of top popular produce\n",
    "bar_top_popular_produce = top_popular_produce['product_name'].value_counts()[:10].plot.bar(title='TOP 10 MOST Popular Products in PRODUCE', xlabel='Product', ylabel='Orders', color='orange', edgecolor='blue' )"
   ]
  },
  {
   "cell_type": "code",
   "execution_count": 119,
   "id": "2ea528ba",
   "metadata": {},
   "outputs": [],
   "source": [
    "#Exporting and saving it to IC folder\n",
    "bar_top_popular_produce.figure.savefig(os.path.join(path,'04 Analysis', 'Visualizations', 'bar_top_popular_produce.png'))"
   ]
  },
  {
   "cell_type": "code",
   "execution_count": 120,
   "id": "405aa1a1",
   "metadata": {},
   "outputs": [],
   "source": [
    "#Exporting and saving it to IC folder\n",
    "bardowhordersproducts.figure.savefig(os.path.join(path,'04 Analysis', 'Visualizations', 'final_orders_products_depts.png'))"
   ]
  },
  {
   "cell_type": "markdown",
   "id": "39cb547f",
   "metadata": {},
   "source": [
    "# Exporting customer profile finals as pkl"
   ]
  },
  {
   "cell_type": "code",
   "execution_count": 121,
   "id": "c333505b",
   "metadata": {},
   "outputs": [],
   "source": [
    "df_deptsw_merge.to_pickle(os.path.join(path, '02 Data', 'Prepared Data', 'final_customer_profile_family_status_depts.pkl'))"
   ]
  }
 ],
 "metadata": {
  "kernelspec": {
   "display_name": "Python 3 (ipykernel)",
   "language": "python",
   "name": "python3"
  },
  "language_info": {
   "codemirror_mode": {
    "name": "ipython",
    "version": 3
   },
   "file_extension": ".py",
   "mimetype": "text/x-python",
   "name": "python",
   "nbconvert_exporter": "python",
   "pygments_lexer": "ipython3",
   "version": "3.11.4"
  }
 },
 "nbformat": 4,
 "nbformat_minor": 5
}
