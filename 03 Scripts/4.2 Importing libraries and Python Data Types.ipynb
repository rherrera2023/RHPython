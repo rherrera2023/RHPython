{
 "cells": [
  {
   "cell_type": "markdown",
   "id": "25e4b934",
   "metadata": {},
   "source": [
    "# 01. Importing libraries"
   ]
  },
  {
   "cell_type": "code",
   "execution_count": 1,
   "id": "c603dfeb",
   "metadata": {},
   "outputs": [],
   "source": [
    "# Importing libraries\n",
    "import pandas as pd\n",
    "import numpy as np\n",
    "import os"
   ]
  },
  {
   "cell_type": "markdown",
   "id": "c062b4c6",
   "metadata": {},
   "source": [
    "# 02. Data Types"
   ]
  },
  {
   "cell_type": "markdown",
   "id": "c7f4f8dc",
   "metadata": {},
   "source": [
    "Code 3 different ways of reaching a result of 100 by adding or subtracting numeric variables"
   ]
  },
  {
   "cell_type": "code",
   "execution_count": 2,
   "id": "704c2d18",
   "metadata": {},
   "outputs": [],
   "source": [
    "# Assign a chosen numeric value to a chosen letter\n",
    "a = 25"
   ]
  },
  {
   "cell_type": "code",
   "execution_count": 3,
   "id": "7fd35d21",
   "metadata": {},
   "outputs": [],
   "source": [
    "# Assign a second chosen numeric value to a second chosen letter\n",
    "b = 75"
   ]
  },
  {
   "cell_type": "code",
   "execution_count": 6,
   "id": "54281b0f",
   "metadata": {},
   "outputs": [],
   "source": [
    "# Assign a third chosen numberic value to a third chosen letter\n",
    "c = 100"
   ]
  },
  {
   "cell_type": "code",
   "execution_count": 8,
   "id": "be5730a6",
   "metadata": {},
   "outputs": [],
   "source": [
    "# Assign a fourth chosen numberic value to a fourth chosen letter\n",
    "d = 200"
   ]
  },
  {
   "cell_type": "code",
   "execution_count": 5,
   "id": "f29b1a04",
   "metadata": {},
   "outputs": [
    {
     "data": {
      "text/plain": [
       "100"
      ]
     },
     "execution_count": 5,
     "metadata": {},
     "output_type": "execute_result"
    }
   ],
   "source": [
    "# Code first way to get a result of 100\n",
    "a + b"
   ]
  },
  {
   "cell_type": "code",
   "execution_count": 9,
   "id": "b93f995c",
   "metadata": {},
   "outputs": [
    {
     "data": {
      "text/plain": [
       "100"
      ]
     },
     "execution_count": 9,
     "metadata": {},
     "output_type": "execute_result"
    }
   ],
   "source": [
    "# Code second way to get a result of 100\n",
    "d - c"
   ]
  },
  {
   "cell_type": "code",
   "execution_count": 10,
   "id": "202b8af1",
   "metadata": {},
   "outputs": [
    {
     "data": {
      "text/plain": [
       "100"
      ]
     },
     "execution_count": 10,
     "metadata": {},
     "output_type": "execute_result"
    }
   ],
   "source": [
    "# Code third way to get a result of 100\n",
    "d - (a + b)"
   ]
  },
  {
   "cell_type": "markdown",
   "id": "ce8b082d",
   "metadata": {},
   "source": [
    "Code 2 floating-point variables and divide them by each other"
   ]
  },
  {
   "cell_type": "code",
   "execution_count": 11,
   "id": "ef90912d",
   "metadata": {},
   "outputs": [],
   "source": [
    "# First chosen floating-point variable\n",
    "e = 2.023"
   ]
  },
  {
   "cell_type": "code",
   "execution_count": 12,
   "id": "069845fd",
   "metadata": {},
   "outputs": [],
   "source": [
    "# Second chosen floating-point variable\n",
    "f= 20.23"
   ]
  },
  {
   "cell_type": "code",
   "execution_count": 13,
   "id": "70609bd5",
   "metadata": {},
   "outputs": [
    {
     "data": {
      "text/plain": [
       "0.1"
      ]
     },
     "execution_count": 13,
     "metadata": {},
     "output_type": "execute_result"
    }
   ],
   "source": [
    "# Floating-point variable division\n",
    "e/f"
   ]
  },
  {
   "cell_type": "markdown",
   "id": "0ff3d5fb",
   "metadata": {},
   "source": [
    "Construct a short word made of separate strings (you’ll need to concatenate some strings!)"
   ]
  },
  {
   "cell_type": "code",
   "execution_count": 15,
   "id": "ef0c49aa",
   "metadata": {},
   "outputs": [],
   "source": [
    "# First string of part of a short word\n",
    "g = 'awe'"
   ]
  },
  {
   "cell_type": "code",
   "execution_count": 16,
   "id": "567d7338",
   "metadata": {},
   "outputs": [],
   "source": [
    "# Second string of part of a short word\n",
    "h = 'some'"
   ]
  },
  {
   "cell_type": "code",
   "execution_count": 17,
   "id": "510c05bc",
   "metadata": {},
   "outputs": [
    {
     "data": {
      "text/plain": [
       "'awesome'"
      ]
     },
     "execution_count": 17,
     "metadata": {},
     "output_type": "execute_result"
    }
   ],
   "source": [
    "# Concatenate first and second strings\n",
    "g + h"
   ]
  },
  {
   "cell_type": "markdown",
   "id": "59c0f998",
   "metadata": {},
   "source": [
    "Construct 2 short sentences made of separate strings"
   ]
  },
  {
   "cell_type": "code",
   "execution_count": 18,
   "id": "ad2b3566",
   "metadata": {},
   "outputs": [],
   "source": [
    "# First part of string\n",
    "i = 'I want some...'"
   ]
  },
  {
   "cell_type": "code",
   "execution_count": 23,
   "id": "9895ef4a",
   "metadata": {},
   "outputs": [],
   "source": [
    "# Second part of string\n",
    "j = 'you guessed it, icecream. Pleeease!'"
   ]
  },
  {
   "cell_type": "code",
   "execution_count": 24,
   "id": "4bf9670a",
   "metadata": {},
   "outputs": [
    {
     "data": {
      "text/plain": [
       "'I want some...you guessed it, icecream. Pleeease!'"
      ]
     },
     "execution_count": 24,
     "metadata": {},
     "output_type": "execute_result"
    }
   ],
   "source": [
    "# Construct first and second parts of string to form the 2 short sentences\n",
    "i + j"
   ]
  },
  {
   "cell_type": "markdown",
   "id": "c63fb817",
   "metadata": {},
   "source": [
    "Bonus: include a command that makes a string appear 100 times."
   ]
  },
  {
   "cell_type": "code",
   "execution_count": 26,
   "id": "da273092",
   "metadata": {},
   "outputs": [],
   "source": [
    "# First step in code - assign a word to a variable\n",
    "n = 'bonus'"
   ]
  },
  {
   "cell_type": "code",
   "execution_count": 27,
   "id": "5b7a4e17",
   "metadata": {},
   "outputs": [
    {
     "data": {
      "text/plain": [
       "'bonusbonusbonusbonusbonusbonusbonusbonusbonusbonusbonusbonusbonusbonusbonusbonusbonusbonusbonusbonusbonusbonusbonusbonusbonusbonusbonusbonusbonusbonusbonusbonusbonusbonusbonusbonusbonusbonusbonusbonusbonusbonusbonusbonusbonusbonusbonusbonusbonusbonusbonusbonusbonusbonusbonusbonusbonusbonusbonusbonusbonusbonusbonusbonusbonusbonusbonusbonusbonusbonusbonusbonusbonusbonusbonusbonusbonusbonusbonusbonusbonusbonusbonusbonusbonusbonusbonusbonusbonusbonusbonusbonusbonusbonusbonusbonusbonusbonusbonusbonus'"
      ]
     },
     "execution_count": 27,
     "metadata": {},
     "output_type": "execute_result"
    }
   ],
   "source": [
    "# Second step in code - multiple the assigned variable by a value of 100\n",
    "n * 100"
   ]
  }
 ],
 "metadata": {
  "kernelspec": {
   "display_name": "Python 3 (ipykernel)",
   "language": "python",
   "name": "python3"
  },
  "language_info": {
   "codemirror_mode": {
    "name": "ipython",
    "version": 3
   },
   "file_extension": ".py",
   "mimetype": "text/x-python",
   "name": "python",
   "nbconvert_exporter": "python",
   "pygments_lexer": "ipython3",
   "version": "3.11.4"
  }
 },
 "nbformat": 4,
 "nbformat_minor": 5
}
