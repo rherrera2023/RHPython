{
 "cells": [
  {
   "cell_type": "markdown",
   "id": "50b625d2",
   "metadata": {},
   "source": [
    "# IC Final Analysis Tasks 1 to 4  \n",
    "\n",
    "# Part I  \n"
   ]
  },
  {
   "cell_type": "markdown",
   "id": "2acd2c6b",
   "metadata": {},
   "source": [
    "# Table of Contents\n",
    "\n",
    "This notebook is to provide better insight for customer profiling in terms of ads, bonus programs, and sales information."
   ]
  },
  {
   "cell_type": "markdown",
   "id": "0ea52055",
   "metadata": {},
   "source": [
    "1. Importing libraries and data set"
   ]
  },
  {
   "cell_type": "markdown",
   "id": "8dfdd729",
   "metadata": {},
   "source": [
    "2. Security Implications"
   ]
  },
  {
   "cell_type": "markdown",
   "id": "f16aefcb",
   "metadata": {},
   "source": [
    "3. Regional segmentation\n",
    "\n",
    "- Creating regions column \n",
    "\n",
    "- Creating a variable with the spending flag in order to determine whether there’s a difference in spending habits between the different U.S. regions\n"
   ]
  },
  {
   "cell_type": "markdown",
   "id": "c4dde551",
   "metadata": {},
   "source": [
    "4. Creating and exporting an exclusion flag for low-activity customers (customers with less than 5 orders)and exclude them from the data"
   ]
  },
  {
   "cell_type": "markdown",
   "id": "b5bcbe5c",
   "metadata": {},
   "source": [
    "# 1. Importing libraries and data set"
   ]
  },
  {
   "cell_type": "code",
   "execution_count": 1,
   "id": "00e52c9d",
   "metadata": {},
   "outputs": [],
   "source": [
    "# Importing libraries \n",
    "import pandas as pd\n",
    "import numpy as np\n",
    "import os\n",
    "import matplotlib.pyplot as plt\n",
    "import seaborn as sns\n",
    "import scipy"
   ]
  },
  {
   "cell_type": "markdown",
   "id": "2549da14",
   "metadata": {},
   "source": [
    "Defining and creating path, importing and then double checking imported merged project data set"
   ]
  },
  {
   "cell_type": "code",
   "execution_count": 2,
   "id": "a1df7a12",
   "metadata": {},
   "outputs": [],
   "source": [
    "# Defining path\n",
    "path = r'/Users/renataherrera/Documents/CF RH 2023-2024/CF DATA IMMERSION/CF RH A4 PYTHON/RH_PYTHON_Instacart Basket Analysis'"
   ]
  },
  {
   "cell_type": "code",
   "execution_count": 3,
   "id": "2707ca9f",
   "metadata": {},
   "outputs": [
    {
     "data": {
      "text/plain": [
       "'/Users/renataherrera/Documents/CF RH 2023-2024/CF DATA IMMERSION/CF RH A4 PYTHON/RH_PYTHON_Instacart Basket Analysis'"
      ]
     },
     "execution_count": 3,
     "metadata": {},
     "output_type": "execute_result"
    }
   ],
   "source": [
    "# Checking path\n",
    "path"
   ]
  },
  {
   "cell_type": "code",
   "execution_count": 4,
   "id": "38a97a5d",
   "metadata": {},
   "outputs": [],
   "source": [
    "# importing orders_products_customer_merged.pkl data set as a df\n",
    "df_final_customer = pd.read_pickle(os.path.join(path, '02 Data', 'Prepared Data', 'orders_products_customer_merged.pkl'))"
   ]
  },
  {
   "cell_type": "code",
   "execution_count": 5,
   "id": "71d593f1",
   "metadata": {},
   "outputs": [
    {
     "data": {
      "text/html": [
       "<div>\n",
       "<style scoped>\n",
       "    .dataframe tbody tr th:only-of-type {\n",
       "        vertical-align: middle;\n",
       "    }\n",
       "\n",
       "    .dataframe tbody tr th {\n",
       "        vertical-align: top;\n",
       "    }\n",
       "\n",
       "    .dataframe thead th {\n",
       "        text-align: right;\n",
       "    }\n",
       "</style>\n",
       "<table border=\"1\" class=\"dataframe\">\n",
       "  <thead>\n",
       "    <tr style=\"text-align: right;\">\n",
       "      <th></th>\n",
       "      <th>order_id</th>\n",
       "      <th>user_id</th>\n",
       "      <th>eval_set</th>\n",
       "      <th>order_number</th>\n",
       "      <th>orders_day_of_week</th>\n",
       "      <th>order_hour_of_day</th>\n",
       "      <th>days_since_previous_order</th>\n",
       "      <th>product_id</th>\n",
       "      <th>add_to_cart_order</th>\n",
       "      <th>reordered</th>\n",
       "      <th>...</th>\n",
       "      <th>order_frequency_flag</th>\n",
       "      <th>first_name</th>\n",
       "      <th>surname</th>\n",
       "      <th>gender</th>\n",
       "      <th>state</th>\n",
       "      <th>age</th>\n",
       "      <th>date_joined</th>\n",
       "      <th>n_dependants</th>\n",
       "      <th>fam_status</th>\n",
       "      <th>income</th>\n",
       "    </tr>\n",
       "  </thead>\n",
       "  <tbody>\n",
       "    <tr>\n",
       "      <th>0</th>\n",
       "      <td>2539329</td>\n",
       "      <td>1</td>\n",
       "      <td>prior</td>\n",
       "      <td>1</td>\n",
       "      <td>2</td>\n",
       "      <td>8</td>\n",
       "      <td>NaN</td>\n",
       "      <td>196</td>\n",
       "      <td>1</td>\n",
       "      <td>0</td>\n",
       "      <td>...</td>\n",
       "      <td>Regular customer</td>\n",
       "      <td>Linda</td>\n",
       "      <td>Nguyen</td>\n",
       "      <td>Female</td>\n",
       "      <td>Alabama</td>\n",
       "      <td>31</td>\n",
       "      <td>2/17/2019</td>\n",
       "      <td>3</td>\n",
       "      <td>married</td>\n",
       "      <td>40423</td>\n",
       "    </tr>\n",
       "    <tr>\n",
       "      <th>1</th>\n",
       "      <td>2398795</td>\n",
       "      <td>1</td>\n",
       "      <td>prior</td>\n",
       "      <td>2</td>\n",
       "      <td>3</td>\n",
       "      <td>7</td>\n",
       "      <td>15.0</td>\n",
       "      <td>196</td>\n",
       "      <td>1</td>\n",
       "      <td>1</td>\n",
       "      <td>...</td>\n",
       "      <td>Regular customer</td>\n",
       "      <td>Linda</td>\n",
       "      <td>Nguyen</td>\n",
       "      <td>Female</td>\n",
       "      <td>Alabama</td>\n",
       "      <td>31</td>\n",
       "      <td>2/17/2019</td>\n",
       "      <td>3</td>\n",
       "      <td>married</td>\n",
       "      <td>40423</td>\n",
       "    </tr>\n",
       "    <tr>\n",
       "      <th>2</th>\n",
       "      <td>473747</td>\n",
       "      <td>1</td>\n",
       "      <td>prior</td>\n",
       "      <td>3</td>\n",
       "      <td>3</td>\n",
       "      <td>12</td>\n",
       "      <td>21.0</td>\n",
       "      <td>196</td>\n",
       "      <td>1</td>\n",
       "      <td>1</td>\n",
       "      <td>...</td>\n",
       "      <td>Regular customer</td>\n",
       "      <td>Linda</td>\n",
       "      <td>Nguyen</td>\n",
       "      <td>Female</td>\n",
       "      <td>Alabama</td>\n",
       "      <td>31</td>\n",
       "      <td>2/17/2019</td>\n",
       "      <td>3</td>\n",
       "      <td>married</td>\n",
       "      <td>40423</td>\n",
       "    </tr>\n",
       "    <tr>\n",
       "      <th>3</th>\n",
       "      <td>2254736</td>\n",
       "      <td>1</td>\n",
       "      <td>prior</td>\n",
       "      <td>4</td>\n",
       "      <td>4</td>\n",
       "      <td>7</td>\n",
       "      <td>29.0</td>\n",
       "      <td>196</td>\n",
       "      <td>1</td>\n",
       "      <td>1</td>\n",
       "      <td>...</td>\n",
       "      <td>Regular customer</td>\n",
       "      <td>Linda</td>\n",
       "      <td>Nguyen</td>\n",
       "      <td>Female</td>\n",
       "      <td>Alabama</td>\n",
       "      <td>31</td>\n",
       "      <td>2/17/2019</td>\n",
       "      <td>3</td>\n",
       "      <td>married</td>\n",
       "      <td>40423</td>\n",
       "    </tr>\n",
       "    <tr>\n",
       "      <th>4</th>\n",
       "      <td>431534</td>\n",
       "      <td>1</td>\n",
       "      <td>prior</td>\n",
       "      <td>5</td>\n",
       "      <td>4</td>\n",
       "      <td>15</td>\n",
       "      <td>28.0</td>\n",
       "      <td>196</td>\n",
       "      <td>1</td>\n",
       "      <td>1</td>\n",
       "      <td>...</td>\n",
       "      <td>Regular customer</td>\n",
       "      <td>Linda</td>\n",
       "      <td>Nguyen</td>\n",
       "      <td>Female</td>\n",
       "      <td>Alabama</td>\n",
       "      <td>31</td>\n",
       "      <td>2/17/2019</td>\n",
       "      <td>3</td>\n",
       "      <td>married</td>\n",
       "      <td>40423</td>\n",
       "    </tr>\n",
       "  </tbody>\n",
       "</table>\n",
       "<p>5 rows × 34 columns</p>\n",
       "</div>"
      ],
      "text/plain": [
       "   order_id  user_id eval_set  order_number  orders_day_of_week  \\\n",
       "0   2539329        1    prior             1                   2   \n",
       "1   2398795        1    prior             2                   3   \n",
       "2    473747        1    prior             3                   3   \n",
       "3   2254736        1    prior             4                   4   \n",
       "4    431534        1    prior             5                   4   \n",
       "\n",
       "   order_hour_of_day  days_since_previous_order  product_id  \\\n",
       "0                  8                        NaN         196   \n",
       "1                  7                       15.0         196   \n",
       "2                 12                       21.0         196   \n",
       "3                  7                       29.0         196   \n",
       "4                 15                       28.0         196   \n",
       "\n",
       "   add_to_cart_order  reordered  ... order_frequency_flag  first_name  \\\n",
       "0                  1          0  ...     Regular customer       Linda   \n",
       "1                  1          1  ...     Regular customer       Linda   \n",
       "2                  1          1  ...     Regular customer       Linda   \n",
       "3                  1          1  ...     Regular customer       Linda   \n",
       "4                  1          1  ...     Regular customer       Linda   \n",
       "\n",
       "   surname  gender    state age date_joined n_dependants fam_status  income  \n",
       "0   Nguyen  Female  Alabama  31   2/17/2019            3    married   40423  \n",
       "1   Nguyen  Female  Alabama  31   2/17/2019            3    married   40423  \n",
       "2   Nguyen  Female  Alabama  31   2/17/2019            3    married   40423  \n",
       "3   Nguyen  Female  Alabama  31   2/17/2019            3    married   40423  \n",
       "4   Nguyen  Female  Alabama  31   2/17/2019            3    married   40423  \n",
       "\n",
       "[5 rows x 34 columns]"
      ]
     },
     "execution_count": 5,
     "metadata": {},
     "output_type": "execute_result"
    }
   ],
   "source": [
    "# Double checking the imported df\n",
    "df_final_customer.head()"
   ]
  },
  {
   "cell_type": "code",
   "execution_count": 6,
   "id": "3904f7fa",
   "metadata": {},
   "outputs": [
    {
     "data": {
      "text/plain": [
       "(32434212, 34)"
      ]
     },
     "execution_count": 6,
     "metadata": {},
     "output_type": "execute_result"
    }
   ],
   "source": [
    "# checking shape and dimensions (columns and rows) of import\n",
    "df_final_customer.shape"
   ]
  },
  {
   "cell_type": "markdown",
   "id": "42e190f8",
   "metadata": {},
   "source": [
    "# 2. Security implications"
   ]
  },
  {
   "cell_type": "markdown",
   "id": "e65312a0",
   "metadata": {},
   "source": [
    "Consider any security implications that might exist for this new data. \n",
    "You’ll need to address any Personally Identifiable Information (PII) data in the data before continuing your analysis."
   ]
  },
  {
   "cell_type": "code",
   "execution_count": 7,
   "id": "9712569b",
   "metadata": {},
   "outputs": [],
   "source": [
    "#Addressing any PII data in the data, therefore\n",
    "#Dropping first_name and surname columns\n",
    "df_final_customer = df_final_customer.drop(columns = ['first_name', 'surname'])"
   ]
  },
  {
   "cell_type": "code",
   "execution_count": 8,
   "id": "9336e036",
   "metadata": {},
   "outputs": [
    {
     "data": {
      "text/html": [
       "<div>\n",
       "<style scoped>\n",
       "    .dataframe tbody tr th:only-of-type {\n",
       "        vertical-align: middle;\n",
       "    }\n",
       "\n",
       "    .dataframe tbody tr th {\n",
       "        vertical-align: top;\n",
       "    }\n",
       "\n",
       "    .dataframe thead th {\n",
       "        text-align: right;\n",
       "    }\n",
       "</style>\n",
       "<table border=\"1\" class=\"dataframe\">\n",
       "  <thead>\n",
       "    <tr style=\"text-align: right;\">\n",
       "      <th></th>\n",
       "      <th>order_id</th>\n",
       "      <th>user_id</th>\n",
       "      <th>eval_set</th>\n",
       "      <th>order_number</th>\n",
       "      <th>orders_day_of_week</th>\n",
       "      <th>order_hour_of_day</th>\n",
       "      <th>days_since_previous_order</th>\n",
       "      <th>product_id</th>\n",
       "      <th>add_to_cart_order</th>\n",
       "      <th>reordered</th>\n",
       "      <th>...</th>\n",
       "      <th>spending_flag</th>\n",
       "      <th>median_previous_order</th>\n",
       "      <th>order_frequency_flag</th>\n",
       "      <th>gender</th>\n",
       "      <th>state</th>\n",
       "      <th>age</th>\n",
       "      <th>date_joined</th>\n",
       "      <th>n_dependants</th>\n",
       "      <th>fam_status</th>\n",
       "      <th>income</th>\n",
       "    </tr>\n",
       "  </thead>\n",
       "  <tbody>\n",
       "    <tr>\n",
       "      <th>0</th>\n",
       "      <td>2539329</td>\n",
       "      <td>1</td>\n",
       "      <td>prior</td>\n",
       "      <td>1</td>\n",
       "      <td>2</td>\n",
       "      <td>8</td>\n",
       "      <td>NaN</td>\n",
       "      <td>196</td>\n",
       "      <td>1</td>\n",
       "      <td>0</td>\n",
       "      <td>...</td>\n",
       "      <td>Low spender</td>\n",
       "      <td>20.5</td>\n",
       "      <td>Regular customer</td>\n",
       "      <td>Female</td>\n",
       "      <td>Alabama</td>\n",
       "      <td>31</td>\n",
       "      <td>2/17/2019</td>\n",
       "      <td>3</td>\n",
       "      <td>married</td>\n",
       "      <td>40423</td>\n",
       "    </tr>\n",
       "    <tr>\n",
       "      <th>1</th>\n",
       "      <td>2398795</td>\n",
       "      <td>1</td>\n",
       "      <td>prior</td>\n",
       "      <td>2</td>\n",
       "      <td>3</td>\n",
       "      <td>7</td>\n",
       "      <td>15.0</td>\n",
       "      <td>196</td>\n",
       "      <td>1</td>\n",
       "      <td>1</td>\n",
       "      <td>...</td>\n",
       "      <td>Low spender</td>\n",
       "      <td>20.5</td>\n",
       "      <td>Regular customer</td>\n",
       "      <td>Female</td>\n",
       "      <td>Alabama</td>\n",
       "      <td>31</td>\n",
       "      <td>2/17/2019</td>\n",
       "      <td>3</td>\n",
       "      <td>married</td>\n",
       "      <td>40423</td>\n",
       "    </tr>\n",
       "    <tr>\n",
       "      <th>2</th>\n",
       "      <td>473747</td>\n",
       "      <td>1</td>\n",
       "      <td>prior</td>\n",
       "      <td>3</td>\n",
       "      <td>3</td>\n",
       "      <td>12</td>\n",
       "      <td>21.0</td>\n",
       "      <td>196</td>\n",
       "      <td>1</td>\n",
       "      <td>1</td>\n",
       "      <td>...</td>\n",
       "      <td>Low spender</td>\n",
       "      <td>20.5</td>\n",
       "      <td>Regular customer</td>\n",
       "      <td>Female</td>\n",
       "      <td>Alabama</td>\n",
       "      <td>31</td>\n",
       "      <td>2/17/2019</td>\n",
       "      <td>3</td>\n",
       "      <td>married</td>\n",
       "      <td>40423</td>\n",
       "    </tr>\n",
       "    <tr>\n",
       "      <th>3</th>\n",
       "      <td>2254736</td>\n",
       "      <td>1</td>\n",
       "      <td>prior</td>\n",
       "      <td>4</td>\n",
       "      <td>4</td>\n",
       "      <td>7</td>\n",
       "      <td>29.0</td>\n",
       "      <td>196</td>\n",
       "      <td>1</td>\n",
       "      <td>1</td>\n",
       "      <td>...</td>\n",
       "      <td>Low spender</td>\n",
       "      <td>20.5</td>\n",
       "      <td>Regular customer</td>\n",
       "      <td>Female</td>\n",
       "      <td>Alabama</td>\n",
       "      <td>31</td>\n",
       "      <td>2/17/2019</td>\n",
       "      <td>3</td>\n",
       "      <td>married</td>\n",
       "      <td>40423</td>\n",
       "    </tr>\n",
       "    <tr>\n",
       "      <th>4</th>\n",
       "      <td>431534</td>\n",
       "      <td>1</td>\n",
       "      <td>prior</td>\n",
       "      <td>5</td>\n",
       "      <td>4</td>\n",
       "      <td>15</td>\n",
       "      <td>28.0</td>\n",
       "      <td>196</td>\n",
       "      <td>1</td>\n",
       "      <td>1</td>\n",
       "      <td>...</td>\n",
       "      <td>Low spender</td>\n",
       "      <td>20.5</td>\n",
       "      <td>Regular customer</td>\n",
       "      <td>Female</td>\n",
       "      <td>Alabama</td>\n",
       "      <td>31</td>\n",
       "      <td>2/17/2019</td>\n",
       "      <td>3</td>\n",
       "      <td>married</td>\n",
       "      <td>40423</td>\n",
       "    </tr>\n",
       "  </tbody>\n",
       "</table>\n",
       "<p>5 rows × 32 columns</p>\n",
       "</div>"
      ],
      "text/plain": [
       "   order_id  user_id eval_set  order_number  orders_day_of_week  \\\n",
       "0   2539329        1    prior             1                   2   \n",
       "1   2398795        1    prior             2                   3   \n",
       "2    473747        1    prior             3                   3   \n",
       "3   2254736        1    prior             4                   4   \n",
       "4    431534        1    prior             5                   4   \n",
       "\n",
       "   order_hour_of_day  days_since_previous_order  product_id  \\\n",
       "0                  8                        NaN         196   \n",
       "1                  7                       15.0         196   \n",
       "2                 12                       21.0         196   \n",
       "3                  7                       29.0         196   \n",
       "4                 15                       28.0         196   \n",
       "\n",
       "   add_to_cart_order  reordered  ... spending_flag  median_previous_order  \\\n",
       "0                  1          0  ...   Low spender                   20.5   \n",
       "1                  1          1  ...   Low spender                   20.5   \n",
       "2                  1          1  ...   Low spender                   20.5   \n",
       "3                  1          1  ...   Low spender                   20.5   \n",
       "4                  1          1  ...   Low spender                   20.5   \n",
       "\n",
       "   order_frequency_flag  gender    state age date_joined n_dependants  \\\n",
       "0      Regular customer  Female  Alabama  31   2/17/2019            3   \n",
       "1      Regular customer  Female  Alabama  31   2/17/2019            3   \n",
       "2      Regular customer  Female  Alabama  31   2/17/2019            3   \n",
       "3      Regular customer  Female  Alabama  31   2/17/2019            3   \n",
       "4      Regular customer  Female  Alabama  31   2/17/2019            3   \n",
       "\n",
       "  fam_status  income  \n",
       "0    married   40423  \n",
       "1    married   40423  \n",
       "2    married   40423  \n",
       "3    married   40423  \n",
       "4    married   40423  \n",
       "\n",
       "[5 rows x 32 columns]"
      ]
     },
     "execution_count": 8,
     "metadata": {},
     "output_type": "execute_result"
    }
   ],
   "source": [
    "#Double checking the 2 columns drop\n",
    "df_final_customer.head()"
   ]
  },
  {
   "cell_type": "code",
   "execution_count": 9,
   "id": "5613f401",
   "metadata": {},
   "outputs": [
    {
     "data": {
      "text/plain": [
       "(32434212, 32)"
      ]
     },
     "execution_count": 9,
     "metadata": {},
     "output_type": "execute_result"
    }
   ],
   "source": [
    "# checking shape and dimensions (columns and rows)\n",
    "df_final_customer.shape"
   ]
  },
  {
   "cell_type": "markdown",
   "id": "ea0aca3d",
   "metadata": {},
   "source": [
    "# 3. Regional segmentation\n",
    "\n",
    "The Instacart officers are interested in comparing customer behavior in different geographic areas. Determine whether there’s a difference in spending habits between the different U.S. regions.\n",
    "\n",
    "# Creating a regions column "
   ]
  },
  {
   "cell_type": "code",
   "execution_count": 10,
   "id": "25500fd1",
   "metadata": {},
   "outputs": [
    {
     "data": {
      "text/plain": [
       "state\n",
       "Pennsylvania            667710\n",
       "California              660447\n",
       "Rhode Island            657655\n",
       "Georgia                 657072\n",
       "New Mexico              655143\n",
       "Arizona                 654545\n",
       "North Carolina          652338\n",
       "Oklahoma                652263\n",
       "Alaska                  649020\n",
       "Minnesota               648408\n",
       "Massachusetts           647000\n",
       "Wyoming                 644929\n",
       "Virginia                642075\n",
       "Missouri                641313\n",
       "Texas                   641058\n",
       "Colorado                639752\n",
       "Maine                   639149\n",
       "North Dakota            638999\n",
       "Alabama                 638617\n",
       "Louisiana               638174\n",
       "Kansas                  637991\n",
       "Delaware                637447\n",
       "South Carolina          637348\n",
       "Oregon                  636949\n",
       "Arkansas                636706\n",
       "New York                636697\n",
       "Nevada                  636697\n",
       "Montana                 635835\n",
       "South Dakota            634340\n",
       "Illinois                633490\n",
       "Hawaii                  633445\n",
       "Washington              633421\n",
       "Mississippi             633103\n",
       "Kentucky                632905\n",
       "Michigan                631622\n",
       "Florida                 629582\n",
       "Ohio                    629001\n",
       "Wisconsin               628552\n",
       "New Jersey              628292\n",
       "Indiana                 627768\n",
       "Maryland                627278\n",
       "Nebraska                626297\n",
       "Iowa                    626029\n",
       "Connecticut             623582\n",
       "Tennessee               618396\n",
       "New Hampshire           616006\n",
       "District of Columbia    614293\n",
       "West Virginia           612955\n",
       "Utah                    612451\n",
       "Vermont                 612256\n",
       "Idaho                   607811\n",
       "Name: count, dtype: int64"
      ]
     },
     "execution_count": 10,
     "metadata": {},
     "output_type": "execute_result"
    }
   ],
   "source": [
    "#Checking States total\n",
    "df_final_customer['state'].value_counts(dropna = False)"
   ]
  },
  {
   "cell_type": "code",
   "execution_count": 11,
   "id": "2e6540e3",
   "metadata": {},
   "outputs": [],
   "source": [
    "Midwest = ['Illinois', 'Indiana', 'Iowa', 'Kansas', 'Michigan', 'Minnesota', 'Missouri', 'Nebraska', 'North Dakota', 'Ohio', 'South Dakota', 'Wisconsin']"
   ]
  },
  {
   "cell_type": "code",
   "execution_count": 12,
   "id": "3e6cc71a",
   "metadata": {},
   "outputs": [],
   "source": [
    "West = ['Alaska','Arizona','California', 'Colorado','Hawaii', 'Idaho','Montana', 'Oregon', 'Nevada','New Mexico','Utah', 'Washington' 'Wyoming']"
   ]
  },
  {
   "cell_type": "code",
   "execution_count": 13,
   "id": "8179bc39",
   "metadata": {},
   "outputs": [],
   "source": [
    "Northeast = ['Connecticut', 'Maine', 'Massachusettes', 'New Hampshire', 'New Jersey', 'New York', 'Pennsylvania','Rhode Island', 'Vermont']"
   ]
  },
  {
   "cell_type": "code",
   "execution_count": 14,
   "id": "fdc90b98",
   "metadata": {},
   "outputs": [],
   "source": [
    "South = ['Alabama', 'Arkansas', 'Delaware', 'District of Columbia', 'Florida', 'Georgia', 'Kentucky', 'Louisiana', 'Maryland', 'Mississippi', 'North Carolina', 'Oklahoma', 'South Carolina', 'Tennessee', 'Texas', 'Virginia', 'West Virginia']"
   ]
  },
  {
   "cell_type": "markdown",
   "id": "8f5ce75e",
   "metadata": {},
   "source": [
    "# Using loc to create four regions categories from 50 States and 1 District.\n"
   ]
  },
  {
   "cell_type": "code",
   "execution_count": 15,
   "id": "8c81ab66",
   "metadata": {},
   "outputs": [],
   "source": [
    "\n",
    "df_final_customer.loc[df_final_customer['state'].isin(Midwest), 'region'] = 'Midwest'"
   ]
  },
  {
   "cell_type": "code",
   "execution_count": 16,
   "id": "6790b1df",
   "metadata": {},
   "outputs": [],
   "source": [
    "df_final_customer.loc[df_final_customer['state'].isin(West), 'region'] = 'West'"
   ]
  },
  {
   "cell_type": "code",
   "execution_count": 17,
   "id": "ea8fef0a",
   "metadata": {},
   "outputs": [],
   "source": [
    "df_final_customer.loc[df_final_customer['state'].isin(Northeast), 'region'] = 'Northeast'"
   ]
  },
  {
   "cell_type": "code",
   "execution_count": 18,
   "id": "9db9bdf2",
   "metadata": {},
   "outputs": [],
   "source": [
    "df_final_customer.loc[df_final_customer['state'].isin(South), 'region'] = 'South'"
   ]
  },
  {
   "cell_type": "code",
   "execution_count": 19,
   "id": "a1f929d6",
   "metadata": {},
   "outputs": [
    {
     "data": {
      "text/plain": [
       "region\n",
       "South        10801610\n",
       "Midwest       7603810\n",
       "West          7022095\n",
       "Northeast     5081347\n",
       "NaN           1925350\n",
       "Name: count, dtype: int64"
      ]
     },
     "execution_count": 19,
     "metadata": {},
     "output_type": "execute_result"
    }
   ],
   "source": [
    "# Checking regions by using a count to verify that the category is listed and that the regions are assigned\n",
    "df_final_customer['region'].value_counts(dropna = False)"
   ]
  },
  {
   "cell_type": "code",
   "execution_count": 20,
   "id": "d596bafe",
   "metadata": {
    "scrolled": true
   },
   "outputs": [
    {
     "data": {
      "text/html": [
       "<div>\n",
       "<style scoped>\n",
       "    .dataframe tbody tr th:only-of-type {\n",
       "        vertical-align: middle;\n",
       "    }\n",
       "\n",
       "    .dataframe tbody tr th {\n",
       "        vertical-align: top;\n",
       "    }\n",
       "\n",
       "    .dataframe thead th {\n",
       "        text-align: right;\n",
       "    }\n",
       "</style>\n",
       "<table border=\"1\" class=\"dataframe\">\n",
       "  <thead>\n",
       "    <tr style=\"text-align: right;\">\n",
       "      <th></th>\n",
       "      <th>order_id</th>\n",
       "      <th>user_id</th>\n",
       "      <th>eval_set</th>\n",
       "      <th>order_number</th>\n",
       "      <th>orders_day_of_week</th>\n",
       "      <th>order_hour_of_day</th>\n",
       "      <th>days_since_previous_order</th>\n",
       "      <th>product_id</th>\n",
       "      <th>add_to_cart_order</th>\n",
       "      <th>reordered</th>\n",
       "      <th>...</th>\n",
       "      <th>median_previous_order</th>\n",
       "      <th>order_frequency_flag</th>\n",
       "      <th>gender</th>\n",
       "      <th>state</th>\n",
       "      <th>age</th>\n",
       "      <th>date_joined</th>\n",
       "      <th>n_dependants</th>\n",
       "      <th>fam_status</th>\n",
       "      <th>income</th>\n",
       "      <th>region</th>\n",
       "    </tr>\n",
       "  </thead>\n",
       "  <tbody>\n",
       "    <tr>\n",
       "      <th>0</th>\n",
       "      <td>2539329</td>\n",
       "      <td>1</td>\n",
       "      <td>prior</td>\n",
       "      <td>1</td>\n",
       "      <td>2</td>\n",
       "      <td>8</td>\n",
       "      <td>NaN</td>\n",
       "      <td>196</td>\n",
       "      <td>1</td>\n",
       "      <td>0</td>\n",
       "      <td>...</td>\n",
       "      <td>20.5</td>\n",
       "      <td>Regular customer</td>\n",
       "      <td>Female</td>\n",
       "      <td>Alabama</td>\n",
       "      <td>31</td>\n",
       "      <td>2/17/2019</td>\n",
       "      <td>3</td>\n",
       "      <td>married</td>\n",
       "      <td>40423</td>\n",
       "      <td>South</td>\n",
       "    </tr>\n",
       "    <tr>\n",
       "      <th>1</th>\n",
       "      <td>2398795</td>\n",
       "      <td>1</td>\n",
       "      <td>prior</td>\n",
       "      <td>2</td>\n",
       "      <td>3</td>\n",
       "      <td>7</td>\n",
       "      <td>15.0</td>\n",
       "      <td>196</td>\n",
       "      <td>1</td>\n",
       "      <td>1</td>\n",
       "      <td>...</td>\n",
       "      <td>20.5</td>\n",
       "      <td>Regular customer</td>\n",
       "      <td>Female</td>\n",
       "      <td>Alabama</td>\n",
       "      <td>31</td>\n",
       "      <td>2/17/2019</td>\n",
       "      <td>3</td>\n",
       "      <td>married</td>\n",
       "      <td>40423</td>\n",
       "      <td>South</td>\n",
       "    </tr>\n",
       "    <tr>\n",
       "      <th>2</th>\n",
       "      <td>473747</td>\n",
       "      <td>1</td>\n",
       "      <td>prior</td>\n",
       "      <td>3</td>\n",
       "      <td>3</td>\n",
       "      <td>12</td>\n",
       "      <td>21.0</td>\n",
       "      <td>196</td>\n",
       "      <td>1</td>\n",
       "      <td>1</td>\n",
       "      <td>...</td>\n",
       "      <td>20.5</td>\n",
       "      <td>Regular customer</td>\n",
       "      <td>Female</td>\n",
       "      <td>Alabama</td>\n",
       "      <td>31</td>\n",
       "      <td>2/17/2019</td>\n",
       "      <td>3</td>\n",
       "      <td>married</td>\n",
       "      <td>40423</td>\n",
       "      <td>South</td>\n",
       "    </tr>\n",
       "    <tr>\n",
       "      <th>3</th>\n",
       "      <td>2254736</td>\n",
       "      <td>1</td>\n",
       "      <td>prior</td>\n",
       "      <td>4</td>\n",
       "      <td>4</td>\n",
       "      <td>7</td>\n",
       "      <td>29.0</td>\n",
       "      <td>196</td>\n",
       "      <td>1</td>\n",
       "      <td>1</td>\n",
       "      <td>...</td>\n",
       "      <td>20.5</td>\n",
       "      <td>Regular customer</td>\n",
       "      <td>Female</td>\n",
       "      <td>Alabama</td>\n",
       "      <td>31</td>\n",
       "      <td>2/17/2019</td>\n",
       "      <td>3</td>\n",
       "      <td>married</td>\n",
       "      <td>40423</td>\n",
       "      <td>South</td>\n",
       "    </tr>\n",
       "    <tr>\n",
       "      <th>4</th>\n",
       "      <td>431534</td>\n",
       "      <td>1</td>\n",
       "      <td>prior</td>\n",
       "      <td>5</td>\n",
       "      <td>4</td>\n",
       "      <td>15</td>\n",
       "      <td>28.0</td>\n",
       "      <td>196</td>\n",
       "      <td>1</td>\n",
       "      <td>1</td>\n",
       "      <td>...</td>\n",
       "      <td>20.5</td>\n",
       "      <td>Regular customer</td>\n",
       "      <td>Female</td>\n",
       "      <td>Alabama</td>\n",
       "      <td>31</td>\n",
       "      <td>2/17/2019</td>\n",
       "      <td>3</td>\n",
       "      <td>married</td>\n",
       "      <td>40423</td>\n",
       "      <td>South</td>\n",
       "    </tr>\n",
       "  </tbody>\n",
       "</table>\n",
       "<p>5 rows × 33 columns</p>\n",
       "</div>"
      ],
      "text/plain": [
       "   order_id  user_id eval_set  order_number  orders_day_of_week  \\\n",
       "0   2539329        1    prior             1                   2   \n",
       "1   2398795        1    prior             2                   3   \n",
       "2    473747        1    prior             3                   3   \n",
       "3   2254736        1    prior             4                   4   \n",
       "4    431534        1    prior             5                   4   \n",
       "\n",
       "   order_hour_of_day  days_since_previous_order  product_id  \\\n",
       "0                  8                        NaN         196   \n",
       "1                  7                       15.0         196   \n",
       "2                 12                       21.0         196   \n",
       "3                  7                       29.0         196   \n",
       "4                 15                       28.0         196   \n",
       "\n",
       "   add_to_cart_order  reordered  ... median_previous_order  \\\n",
       "0                  1          0  ...                  20.5   \n",
       "1                  1          1  ...                  20.5   \n",
       "2                  1          1  ...                  20.5   \n",
       "3                  1          1  ...                  20.5   \n",
       "4                  1          1  ...                  20.5   \n",
       "\n",
       "   order_frequency_flag  gender    state age date_joined n_dependants  \\\n",
       "0      Regular customer  Female  Alabama  31   2/17/2019            3   \n",
       "1      Regular customer  Female  Alabama  31   2/17/2019            3   \n",
       "2      Regular customer  Female  Alabama  31   2/17/2019            3   \n",
       "3      Regular customer  Female  Alabama  31   2/17/2019            3   \n",
       "4      Regular customer  Female  Alabama  31   2/17/2019            3   \n",
       "\n",
       "  fam_status income  region  \n",
       "0    married  40423   South  \n",
       "1    married  40423   South  \n",
       "2    married  40423   South  \n",
       "3    married  40423   South  \n",
       "4    married  40423   South  \n",
       "\n",
       "[5 rows x 33 columns]"
      ]
     },
     "execution_count": 20,
     "metadata": {},
     "output_type": "execute_result"
    }
   ],
   "source": [
    "#Double checking the regions\n",
    "df_final_customer.head()"
   ]
  },
  {
   "cell_type": "code",
   "execution_count": 21,
   "id": "6bd396a6",
   "metadata": {},
   "outputs": [
    {
     "data": {
      "text/plain": [
       "30508862"
      ]
     },
     "execution_count": 21,
     "metadata": {},
     "output_type": "execute_result"
    }
   ],
   "source": [
    "# checking dimensions (rows count for regions)\n",
    "df_final_customer['region'].count()"
   ]
  },
  {
   "cell_type": "markdown",
   "id": "bfbf6a16",
   "metadata": {},
   "source": [
    "# Creating a Spending Flag"
   ]
  },
  {
   "cell_type": "markdown",
   "id": "e0265f80",
   "metadata": {},
   "source": [
    "# Creating a variable with the spending flag in order to determine whether there’s a difference in spending habits between the different U.S. regions"
   ]
  },
  {
   "cell_type": "code",
   "execution_count": 22,
   "id": "17043a1b",
   "metadata": {},
   "outputs": [],
   "source": [
    "#Creating a crosstab \n",
    "#Comparing regions with spending_flag spending habits between the different U.S. regions \n",
    "regional_crosstab=pd.crosstab(df_final_customer['region'], df_final_customer['spending_flag'],dropna=False)"
   ]
  },
  {
   "cell_type": "code",
   "execution_count": 23,
   "id": "739d27f1",
   "metadata": {},
   "outputs": [],
   "source": [
    "#Creating a clipboard to paste into Excel of regional_crosstab\n",
    "regional_crosstab.to_clipboard()"
   ]
  },
  {
   "cell_type": "code",
   "execution_count": 24,
   "id": "cfb63f28",
   "metadata": {
    "scrolled": true
   },
   "outputs": [
    {
     "data": {
      "text/html": [
       "<div>\n",
       "<style scoped>\n",
       "    .dataframe tbody tr th:only-of-type {\n",
       "        vertical-align: middle;\n",
       "    }\n",
       "\n",
       "    .dataframe tbody tr th {\n",
       "        vertical-align: top;\n",
       "    }\n",
       "\n",
       "    .dataframe thead th {\n",
       "        text-align: right;\n",
       "    }\n",
       "</style>\n",
       "<table border=\"1\" class=\"dataframe\">\n",
       "  <thead>\n",
       "    <tr style=\"text-align: right;\">\n",
       "      <th>spending_flag</th>\n",
       "      <th>High spender</th>\n",
       "      <th>Low spender</th>\n",
       "    </tr>\n",
       "    <tr>\n",
       "      <th>region</th>\n",
       "      <th></th>\n",
       "      <th></th>\n",
       "    </tr>\n",
       "  </thead>\n",
       "  <tbody>\n",
       "    <tr>\n",
       "      <th>Midwest</th>\n",
       "      <td>156129</td>\n",
       "      <td>7447681</td>\n",
       "    </tr>\n",
       "    <tr>\n",
       "      <th>Northeast</th>\n",
       "      <td>98662</td>\n",
       "      <td>4982685</td>\n",
       "    </tr>\n",
       "    <tr>\n",
       "      <th>South</th>\n",
       "      <td>210182</td>\n",
       "      <td>10591428</td>\n",
       "    </tr>\n",
       "    <tr>\n",
       "      <th>West</th>\n",
       "      <td>132771</td>\n",
       "      <td>6889324</td>\n",
       "    </tr>\n",
       "  </tbody>\n",
       "</table>\n",
       "</div>"
      ],
      "text/plain": [
       "spending_flag  High spender  Low spender\n",
       "region                                  \n",
       "Midwest              156129      7447681\n",
       "Northeast             98662      4982685\n",
       "South                210182     10591428\n",
       "West                 132771      6889324"
      ]
     },
     "execution_count": 24,
     "metadata": {},
     "output_type": "execute_result"
    }
   ],
   "source": [
    "#Checking crosstab\n",
    "regional_crosstab"
   ]
  },
  {
   "cell_type": "markdown",
   "id": "76e8e6c4",
   "metadata": {},
   "source": [
    "# Results of spending_flag: \n",
    "1. The South region has the highest count value of all four regions at 35%,\n",
    "2. The Midwest at 25%\n",
    "3. The West at 23%\n",
    "and\n",
    "4. The Northeast has the lowest count value at 17%.\n",
    "\n",
    "In terms of comparing of High and Low Spenders overall for the four regions, the same results can be seen; The majority of customers at 98% are Low spenders, while only 2% are High spender. "
   ]
  },
  {
   "cell_type": "markdown",
   "id": "e09291fe",
   "metadata": {},
   "source": [
    "# 4. Creating an Exclusion flag\n",
    "\n",
    "The Instacart CFO isn’t interested in customers who don’t generate much revenue for the app. Create an exclusion flag for low-activity customers (customers with less than 5 orders) and exclude them from the data. Make sure you export this sample."
   ]
  },
  {
   "cell_type": "code",
   "execution_count": 25,
   "id": "4cdaef02",
   "metadata": {},
   "outputs": [],
   "source": [
    "# Creating and exporting an exclusion flag for low-activity customers \n",
    "#(customers with less than 5 orders) and excluding them from the data\n",
    "df_final_customer.loc[df_final_customer['max_order'] > 4, 'exclusion_flag'] = 'active customer'"
   ]
  },
  {
   "cell_type": "code",
   "execution_count": 26,
   "id": "da1dfdd6",
   "metadata": {},
   "outputs": [],
   "source": [
    "df_final_customer.loc[df_final_customer['max_order'] <= 4, 'exclusion_flag'] = 'low activity customer'"
   ]
  },
  {
   "cell_type": "code",
   "execution_count": 27,
   "id": "5ad55955",
   "metadata": {},
   "outputs": [
    {
     "data": {
      "text/plain": [
       "exclusion_flag\n",
       "active customer          30992664\n",
       "low activity customer     1441548\n",
       "Name: count, dtype: int64"
      ]
     },
     "execution_count": 27,
     "metadata": {},
     "output_type": "execute_result"
    }
   ],
   "source": [
    "df_final_customer['exclusion_flag'].value_counts(dropna=False)"
   ]
  },
  {
   "cell_type": "code",
   "execution_count": null,
   "id": "3c927f25",
   "metadata": {},
   "outputs": [],
   "source": [
    "#Creating a subset to export low activity customers' data \n",
    "df_final_customer_low = df_final_customer[df_final_customer['exclusion_flag']=='low activity customer']"
   ]
  },
  {
   "cell_type": "code",
   "execution_count": null,
   "id": "77d137c0",
   "metadata": {},
   "outputs": [],
   "source": [
    "#Exporting low subset data to file\n",
    "df_final_customer_low.to_pickle(os.path.join(path, '02 Data', 'Prepared Data', 'df_final_low_activity_customers.pkl'))"
   ]
  },
  {
   "cell_type": "code",
   "execution_count": null,
   "id": "a91724c8",
   "metadata": {},
   "outputs": [],
   "source": [
    "#Deleting low activity from df\n",
    "df_final_customer = df_final_customer[df_final_customer.exclusion_flag != 'low activity customer']"
   ]
  },
  {
   "cell_type": "code",
   "execution_count": null,
   "id": "96a99a8a",
   "metadata": {},
   "outputs": [],
   "source": [
    "#Checking if low activity removed correctly from df\n",
    "df_final_customer.shape"
   ]
  },
  {
   "cell_type": "code",
   "execution_count": null,
   "id": "f46f8a65",
   "metadata": {},
   "outputs": [],
   "source": [
    "# Exporting removed new df to IC folder\n",
    "df_final_customer.to_pickle(os.path.join(path, '02 Data', 'Prepared Data','final_orders_products_active.pkl'))"
   ]
  }
 ],
 "metadata": {
  "kernelspec": {
   "display_name": "Python 3 (ipykernel)",
   "language": "python",
   "name": "python3"
  },
  "language_info": {
   "codemirror_mode": {
    "name": "ipython",
    "version": 3
   },
   "file_extension": ".py",
   "mimetype": "text/x-python",
   "name": "python",
   "nbconvert_exporter": "python",
   "pygments_lexer": "ipython3",
   "version": "3.11.4"
  }
 },
 "nbformat": 4,
 "nbformat_minor": 5
}
